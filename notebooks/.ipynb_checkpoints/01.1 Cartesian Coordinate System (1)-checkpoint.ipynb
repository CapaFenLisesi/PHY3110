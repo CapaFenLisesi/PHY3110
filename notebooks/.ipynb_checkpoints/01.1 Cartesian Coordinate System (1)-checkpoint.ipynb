{
 "metadata": {
  "name": "",
  "signature": "sha256:259d1c85fcee057d2d640a369171cdcde5fbb429d914581a91f4ec4cbca55b8f"
 },
 "nbformat": 3,
 "nbformat_minor": 0,
 "worksheets": [
  {
   "cells": [
    {
     "cell_type": "heading",
     "level": 1,
     "metadata": {},
     "source": [
      "Cartesian Coordinate System"
     ]
    },
    {
     "cell_type": "markdown",
     "metadata": {},
     "source": [
      "A Cartesian coordinate system is made up of linear unit vectors perpendicular to each other. A particle's position is\n",
      "\n",
      "$$\\vec{r}=<x,y,z>$$\n",
      "\n",
      "The unit vectors are:\n",
      "\n",
      "$$\\hat{x}=<1,0,0>$$\n",
      "$$\\hat{y}=<0,1,0>$$\n",
      "$$\\hat{z}=<0,0,1>$$\n",
      "\n",
      "We can also write the position vector in terms of these unit vectors.\n",
      "\n",
      "$$\\vec{r}=x\\hat{x}+y\\hat{y}+z\\hat{z}$$\n",
      "\n",
      "The magnitude of the vector is\n",
      "\n",
      "$$|\\vec{r}|=\\sqrt{x^2+y^2+z^2}$$\n",
      "\n",
      "Suppose that the position vector makes angles with the x, y, z axes of $(\\theta_x)$, $(\\theta_y)$, $(\\theta_z)$ respectively. You can calculate each angle using *direction cosines*.\n",
      "\n",
      "$$\\cos\\theta_x = \\frac{x}{|\\vec{r}|}$$\n",
      "$$\\cos\\theta_y = \\frac{y}{|\\vec{r}|}$$\n",
      "$$\\cos\\theta_z = \\frac{z}{|\\vec{r}|}$$"
     ]
    },
    {
     "cell_type": "heading",
     "level": 2,
     "metadata": {},
     "source": [
      "Using iVisual to display a Cartesian Coordinate System"
     ]
    },
    {
     "cell_type": "markdown",
     "metadata": {},
     "source": [
      "First, import the necessary packages."
     ]
    },
    {
     "cell_type": "code",
     "collapsed": false,
     "input": [
      "from __future__ import division, print_function\n",
      "from ivisual import *"
     ],
     "language": "python",
     "metadata": {},
     "outputs": [],
     "prompt_number": 2
    },
    {
     "cell_type": "markdown",
     "metadata": {},
     "source": [
      "Create the scene and draw axes and unit vectors. Unit vectors have a length of 1. The axes can be as long as we wish. In this case they are 15 units long."
     ]
    },
    {
     "cell_type": "code",
     "collapsed": false,
     "input": [
      "#create scene\n",
      "scene = canvas(title='Cartesian Coordinate System')\n",
      "\n",
      "#instructions for manipulating the 3D scene\n",
      "print(\"\"\"\n",
      "Right button drag to rotate \"camera\" to view scene.\n",
      "  On a one-button mouse, right is Command + mouse.\n",
      "Middle button to drag up or down to zoom in or out.\n",
      "  On a two-button mouse, middle is left + right.\n",
      "  On a one-button mouse, middle is Option + mouse.\n",
      "\"\"\")\n",
      "\n",
      "#draw x, y, z axes\n",
      "L=15 #length of axes\n",
      "sw=L/100 #shiftwidth of axes\n",
      "xaxis=arrow(pos=(-L/2,0,0), axis=(L,0,0), shaftwidth=sw)\n",
      "yaxis=arrow(pos=(0,-L/2,0), axis=(0,L,0), shaftwidth=sw)\n",
      "zaxis=arrow(pos=(0,0,-L/2), axis=(0,0,L), shaftwidth=sw)\n",
      "\n",
      "#draw unit vectors\n",
      "xhat=arrow(pos=(0,0,0), axis=(1,0,0), shaftwidth=2*sw, color=color.orange)\n",
      "yhat=arrow(pos=(0,0,0), axis=(0,1,0), shaftwidth=2*sw, color=color.orange)\n",
      "zhat=arrow(pos=(0,0,0), axis=(0,0,1), shaftwidth=2*sw, color=color.orange)\n"
     ],
     "language": "python",
     "metadata": {},
     "outputs": [
      {
       "html": [
        "<div id=\"scene5\"><div id=\"glowscript\" class=\"glowscript\"></div></div>"
       ],
       "metadata": {},
       "output_type": "display_data",
       "text": [
        "<IPython.core.display.HTML at 0x105a65a10>"
       ]
      },
      {
       "javascript": [
        "window.__context = { glowscript_container: $(\"#glowscript\").removeAttr(\"id\")}"
       ],
       "metadata": {},
       "output_type": "display_data",
       "text": [
        "<IPython.core.display.Javascript at 0x105a4b550>"
       ]
      },
      {
       "output_type": "stream",
       "stream": "stdout",
       "text": [
        "\n",
        "Right button drag to rotate \"camera\" to view scene.\n",
        "  On a one-button mouse, right is Command + mouse.\n",
        "Middle button to drag up or down to zoom in or out.\n",
        "  On a two-button mouse, middle is left + right.\n",
        "  On a one-button mouse, middle is Option + mouse.\n",
        "\n"
       ]
      }
     ],
     "prompt_number": 8
    },
    {
     "cell_type": "heading",
     "level": 2,
     "metadata": {},
     "source": [
      "Defining and displaying a vector"
     ]
    },
    {
     "cell_type": "markdown",
     "metadata": {},
     "source": [
      "Suppose that we want to display the vector $\\vec{r}=<3,4,5>$ m. First define the vector in iVisual. Then draw an arrow with a tail at the origin and an axis equal to $\\vec{r}$. Note that the resulting vector will be displayed in the scene shown above."
     ]
    },
    {
     "cell_type": "code",
     "collapsed": false,
     "input": [
      "#define a vector\n",
      "r=vector(3,4,5)\n",
      "\n",
      "#draw the vector\n",
      "rarrow=arrow(pos=(0,0,0), axis=r, shaftwidth=2*sw, color=color.yellow)"
     ],
     "language": "python",
     "metadata": {},
     "outputs": [],
     "prompt_number": 9
    },
    {
     "cell_type": "markdown",
     "metadata": {},
     "source": [
      "Since $\\vec{r}=x\\hat{x} + y\\hat{y} + z\\hat{z}$ then we can show that the sum of the components is equal to the vector. Let's draw the components. However, let's draw in a way that shows that their sum is equal to the vector $\\vec{r}$. Once again, after executing the cell you will have to scroll up to view the scene. Rotate the scene around so that you can see the components."
     ]
    },
    {
     "cell_type": "code",
     "collapsed": false,
     "input": [
      "#draw the vector components\n",
      "rxarrow=arrow(pos=(0,0,0), axis=(r.x,0,0), shaftwidth=2*sw, color=color.red)\n",
      "ryarrow=arrow(pos=rxarrow.axis, axis=(0,r.y,0), shaftwidth=2*sw, color=color.green)\n",
      "rzarrow=arrow(pos=ryarrow.pos+ryarrow.axis, axis=(0,0,r.z), shaftwidth=2*sw, color=color.blue)"
     ],
     "language": "python",
     "metadata": {},
     "outputs": [],
     "prompt_number": 11
    },
    {
     "cell_type": "heading",
     "level": 2,
     "metadata": {},
     "source": [
      "Calculating the angles between the vectors and the axes"
     ]
    },
    {
     "cell_type": "markdown",
     "metadata": {},
     "source": [
      "The vector is $\\vec{r}=<3,4,5>$ m. What is the magnitude of the vector and what angle does it make with each axis ($\\theta_x,\\, \\theta_y,\\, \\theta_z$)?  You should calculate it by hand first."
     ]
    },
    {
     "cell_type": "markdown",
     "metadata": {},
     "source": [
      "Now let's use iVisual to calculate it. The mag( ) function computes the magnitude of a vector. "
     ]
    },
    {
     "cell_type": "code",
     "collapsed": false,
     "input": [
      "#calculate the magnitude of the vector and print it\n",
      "rmag=mag(r)\n",
      "print(\"|r| = \", rmag)"
     ],
     "language": "python",
     "metadata": {},
     "outputs": [
      {
       "output_type": "stream",
       "stream": "stdout",
       "text": [
        "|r| =  7.07106781187"
       ]
      },
      {
       "output_type": "stream",
       "stream": "stdout",
       "text": [
        "\n"
       ]
      }
     ],
     "prompt_number": 12
    },
    {
     "cell_type": "code",
     "collapsed": false,
     "input": [
      "#import math to get acos function\n",
      "from math import *\n",
      "\n",
      "#calculate the angle that the vector makes with each axis\n",
      "#acos returns the angle in rad. You have to convert to deg if you want deg\n",
      "theta_x = acos(r.x/mag(r))*180/pi\n",
      "theta_y = acos(r.y/mag(r))*180/pi\n",
      "theta_z = acos(r.z/mag(r))*180/pi\n",
      "\n",
      "print(\"theta_x = \", theta_x)\n",
      "print(\"theta_y = \", theta_y)\n",
      "print(\"theta_z = \", theta_z)"
     ],
     "language": "python",
     "metadata": {},
     "outputs": [
      {
       "output_type": "stream",
       "stream": "stdout",
       "text": [
        "theta_x =  64.8959097498\n",
        "theta_y =  55.550098012\n",
        "theta_z =  45.0\n"
       ]
      }
     ],
     "prompt_number": 20
    },
    {
     "cell_type": "code",
     "collapsed": false,
     "input": [],
     "language": "python",
     "metadata": {},
     "outputs": []
    }
   ],
   "metadata": {}
  }
 ]
}