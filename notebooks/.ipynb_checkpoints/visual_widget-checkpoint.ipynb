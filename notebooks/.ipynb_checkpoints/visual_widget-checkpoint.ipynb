{
 "metadata": {
  "name": "",
  "signature": "sha256:b198934bdba9a0f2fedfbb351dea6baa4bcebd6c9a3fe609c839960f058beba0"
 },
 "nbformat": 3,
 "nbformat_minor": 0,
 "worksheets": [
  {
   "cells": [
    {
     "cell_type": "code",
     "collapsed": false,
     "input": [
      "# After installing ivisual package using :  pip install ivisual\n",
      "from ivisual import *\n",
      "from IPython.html.widgets import *\n",
      "from IPython.html import widgets\n",
      "from IPython.display import display # Used to display widgets in the notebook\n",
      "from IPython.utils.traitlets import * # Used to declare attributes of our widget"
     ],
     "language": "python",
     "metadata": {},
     "outputs": [
      {
       "html": [
        "<div id=\"scene\"><div id=\"glowscript\" class=\"glowscript\"></div></div>"
       ],
       "metadata": {},
       "output_type": "display_data",
       "text": [
        "<IPython.core.display.HTML at 0x4ea94e0>"
       ]
      },
      {
       "javascript": [
        "require.undef(\"nbextensions/glow.1.0.min\");"
       ],
       "metadata": {},
       "output_type": "display_data",
       "text": [
        "<IPython.core.display.Javascript at 0x4ea9f28>"
       ]
      },
      {
       "javascript": [
        "require.undef(\"nbextensions/glowcomm\");"
       ],
       "metadata": {},
       "output_type": "display_data",
       "text": [
        "<IPython.core.display.Javascript at 0x4ea9f60>"
       ]
      },
      {
       "javascript": [
        "require([\"nbextensions/glowcomm\"], function(){console.log(\"glowcomm loaded\");})"
       ],
       "metadata": {},
       "output_type": "display_data",
       "text": [
        "<IPython.core.display.Javascript at 0x4ea9f98>"
       ]
      }
     ],
     "prompt_number": 1
    },
    {
     "cell_type": "code",
     "collapsed": false,
     "input": [
      "scene = idisplay(title=\"Visual + Widget\")\n",
      "floor = box(length=4, height=0.5, width=4, color=color.blue)\n",
      "\n",
      "ball = sphere(pos=(0,4,0), color=color.red)\n",
      "ball.velocity = vector(0,-1,0)\n",
      "\n",
      "float_range = widgets.FloatSliderWidget(min=1.25, max=6.0, step=0.1, description='ball height')\n",
      "\n",
      "display(float_range)\n",
      "\n",
      "def on_value_change(name, value):\n",
      "    ball.y = value\n",
      "    \n",
      "float_range.on_trait_change(on_value_change, 'value')   # listen only for the value trait on int_range\n",
      "\n",
      "t = 0.0\n",
      "dt = 0.01\n",
      "while t < 20.0:\n",
      "    rate(100)\n",
      "    t += dt\n",
      "    ball.pos = ball.pos + ball.velocity*dt\n",
      "    if ball.y < 1:\n",
      "        ball.velocity.y = -ball.velocity.y\n",
      "    else:\n",
      "        ball.velocity.y = ball.velocity.y - 9.8*dt\n",
      "\n"
     ],
     "language": "python",
     "metadata": {},
     "outputs": [
      {
       "html": [
        "<div id=\"scene1\"><div id=\"glowscript\" class=\"glowscript\"></div></div>"
       ],
       "metadata": {},
       "output_type": "display_data",
       "text": [
        "<IPython.core.display.HTML at 0x4fbacf8>"
       ]
      },
      {
       "javascript": [
        "window.__context = { glowscript_container: $(\"#glowscript\").removeAttr(\"id\")}"
       ],
       "metadata": {},
       "output_type": "display_data",
       "text": [
        "<IPython.core.display.Javascript at 0x4ea9c18>"
       ]
      }
     ],
     "prompt_number": 2
    },
    {
     "cell_type": "code",
     "collapsed": false,
     "input": [
      "class MouseWidget(widgets.Widget):\n",
      "    _view_name = Unicode('MouseView', sync=True)\n",
      "    value = CInt(0, sync=True)\n",
      "    selector = Unicode('#scene1 canvas', sync=True)\n",
      "    evt = Dict(None, sync=True)\n",
      "    def _value_changed(self, name, new):\n",
      "        pass\n",
      "    def _evt_changed(self, name, new):\n",
      "        print (name,'on mouse has changed to:', new, self.model_id)    \n"
     ],
     "language": "python",
     "metadata": {},
     "outputs": [],
     "prompt_number": 3
    },
    {
     "cell_type": "code",
     "collapsed": false,
     "input": [
      "m = MouseWidget(value=0.0)"
     ],
     "language": "python",
     "metadata": {},
     "outputs": [],
     "prompt_number": 4
    },
    {
     "cell_type": "code",
     "collapsed": false,
     "input": [
      "display(m)"
     ],
     "language": "python",
     "metadata": {},
     "outputs": [],
     "prompt_number": 5
    },
    {
     "cell_type": "code",
     "collapsed": false,
     "input": [],
     "language": "python",
     "metadata": {},
     "outputs": []
    }
   ],
   "metadata": {}
  }
 ]
}