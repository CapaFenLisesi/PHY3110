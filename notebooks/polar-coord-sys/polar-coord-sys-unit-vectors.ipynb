{
 "metadata": {
  "name": "",
  "signature": "sha256:4a9467af366d22ad4add2f84726469132e05e4f49d51475b3cf85ec15300fd93"
 },
 "nbformat": 3,
 "nbformat_minor": 0,
 "worksheets": [
  {
   "cells": [
    {
     "cell_type": "code",
     "collapsed": false,
     "input": [
      "from __future__ import division, print_function\n",
      "from ivisual import *\n",
      "from numpy import *"
     ],
     "language": "python",
     "metadata": {},
     "outputs": [
      {
       "html": [
        "<div id=\"scene\"><div id=\"glowscript\" class=\"glowscript\"></div></div>"
       ],
       "metadata": {},
       "output_type": "display_data",
       "text": [
        "<IPython.core.display.HTML at 0x103752a90>"
       ]
      },
      {
       "javascript": [
        "require.undef(\"nbextensions/glow.1.0.min\");"
       ],
       "metadata": {},
       "output_type": "display_data",
       "text": [
        "<IPython.core.display.Javascript at 0x103774790>"
       ]
      },
      {
       "javascript": [
        "require.undef(\"nbextensions/glowcomm\");"
       ],
       "metadata": {},
       "output_type": "display_data",
       "text": [
        "<IPython.core.display.Javascript at 0x1037747d0>"
       ]
      },
      {
       "javascript": [
        "require([\"nbextensions/glowcomm\"], function(){console.log(\"glowcomm loaded\");})"
       ],
       "metadata": {},
       "output_type": "display_data",
       "text": [
        "<IPython.core.display.Javascript at 0x103774810>"
       ]
      }
     ],
     "prompt_number": 1
    },
    {
     "cell_type": "code",
     "collapsed": false,
     "input": [
      "scene = canvas(title='Polar Coordinate System')\n",
      "\n",
      "#draw circles of various radii\n",
      "R=1\n",
      "r=R/50\n",
      "c1=ring(pos=(0,0,0), axis=(0,0,1), radius=1*R, thickness=r, color=color.orange)\n",
      "c2=ring(pos=(0,0,0), axis=(0,0,1), radius=2*R, thickness=r, color=color.orange)\n",
      "\n",
      "#define a list with r,\\phi components with phi in degrees\n",
      "r1=[2,30]\n",
      "\n",
      "#convert to cartesian coord and draw\n",
      "sw=R/25 #shaftwidth for arrows\n",
      "r1arrow=arrow(pos=(0,0,0), axis=vector(r1[0]*cos(r1[1]*pi/180), r1[0]*sin(r1[1]*pi/180),0), \n",
      "              shaftwidth=sw, color=color.cyan)\n",
      "r1unitr=arrow(pos=r1arrow.axis, axis=norm(r1arrow.axis), \n",
      "              shaftwidth=sw, color=color.blue)\n",
      "r1unitphi=arrow(pos=r1arrow.axis, axis=norm(vector(-r1[0]*sin(r1[1]*pi/180), r1[0]*cos(r1[1]*pi/180),0)), \n",
      "              shaftwidth=sw, color=color.green)\n"
     ],
     "language": "python",
     "metadata": {},
     "outputs": [
      {
       "html": [
        "<div id=\"scene2\"><div id=\"glowscript\" class=\"glowscript\"></div></div>"
       ],
       "metadata": {},
       "output_type": "display_data",
       "text": [
        "<IPython.core.display.HTML at 0x1037cfad0>"
       ]
      },
      {
       "javascript": [
        "window.__context = { glowscript_container: $(\"#glowscript\").removeAttr(\"id\")}"
       ],
       "metadata": {},
       "output_type": "display_data",
       "text": [
        "<IPython.core.display.Javascript at 0x103752b50>"
       ]
      }
     ],
     "prompt_number": 3
    },
    {
     "cell_type": "code",
     "collapsed": false,
     "input": [],
     "language": "python",
     "metadata": {},
     "outputs": []
    }
   ],
   "metadata": {}
  }
 ]
}