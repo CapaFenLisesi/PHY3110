{
 "metadata": {
  "name": "",
  "signature": "sha256:d4cc62ea7d56ff4edf746bfbeb8267d24febbb0a2a731db2aa0c9e4e5a0aecc7"
 },
 "nbformat": 3,
 "nbformat_minor": 0,
 "worksheets": [
  {
   "cells": [
    {
     "cell_type": "code",
     "collapsed": false,
     "input": [
      "from __future__ import division, print_function\n",
      "from ivisual import *\n",
      "from numpy import *"
     ],
     "language": "python",
     "metadata": {},
     "outputs": [
      {
       "html": [
        "<div id=\"scene\"><div id=\"glowscript\" class=\"glowscript\"></div></div>"
       ],
       "metadata": {},
       "output_type": "display_data",
       "text": [
        "<IPython.core.display.HTML at 0x102f9fd50>"
       ]
      },
      {
       "javascript": [
        "require.undef(\"nbextensions/glow.1.0.min\");"
       ],
       "metadata": {},
       "output_type": "display_data",
       "text": [
        "<IPython.core.display.Javascript at 0x105a6f710>"
       ]
      },
      {
       "javascript": [
        "require.undef(\"nbextensions/glowcomm\");"
       ],
       "metadata": {},
       "output_type": "display_data",
       "text": [
        "<IPython.core.display.Javascript at 0x105a6f750>"
       ]
      },
      {
       "javascript": [
        "require([\"nbextensions/glowcomm\"], function(){console.log(\"glowcomm loaded\");})"
       ],
       "metadata": {},
       "output_type": "display_data",
       "text": [
        "<IPython.core.display.Javascript at 0x105a6f790>"
       ]
      }
     ],
     "prompt_number": 1
    },
    {
     "cell_type": "code",
     "collapsed": false,
     "input": [
      "scene = canvas(title='Polar Coordinate System')\n",
      "\n",
      "#draw circles of various radii\n",
      "R=1\n",
      "r=R/50\n",
      "c1=ring(pos=(0,0,0), axis=(0,0,1), radius=1*R, thickness=r, color=color.orange)\n",
      "c2=ring(pos=(0,0,0), axis=(0,0,1), radius=2*R, thickness=r, color=color.orange)\n",
      "\n",
      "#define a list with r,\\phi components with phi in degrees\n",
      "r1=[1,30]\n",
      "r2=[1,60]\n",
      "r3=[2,0]\n",
      "\n",
      "#convert to cartesian coord and draw\n",
      "sw=R/25 #shaftwidth for arrows\n",
      "r1arrow=arrow(pos=(0,0,0), axis=vector(r1[0]*cos(r1[1]*pi/180), r1[0]*sin(r1[1]*pi/180),0), \n",
      "              shaftwidth=sw, color=color.red)\n",
      "r2arrow=arrow(pos=(0,0,0), axis=vector(r2[0]*cos(r2[1]*pi/180), r2[0]*sin(r2[1]*pi/180),0), \n",
      "              shaftwidth=sw, color=color.green)\n",
      "r3arrow=arrow(pos=(0,0,0), axis=vector(r3[0]*cos(r3[1]*pi/180), r3[0]*sin(r3[1]*pi/180),0), \n",
      "              shaftwidth=sw, color=color.cyan)\n"
     ],
     "language": "python",
     "metadata": {},
     "outputs": [
      {
       "html": [
        "<div id=\"scene2\"><div id=\"glowscript\" class=\"glowscript\"></div></div>"
       ],
       "metadata": {},
       "output_type": "display_data",
       "text": [
        "<IPython.core.display.HTML at 0x105ad3510>"
       ]
      },
      {
       "javascript": [
        "window.__context = { glowscript_container: $(\"#glowscript\").removeAttr(\"id\")}"
       ],
       "metadata": {},
       "output_type": "display_data",
       "text": [
        "<IPython.core.display.Javascript at 0x105ac2310>"
       ]
      }
     ],
     "prompt_number": 3
    },
    {
     "cell_type": "code",
     "collapsed": false,
     "input": [],
     "language": "python",
     "metadata": {},
     "outputs": []
    }
   ],
   "metadata": {}
  }
 ]
}