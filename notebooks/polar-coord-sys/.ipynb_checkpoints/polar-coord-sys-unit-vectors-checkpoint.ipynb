{
 "metadata": {
  "name": "",
  "signature": "sha256:02e70ccdf879d508fe7a8a9ba0eaa0f23adfbcb003fe213dc7c6472bd161ed03"
 },
 "nbformat": 3,
 "nbformat_minor": 0,
 "worksheets": [
  {
   "cells": [
    {
     "cell_type": "code",
     "collapsed": false,
     "input": [
      "from __future__ import division, print_function\n",
      "from ivisual import *\n",
      "from numpy import *"
     ],
     "language": "python",
     "metadata": {},
     "outputs": [
      {
       "html": [
        "<div id=\"scene\"><div id=\"glowscript\" class=\"glowscript\"></div></div>"
       ],
       "metadata": {},
       "output_type": "display_data",
       "text": [
        "<IPython.core.display.HTML at 0x1027a3c50>"
       ]
      },
      {
       "javascript": [
        "require.undef(\"nbextensions/glow.1.0.min\");"
       ],
       "metadata": {},
       "output_type": "display_data",
       "text": [
        "<IPython.core.display.Javascript at 0x1027a3c90>"
       ]
      },
      {
       "javascript": [
        "require.undef(\"nbextensions/glowcomm\");"
       ],
       "metadata": {},
       "output_type": "display_data",
       "text": [
        "<IPython.core.display.Javascript at 0x1052b4310>"
       ]
      },
      {
       "javascript": [
        "require([\"nbextensions/glowcomm\"], function(){console.log(\"glowcomm loaded\");})"
       ],
       "metadata": {},
       "output_type": "display_data",
       "text": [
        "<IPython.core.display.Javascript at 0x1052b4450>"
       ]
      }
     ],
     "prompt_number": 1
    },
    {
     "cell_type": "code",
     "collapsed": false,
     "input": [
      "scene = idisplay('Polar Coordinate System')\n",
      "print(\"\"\"\n",
      "Right button drag to rotate \"camera\" to view scene.\n",
      "  On a one-button mouse, right is Command + mouse.\n",
      "Middle button to drag up or down to zoom in or out.\n",
      "  On a two-button mouse, middle is left + right.\n",
      "  On a one-button mouse, middle is Option + mouse.\n",
      "\"\"\")\n",
      "\n",
      "#draw circles of various radii\n",
      "R=1\n",
      "r=R/50\n",
      "c1=ring(pos=(0,0,0), axis=(0,0,1), radius=1*2*R, thickness=r, color=color.orange)\n",
      "c2=ring(pos=(0,0,0), axis=(0,0,1), radius=2*2*R, thickness=r, color=color.orange)\n",
      "\n",
      "#define a list with r,\\phi components with phi in degrees\n",
      "r1=[2,30]\n",
      "\n",
      "#convert to cartesian coord and draw\n",
      "sw=R/25 #shaftwidth for arrows\n",
      "r1arrow=arrow(pos=(0,0,0), axis=vector(r1[0]*cos(r1[1]*pi/180), r1[0]*sin(r1[1]*pi/180),0), \n",
      "              shaftwidth=sw, color=color.cyan)\n",
      "r1unitr=arrow(pos=r1arrow.axis, axis=norm(r1arrow.axis), \n",
      "              shaftwidth=sw, color=color.blue)\n",
      "r1unitphi=arrow(pos=r1arrow.axis, axis=norm(vector(-r1[0]*sin(r1[1]*pi/180), r1[0]*cos(r1[1]*pi/180),0)), \n",
      "              shaftwidth=sw, color=color.green)\n"
     ],
     "language": "python",
     "metadata": {},
     "outputs": [
      {
       "html": [
        "<div id=\"scene9\"><div id=\"glowscript\" class=\"glowscript\"></div></div>"
       ],
       "metadata": {},
       "output_type": "display_data",
       "text": [
        "<IPython.core.display.HTML at 0x106181c90>"
       ]
      },
      {
       "javascript": [
        "window.__context = { glowscript_container: $(\"#glowscript\").removeAttr(\"id\")}"
       ],
       "metadata": {},
       "output_type": "display_data",
       "text": [
        "<IPython.core.display.Javascript at 0x105312590>"
       ]
      },
      {
       "output_type": "stream",
       "stream": "stdout",
       "text": [
        "\n",
        "Right button drag to rotate \"camera\" to view scene.\n",
        "  On a one-button mouse, right is Command + mouse.\n",
        "Middle button to drag up or down to zoom in or out.\n",
        "  On a two-button mouse, middle is left + right.\n",
        "  On a one-button mouse, middle is Option + mouse.\n",
        "\n"
       ]
      }
     ],
     "prompt_number": 10
    },
    {
     "cell_type": "code",
     "collapsed": false,
     "input": [],
     "language": "python",
     "metadata": {},
     "outputs": []
    }
   ],
   "metadata": {}
  }
 ]
}