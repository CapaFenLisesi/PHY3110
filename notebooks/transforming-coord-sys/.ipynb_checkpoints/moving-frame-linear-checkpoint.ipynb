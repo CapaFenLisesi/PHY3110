{
 "metadata": {
  "name": "",
  "signature": "sha256:288de792aeceb0b4547f772ca701bd9fc8b4c7be8234c0bf4467294a334684f3"
 },
 "nbformat": 3,
 "nbformat_minor": 0,
 "worksheets": [
  {
   "cells": [
    {
     "cell_type": "code",
     "collapsed": false,
     "input": [
      "from __future__ import division, print_function\n",
      "from ivisual import *"
     ],
     "language": "python",
     "metadata": {},
     "outputs": [
      {
       "html": [
        "<div id=\"scene\"><div id=\"glowscript\" class=\"glowscript\"></div></div>"
       ],
       "metadata": {},
       "output_type": "display_data",
       "text": [
        "<IPython.core.display.HTML at 0x1031a3c10>"
       ]
      },
      {
       "javascript": [
        "require.undef(\"nbextensions/glow.1.0.min\");"
       ],
       "metadata": {},
       "output_type": "display_data",
       "text": [
        "<IPython.core.display.Javascript at 0x1031a3bd0>"
       ]
      },
      {
       "javascript": [
        "require.undef(\"nbextensions/glowcomm\");"
       ],
       "metadata": {},
       "output_type": "display_data",
       "text": [
        "<IPython.core.display.Javascript at 0x105334250>"
       ]
      },
      {
       "javascript": [
        "require([\"nbextensions/glowcomm\"], function(){console.log(\"glowcomm loaded\");})"
       ],
       "metadata": {},
       "output_type": "display_data",
       "text": [
        "<IPython.core.display.Javascript at 0x105334390>"
       ]
      }
     ],
     "prompt_number": 1
    },
    {
     "cell_type": "code",
     "collapsed": false,
     "input": [
      "scene = idisplay('Linear Coordinate Transformation')\n",
      "print(\"\"\"\n",
      "Right button drag to rotate \"camera\" to view scene.\n",
      "  On a one-button mouse, right is Command + mouse.\n",
      "Middle button to drag up or down to zoom in or out.\n",
      "  On a two-button mouse, middle is left + right.\n",
      "  On a one-button mouse, middle is Option + mouse.\n",
      "\"\"\")\n",
      "\n",
      "#draw first coordinate system\n",
      "L=1\n",
      "sw=L/50\n",
      "xaxis=arrow(pos=(-L/2,0,0), axis=(L,0,0), shaftwidth=sw, fixedwidth=True)\n",
      "yaxis=arrow(pos=(0,-L/2,0), axis=(0,L,0), shaftwidth=sw, fixedwidth=True)\n",
      "zaxis=arrow(pos=(0,0,-L/2), axis=(0,0,L), shaftwidth=sw, fixedwidth=True)\n",
      "\n",
      "#dr is the position of the second coordinate system relative to the first\n",
      "dr=vector(0,0,0)\n",
      "drarrow=arrow(pos=(0,0,0),axis=dr, shaftwidth=2*sw, fixedwidth=True,  color=color.green)\n",
      "\n",
      "#draw second coordinate system\n",
      "xaxisprime=arrow(pos=vector(-L/2,0,0)+dr, axis=(L,0,0), shaftwidth=sw, fixedwidth=True, color=color.yellow)\n",
      "yaxisprime=arrow(pos=vector(0,-L/2,0)+dr, axis=(0,L,0), shaftwidth=sw, fixedwidth=True, color=color.yellow)\n",
      "zaxisprime=arrow(pos=vector(0,0,-L/2)+dr, axis=(0,0,L), shaftwidth=sw, fixedwidth=True, color=color.yellow)\n",
      "\n",
      "#draw a particle\n",
      "r=vector(2,0.5,0)\n",
      "particle=sphere(pos=r, radius=L/10, color=color.magenta)\n",
      "\n",
      "#calculate the position of the particle in the second coordinate system\n",
      "rprime=r-dr\n",
      "\n",
      "#draw position vector for first coordinate system\n",
      "rarrow=arrow(pos=(0,0,0), axis=r, shaftwidth=2*sw, color=color.cyan)\n",
      "#draw position vector for second coordinate system\n",
      "rprimearrow=arrow(pos=dr, axis=rprime, shaftwidth=2*sw, color=color.blue)\n",
      "\n",
      "#make a list for the prime coord sys axes\n",
      "primecoordsys=[xaxisprime,yaxisprime,zaxisprime]\n",
      "\n",
      "beta=vector(2,0,0)\n",
      "t=0\n",
      "dt=0.01\n",
      "\n",
      "while t<2:\n",
      "    rate(100)\n",
      "    #update prime coord sys\n",
      "    for axis in primecoordsys:\n",
      "        axis.pos=axis.pos+beta*dt\n",
      "\n",
      "    #update vectors\n",
      "    dr=dr+beta*dt\n",
      "    drarrow.axis=dr\n",
      "    rprimearrow.pos=xaxisprime.pos+0.5*xaxisprime.axis\n",
      "#    rprimearrow.axis=vector(-10.0,0,0)\n",
      "    \n",
      "    t=t+dt"
     ],
     "language": "python",
     "metadata": {},
     "outputs": [
      {
       "html": [
        "<div id=\"scene49\"><div id=\"glowscript\" class=\"glowscript\"></div></div>"
       ],
       "metadata": {},
       "output_type": "display_data",
       "text": [
        "<IPython.core.display.HTML at 0x1081a0550>"
       ]
      },
      {
       "javascript": [
        "window.__context = { glowscript_container: $(\"#glowscript\").removeAttr(\"id\")}"
       ],
       "metadata": {},
       "output_type": "display_data",
       "text": [
        "<IPython.core.display.Javascript at 0x107ea73d0>"
       ]
      },
      {
       "output_type": "stream",
       "stream": "stdout",
       "text": [
        "\n",
        "Right button drag to rotate \"camera\" to view scene.\n",
        "  On a one-button mouse, right is Command + mouse.\n",
        "Middle button to drag up or down to zoom in or out.\n",
        "  On a two-button mouse, middle is left + right.\n",
        "  On a one-button mouse, middle is Option + mouse.\n",
        "\n"
       ]
      }
     ],
     "prompt_number": 59
    },
    {
     "cell_type": "code",
     "collapsed": false,
     "input": [
      "print(r,dr,r-dr, rprimearrow.axis)"
     ],
     "language": "python",
     "metadata": {},
     "outputs": [
      {
       "output_type": "stream",
       "stream": "stdout",
       "text": [
        "vector (2.000000, 0.500000, 0.000000) vector (4.000000, 0.000000, 0.000000) vector (-2.000000, 0.500000, 0.000000) vector (-10.000000, 0.000000, 0.000000)\n"
       ]
      }
     ],
     "prompt_number": 58
    },
    {
     "cell_type": "code",
     "collapsed": false,
     "input": [],
     "language": "python",
     "metadata": {},
     "outputs": []
    }
   ],
   "metadata": {}
  }
 ]
}