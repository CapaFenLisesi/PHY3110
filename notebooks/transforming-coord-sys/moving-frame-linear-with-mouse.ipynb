{
 "metadata": {
  "name": "",
  "signature": "sha256:3bfc22e1c2036765bd139743d1df68ca8b8d81f4b567c8b1ac88a029a161596a"
 },
 "nbformat": 3,
 "nbformat_minor": 0,
 "worksheets": [
  {
   "cells": [
    {
     "cell_type": "code",
     "collapsed": false,
     "input": [
      "from __future__ import division, print_function\n",
      "from ivisual import *\n",
      "from IPython.html import widgets"
     ],
     "language": "python",
     "metadata": {},
     "outputs": [
      {
       "html": [
        "<div id=\"scene\"><div id=\"glowscript\" class=\"glowscript\"></div></div>"
       ],
       "metadata": {},
       "output_type": "display_data",
       "text": [
        "<IPython.core.display.HTML at 0x4fb2fd0>"
       ]
      },
      {
       "javascript": [
        "require.undef(\"nbextensions/glow.1.0.min\");"
       ],
       "metadata": {},
       "output_type": "display_data",
       "text": [
        "<IPython.core.display.Javascript at 0x4fcca20>"
       ]
      },
      {
       "javascript": [
        "require.undef(\"nbextensions/glowcomm\");"
       ],
       "metadata": {},
       "output_type": "display_data",
       "text": [
        "<IPython.core.display.Javascript at 0x4fcca58>"
       ]
      },
      {
       "javascript": [
        "require([\"nbextensions/glowcomm\"], function(){console.log(\"glowcomm loaded\");})"
       ],
       "metadata": {},
       "output_type": "display_data",
       "text": [
        "<IPython.core.display.Javascript at 0x4fcca90>"
       ]
      }
     ],
     "prompt_number": 1
    },
    {
     "cell_type": "code",
     "collapsed": false,
     "input": [
      "scene = canvas('Linear Coordinate Transformation')\n",
      "\n",
      "#draw first coordinate system\n",
      "L=1\n",
      "sw=L/50\n",
      "xaxis=arrow(pos=(-L/2,0,0), axis=(L,0,0), shaftwidth=sw)\n",
      "yaxis=arrow(pos=(0,-L/2,0), axis=(0,L,0), shaftwidth=sw)\n",
      "zaxis=arrow(pos=(0,0,-L/2), axis=(0,0,L), shaftwidth=sw)\n",
      "\n",
      "#dr is the position of the second coordinate system relative to the first\n",
      "dr=vector(0,0,0)\n",
      "drarrow=arrow(pos=(0,0,0),axis=dr, shaftwidth=2*sw, color=color.green)\n",
      "\n",
      "#draw second coordinate system\n",
      "xaxisprime=arrow(pos=vector(-L/2,0,0)+dr, axis=(L,0,0), shaftwidth=sw, color=color.yellow)\n",
      "yaxisprime=arrow(pos=vector(0,-L/2,0)+dr, axis=(0,L,0), shaftwidth=sw, color=color.yellow)\n",
      "zaxisprime=arrow(pos=vector(0,0,-L/2)+dr, axis=(0,0,L), shaftwidth=sw, color=color.yellow)\n",
      "\n",
      "#draw a particle\n",
      "r=vector(2,0.5,0)\n",
      "particle=sphere(pos=r, radius=L/10, color=color.magenta)\n",
      "\n",
      "#calculate the position of the particle in the second coordinate system\n",
      "rprime=r-dr\n",
      "\n",
      "#draw position vector for first coordinate system\n",
      "rarrow=arrow(pos=(0,0,0), axis=r, shaftwidth=2*sw, color=color.cyan)\n",
      "#draw position vector for second coordinate system\n",
      "rprimearrow=arrow(pos=dr, axis=rprime, shaftwidth=2*sw, color=color.blue)\n",
      "\n",
      "#make a list for the prime coord sys axes\n",
      "primecoordsys=[xaxisprime,yaxisprime,zaxisprime]\n",
      "\n",
      "beta=vector(2,0,0)\n",
      "t=0\n",
      "dt=0.01\n",
      "\n",
      "scene.range=3\n",
      "scene.autoscale=0"
     ],
     "language": "python",
     "metadata": {},
     "outputs": [
      {
       "html": [
        "<div id=\"scene1\"><div id=\"glowscript\" class=\"glowscript\"></div></div>"
       ],
       "metadata": {},
       "output_type": "display_data",
       "text": [
        "<IPython.core.display.HTML at 0x4b765f8>"
       ]
      },
      {
       "javascript": [
        "window.__context = { glowscript_container: $(\"#glowscript\").removeAttr(\"id\")}"
       ],
       "metadata": {},
       "output_type": "display_data",
       "text": [
        "<IPython.core.display.Javascript at 0x4b765f8>"
       ]
      }
     ],
     "prompt_number": 2
    },
    {
     "cell_type": "code",
     "collapsed": false,
     "input": [
      "def anim(b):\n",
      "    global dr, t\n",
      "    while t<1.5:\n",
      "        rate(10)\n",
      "        #update prime coord sys\n",
      "        for axis in primecoordsys:\n",
      "            axis.pos=axis.pos+beta*dt\n",
      "\n",
      "        #update vectors\n",
      "        dr=dr+beta*dt\n",
      "        drarrow.axis=dr\n",
      "        rprimearrow.pos=xaxisprime.pos+0.5*xaxisprime.axis\n",
      "        rprimearrow.axis=r-dr\n",
      "        t=t+dt"
     ],
     "language": "python",
     "metadata": {},
     "outputs": [],
     "prompt_number": 3
    },
    {
     "cell_type": "code",
     "collapsed": false,
     "input": [
      "button = widgets.ButtonWidget(description=\"Start\")\n",
      "display(button, scene)\n",
      "\n",
      "button.on_click(anim)\n"
     ],
     "language": "python",
     "metadata": {},
     "outputs": [
      {
       "html": [
        "<div id=\"glowscript2\" ><div id=\"glowscript\" class=\"glowscript\"></div></div>"
       ],
       "metadata": {},
       "output_type": "display_data"
      }
     ],
     "prompt_number": 4
    },
    {
     "cell_type": "code",
     "collapsed": false,
     "input": [],
     "language": "python",
     "metadata": {},
     "outputs": [],
     "prompt_number": 4
    }
   ],
   "metadata": {}
  }
 ]
}