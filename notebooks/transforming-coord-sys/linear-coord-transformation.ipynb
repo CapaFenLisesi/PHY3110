{
 "metadata": {
  "name": "",
  "signature": "sha256:d08b29ffbd488ad51fc014095a9e736c4edafb43c7cc06fbd35afe56a16a45e2"
 },
 "nbformat": 3,
 "nbformat_minor": 0,
 "worksheets": [
  {
   "cells": [
    {
     "cell_type": "code",
     "collapsed": false,
     "input": [
      "from __future__ import division, print_function\n",
      "from ivisual import *"
     ],
     "language": "python",
     "metadata": {},
     "outputs": [
      {
       "html": [
        "<div id=\"scene\"><div id=\"glowscript\" class=\"glowscript\"></div></div>"
       ],
       "metadata": {},
       "output_type": "display_data",
       "text": [
        "<IPython.core.display.HTML at 0x102fb82d0>"
       ]
      },
      {
       "javascript": [
        "require.undef(\"nbextensions/glow.1.0.min\");"
       ],
       "metadata": {},
       "output_type": "display_data",
       "text": [
        "<IPython.core.display.Javascript at 0x1047f1690>"
       ]
      },
      {
       "javascript": [
        "require.undef(\"nbextensions/glowcomm\");"
       ],
       "metadata": {},
       "output_type": "display_data",
       "text": [
        "<IPython.core.display.Javascript at 0x1047f16d0>"
       ]
      },
      {
       "javascript": [
        "require([\"nbextensions/glowcomm\"], function(){console.log(\"glowcomm loaded\");})"
       ],
       "metadata": {},
       "output_type": "display_data",
       "text": [
        "<IPython.core.display.Javascript at 0x1047f1710>"
       ]
      }
     ],
     "prompt_number": 1
    },
    {
     "cell_type": "code",
     "collapsed": false,
     "input": [
      "scene = canvas('Linear Coordinate Transformation')\n",
      "\n",
      "#draw first coordinate system\n",
      "L=1\n",
      "sw=L/50\n",
      "xaxis=arrow(pos=(-L/2,0,0), axis=(L,0,0), shaftwidth=sw, fixedwidth=True)\n",
      "yaxis=arrow(pos=(0,-L/2,0), axis=(0,L,0), shaftwidth=sw, fixedwidth=True)\n",
      "zaxis=arrow(pos=(0,0,-L/2), axis=(0,0,L), shaftwidth=sw, fixedwidth=True)\n",
      "\n",
      "#dr is the position of the second coordinate system relative to the first\n",
      "dr=1.1*L*vector(1,0,0)\n",
      "drarrow=arrow(pos=(0,0,0),axis=dr, shaftwidth=2*sw, fixedwidth=True,  color=color.green)\n",
      "\n",
      "#draw second coordinate system\n",
      "xaxisprime=arrow(pos=vector(-L/2,0,0)+dr, axis=(L,0,0), shaftwidth=sw, fixedwidth=True, color=color.yellow)\n",
      "yaxisprime=arrow(pos=vector(0,-L/2,0)+dr, axis=(0,L,0), shaftwidth=sw, fixedwidth=True, color=color.yellow)\n",
      "zaxisprime=arrow(pos=vector(0,0,-L/2)+dr, axis=(0,0,L), shaftwidth=sw, fixedwidth=True, color=color.yellow)\n",
      "\n",
      "#draw a particle\n",
      "r=vector(2,0.5,0)\n",
      "particle=sphere(pos=r, radius=L/10, color=color.magenta)\n",
      "\n",
      "#calculate the position of the particle in the second coordinate system\n",
      "rprime=r-dr\n",
      "\n",
      "#draw position vector for first coordinate system\n",
      "rarrow=arrow(pos=(0,0,0), axis=r, shaftwidth=2*sw, fixedwidth=True, color=color.cyan)\n",
      "#draw position vector for second coordinate system\n",
      "rprimearrow=arrow(pos=dr, axis=rprime, shaftwidth=2*sw, fixedwidth=True, color=color.blue)"
     ],
     "language": "python",
     "metadata": {},
     "outputs": [
      {
       "html": [
        "<div id=\"scene1\"><div id=\"glowscript\" class=\"glowscript\"></div></div>"
       ],
       "metadata": {},
       "output_type": "display_data",
       "text": [
        "<IPython.core.display.HTML at 0x10474f310>"
       ]
      },
      {
       "javascript": [
        "window.__context = { glowscript_container: $(\"#glowscript\").removeAttr(\"id\")}"
       ],
       "metadata": {},
       "output_type": "display_data",
       "text": [
        "<IPython.core.display.Javascript at 0x10288bbd0>"
       ]
      }
     ],
     "prompt_number": 2
    },
    {
     "cell_type": "code",
     "collapsed": false,
     "input": [],
     "language": "python",
     "metadata": {},
     "outputs": []
    }
   ],
   "metadata": {}
  }
 ]
}