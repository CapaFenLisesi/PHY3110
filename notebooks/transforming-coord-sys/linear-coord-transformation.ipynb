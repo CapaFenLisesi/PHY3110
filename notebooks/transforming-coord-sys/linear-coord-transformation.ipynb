{
 "metadata": {
  "name": "",
  "signature": "sha256:88ce851163ce19f469a742f29f2ea8a9016bfa29f8b87d54d6d9afa21a06db4b"
 },
 "nbformat": 3,
 "nbformat_minor": 0,
 "worksheets": [
  {
   "cells": [
    {
     "cell_type": "code",
     "collapsed": false,
     "input": [
      "from __future__ import division, print_function\n",
      "from ivisual import *"
     ],
     "language": "python",
     "metadata": {},
     "outputs": [],
     "prompt_number": 20
    },
    {
     "cell_type": "code",
     "collapsed": false,
     "input": [
      "scene = idisplay('Linear Coordinate Transformation')\n",
      "print(\"\"\"\n",
      "Right button drag to rotate \"camera\" to view scene.\n",
      "  On a one-button mouse, right is Command + mouse.\n",
      "Middle button to drag up or down to zoom in or out.\n",
      "  On a two-button mouse, middle is left + right.\n",
      "  On a one-button mouse, middle is Option + mouse.\n",
      "\"\"\")\n",
      "\n",
      "#draw first coordinate system\n",
      "L=1\n",
      "sw=L/50\n",
      "xaxis=arrow(pos=(-L/2,0,0), axis=(L,0,0), shaftwidth=sw, fixedwidth=True)\n",
      "yaxis=arrow(pos=(0,-L/2,0), axis=(0,L,0), shaftwidth=sw, fixedwidth=True)\n",
      "zaxis=arrow(pos=(0,0,-L/2), axis=(0,0,L), shaftwidth=sw, fixedwidth=True)\n",
      "\n",
      "#dr is the position of the second coordinate system relative to the first\n",
      "dr=1.1*L*vector(1,0,0)\n",
      "drarrow=arrow(pos=(0,0,0),axis=dr, shaftwidth=2*sw, fixedwidth=True,  color=color.green)\n",
      "\n",
      "#draw second coordinate system\n",
      "xaxisprime=arrow(pos=vector(-L/2,0,0)+dr, axis=(L,0,0), shaftwidth=sw, fixedwidth=True, color=color.yellow)\n",
      "yaxisprime=arrow(pos=vector(0,-L/2,0)+dr, axis=(0,L,0), shaftwidth=sw, fixedwidth=True, color=color.yellow)\n",
      "zaxisprime=arrow(pos=vector(0,0,-L/2)+dr, axis=(0,0,L), shaftwidth=sw, fixedwidth=True, color=color.yellow)\n",
      "\n",
      "#draw a particle\n",
      "r=vector(2,0.5,0)\n",
      "particle=sphere(pos=r, radius=L/10, color=color.magenta)\n",
      "\n",
      "#calculate the position of the particle in the second coordinate system\n",
      "rprime=r-dr\n",
      "\n",
      "#draw position vector for first coordinate system\n",
      "rarrow=arrow(pos=(0,0,0), axis=r, shaftwidth=2*sw, fixedwidth=True, color=color.cyan)\n",
      "#draw position vector for second coordinate system\n",
      "rprimearrow=arrow(pos=dr, axis=rprime, shaftwidth=2*sw, fixedwidth=True, color=color.blue)"
     ],
     "language": "python",
     "metadata": {},
     "outputs": [
      {
       "html": [
        "<div id=\"scene18\"><div id=\"glowscript\" class=\"glowscript\"></div></div>"
       ],
       "metadata": {},
       "output_type": "display_data",
       "text": [
        "<IPython.core.display.HTML at 0x107c4ced0>"
       ]
      },
      {
       "javascript": [
        "window.__context = { glowscript_container: $(\"#glowscript\").removeAttr(\"id\")}"
       ],
       "metadata": {},
       "output_type": "display_data",
       "text": [
        "<IPython.core.display.Javascript at 0x107926950>"
       ]
      },
      {
       "output_type": "stream",
       "stream": "stdout",
       "text": [
        "\n",
        "Right button drag to rotate \"camera\" to view scene.\n",
        "  On a one-button mouse, right is Command + mouse.\n",
        "Middle button to drag up or down to zoom in or out.\n",
        "  On a two-button mouse, middle is left + right.\n",
        "  On a one-button mouse, middle is Option + mouse.\n",
        "\n"
       ]
      }
     ],
     "prompt_number": 19
    },
    {
     "cell_type": "code",
     "collapsed": false,
     "input": [
      "print(\"The position of coordinate system <x,y,z> is <0,0,0>.\")"
     ],
     "language": "python",
     "metadata": {},
     "outputs": [
      {
       "output_type": "stream",
       "stream": "stdout",
       "text": [
        "The position of coordinate system <x,y,z> is <0,0,0>.\n"
       ]
      }
     ],
     "prompt_number": 23
    },
    {
     "cell_type": "code",
     "collapsed": false,
     "input": [
      "print(\"The position of coordinate system <x',y',z'> is \", dr)"
     ],
     "language": "python",
     "metadata": {},
     "outputs": [
      {
       "output_type": "stream",
       "stream": "stdout",
       "text": [
        "The position of coordinate system <x',y',z'> is  vector (1.100000, 0.000000, 0.000000)\n"
       ]
      }
     ],
     "prompt_number": 24
    },
    {
     "cell_type": "code",
     "collapsed": false,
     "input": [
      "print(\"The position of the particle in <x,y,z> is \", r)"
     ],
     "language": "python",
     "metadata": {},
     "outputs": [
      {
       "output_type": "stream",
       "stream": "stdout",
       "text": [
        "The position of the particl in <x,y,z> is  vector (2.000000, 0.500000, 0.000000)\n"
       ]
      }
     ],
     "prompt_number": 21
    },
    {
     "cell_type": "code",
     "collapsed": false,
     "input": [
      "print(\"The position of the particle in <x',y',z'> is \", rprime)"
     ],
     "language": "python",
     "metadata": {},
     "outputs": [
      {
       "output_type": "stream",
       "stream": "stdout",
       "text": [
        "The position of the particle in <x',y',z'> is  vector (0.900000, 0.500000, 0.000000)\n"
       ]
      }
     ],
     "prompt_number": 25
    },
    {
     "cell_type": "code",
     "collapsed": false,
     "input": [],
     "language": "python",
     "metadata": {},
     "outputs": []
    }
   ],
   "metadata": {}
  }
 ]
}