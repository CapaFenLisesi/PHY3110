{
 "metadata": {
  "name": "",
  "signature": "sha256:873f146fe9e68d1a69961f032561e49ee8c588eced25d9a8d8fa091086e713f7"
 },
 "nbformat": 3,
 "nbformat_minor": 0,
 "worksheets": [
  {
   "cells": [
    {
     "cell_type": "code",
     "collapsed": false,
     "input": [
      "from __future__ import division, print_function\n",
      "from ivisual import *"
     ],
     "language": "python",
     "metadata": {},
     "outputs": [],
     "prompt_number": 8
    },
    {
     "cell_type": "code",
     "collapsed": false,
     "input": [
      "#create scene\n",
      "scene = idisplay(title='Cartesian Coordinate System')\n",
      "\n",
      "#draw x, y, z axes\n",
      "L=15 #length of axes\n",
      "sw=L/100 #shiftwidth of axes\n",
      "xaxis=arrow(pos=(-L/2,0,0), axis=(L,0,0), shaftwidth=sw)\n",
      "yaxis=arrow(pos=(0,-L/2,0), axis=(0,L,0), shaftwidth=sw)\n",
      "zaxis=arrow(pos=(0,0,-L/2), axis=(0,0,L), shaftwidth=sw)\n"
     ],
     "language": "python",
     "metadata": {},
     "outputs": [
      {
       "html": [
        "<div id=\"scene3\"><div id=\"glowscript\" class=\"glowscript\"></div></div>"
       ],
       "metadata": {},
       "output_type": "display_data",
       "text": [
        "<IPython.core.display.HTML at 0x104f05190>"
       ]
      },
      {
       "javascript": [
        "window.__context = { glowscript_container: $(\"#glowscript\").removeAttr(\"id\")}"
       ],
       "metadata": {},
       "output_type": "display_data",
       "text": [
        "<IPython.core.display.Javascript at 0x104ad4d10>"
       ]
      }
     ],
     "prompt_number": 9
    },
    {
     "cell_type": "code",
     "collapsed": false,
     "input": [
      "#define a vector\n",
      "r=vector(3,4,5)\n",
      "#draw the vector\n",
      "rarrow=arrow(pos=(0,0,0), axis=r, shaftwidth=2*sw, color=color.yellow)"
     ],
     "language": "python",
     "metadata": {},
     "outputs": [],
     "prompt_number": 10
    },
    {
     "cell_type": "code",
     "collapsed": false,
     "input": [
      "#draw the vector components\n",
      "rxarrow=arrow(pos=(0,0,0), axis=(r.x,0,0), shaftwidth=2*sw, color=color.red)\n",
      "ryarrow=arrow(pos=(0,0,0), axis=(0,r.y,0), shaftwidth=2*sw, color=color.green)\n",
      "rzarrow=arrow(pos=(0,0,0), axis=(0,0,r.z), shaftwidth=2*sw, color=color.blue)\n"
     ],
     "language": "python",
     "metadata": {},
     "outputs": [],
     "prompt_number": 11
    },
    {
     "cell_type": "code",
     "collapsed": false,
     "input": [
      "#draw vector components from the tip of the vector and in the xz plane\n",
      "perpxz=cylinder(pos=r, axis=(0,-r.y,0), radius=sw, color=ryarrow.color)\n",
      "perpxy=cylinder(pos=r+perpxz.axis, axis=(0,0,-r.z), radius=sw, color=rzarrow.color)\n",
      "perpyz=cylinder(pos=r+perpxz.axis, axis=(-r.x,0,0), radius=sw, color=rxarrow.color)"
     ],
     "language": "python",
     "metadata": {},
     "outputs": [],
     "prompt_number": 12
    },
    {
     "cell_type": "code",
     "collapsed": false,
     "input": [],
     "language": "python",
     "metadata": {},
     "outputs": []
    }
   ],
   "metadata": {}
  }
 ]
}