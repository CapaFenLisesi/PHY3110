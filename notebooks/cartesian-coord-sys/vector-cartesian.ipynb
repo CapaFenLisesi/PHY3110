{
 "metadata": {
  "name": "",
  "signature": "sha256:915142d2dce15c29230b66a410e487a57e92a4eead77aa7e89d5b03028aee0f4"
 },
 "nbformat": 3,
 "nbformat_minor": 0,
 "worksheets": [
  {
   "cells": [
    {
     "cell_type": "code",
     "collapsed": false,
     "input": [
      "from __future__ import division, print_function\n",
      "from ivisual import *"
     ],
     "language": "python",
     "metadata": {},
     "outputs": [
      {
       "html": [
        "<div id=\"scene\"><div id=\"glowscript\" class=\"glowscript\"></div></div>"
       ],
       "metadata": {},
       "output_type": "display_data",
       "text": [
        "<IPython.core.display.HTML at 0x1027a7d10>"
       ]
      },
      {
       "javascript": [
        "require.undef(\"nbextensions/glow.1.0.min\");"
       ],
       "metadata": {},
       "output_type": "display_data",
       "text": [
        "<IPython.core.display.Javascript at 0x104774710>"
       ]
      },
      {
       "javascript": [
        "require.undef(\"nbextensions/glowcomm\");"
       ],
       "metadata": {},
       "output_type": "display_data",
       "text": [
        "<IPython.core.display.Javascript at 0x104774750>"
       ]
      },
      {
       "javascript": [
        "require([\"nbextensions/glowcomm\"], function(){console.log(\"glowcomm loaded\");})"
       ],
       "metadata": {},
       "output_type": "display_data",
       "text": [
        "<IPython.core.display.Javascript at 0x104774790>"
       ]
      }
     ],
     "prompt_number": 1
    },
    {
     "cell_type": "code",
     "collapsed": false,
     "input": [
      "scene = canvas('Vector in a Cartesian Coordinate System')\n",
      "\n",
      "L=15 #length of axes\n",
      "sw=L/100 #shiftwidth of axes\n",
      "xaxis=arrow(pos=(-L/2,0,0), axis=(L,0,0), shaftwidth=sw, fixedwidth=True)\n",
      "yaxis=arrow(pos=(0,-L/2,0), axis=(0,L,0), shaftwidth=sw, fixedwidth=True)\n",
      "zaxis=arrow(pos=(0,0,-L/2), axis=(0,0,L), shaftwidth=sw, fixedwidth=True)\n",
      "\n",
      "#define a vector\n",
      "r=vector(3,4,5)\n",
      "#draw the vector\n",
      "rarrow=arrow(pos=(0,0,0), axis=r, shaftwidth=2*sw, fixedwidth=True, color=color.yellow)\n",
      "#draw the vector components\n",
      "rxarrow=arrow(pos=(0,0,0), axis=(r.x,0,0), shaftwidth=2*sw, fixedwidth=True, color=color.red)\n",
      "ryarrow=arrow(pos=(0,0,0), axis=(0,r.y,0), shaftwidth=2*sw, fixedwidth=True, color=color.green)\n",
      "rzarrow=arrow(pos=(0,0,0), axis=(0,0,r.z), shaftwidth=2*sw, fixedwidth=True, color=color.blue)\n",
      "\n",
      "#draw vector components from the tip of the vector\n",
      "perpxz=cylinder(pos=r, axis=(0,-r.y,0), radius=sw, color=ryarrow.color)\n",
      "perpxy=cylinder(pos=r+perpxz.axis, axis=(0,0,-r.z), radius=sw, color=rzarrow.color)\n",
      "perpyz=cylinder(pos=r+perpxz.axis, axis=(-r.x,0,0), radius=sw, color=rxarrow.color)\n",
      "\n"
     ],
     "language": "python",
     "metadata": {},
     "outputs": [
      {
       "html": [
        "<div id=\"scene1\"><div id=\"glowscript\" class=\"glowscript\"></div></div>"
       ],
       "metadata": {},
       "output_type": "display_data",
       "text": [
        "<IPython.core.display.HTML at 0x10471de90>"
       ]
      },
      {
       "javascript": [
        "window.__context = { glowscript_container: $(\"#glowscript\").removeAttr(\"id\")}"
       ],
       "metadata": {},
       "output_type": "display_data",
       "text": [
        "<IPython.core.display.Javascript at 0x1023bbc10>"
       ]
      }
     ],
     "prompt_number": 2
    },
    {
     "cell_type": "code",
     "collapsed": false,
     "input": [],
     "language": "python",
     "metadata": {},
     "outputs": [],
     "prompt_number": 4
    },
    {
     "cell_type": "code",
     "collapsed": false,
     "input": [],
     "language": "python",
     "metadata": {},
     "outputs": []
    }
   ],
   "metadata": {}
  }
 ]
}