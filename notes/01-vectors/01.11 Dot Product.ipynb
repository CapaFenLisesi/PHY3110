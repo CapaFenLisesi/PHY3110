{
 "metadata": {
  "name": "",
  "signature": "sha256:9550b456fa8b080deded48e7d89a96ef7595d7875f1f11267ba045ca4852bd88"
 },
 "nbformat": 3,
 "nbformat_minor": 0,
 "worksheets": [
  {
   "cells": [
    {
     "cell_type": "heading",
     "level": 1,
     "metadata": {},
     "source": [
      "Dot Product"
     ]
    },
    {
     "cell_type": "markdown",
     "metadata": {},
     "source": [
      "The dot product of two vectors is also called a scalar product. It is the product of the projection of one vector along the axis of the other vector times the length of the other vector. (More on this later.)\n",
      "\n",
      "Suppose that you have two vectors:\n",
      "\n",
      "$$\\vec{a}=<0.5,2,0>$$\n",
      "$$\\vec{b}=<2,0,0>$$\n",
      "\n",
      "The dot product is:\n",
      "\n",
      "$$\\vec{a}\\cdot\\vec{b}$$\n",
      "\n",
      "which can be calculated two ways:\n",
      "\n",
      "$$\\vec{a}\\cdot\\vec{b}=a_xb_x + a_yb_y+a_zb_z$$\n",
      "\n",
      "and\n",
      "\n",
      "$$\\vec{a}\\cdot\\vec{b}=|\\vec{a}||\\vec{b}|\\cos\\theta$$"
     ]
    },
    {
     "cell_type": "heading",
     "level": 2,
     "metadata": {},
     "source": [
      "Computing the dot product with iVisual"
     ]
    },
    {
     "cell_type": "markdown",
     "metadata": {},
     "source": [
      "iVisual has the function $\\mathrm{dot}(a,b)$ which takes as its arguments two vectors and returns the dot product. Let's compute the dot product $\\vec{a}\\cdot\\vec{b}$ where $\\vec{a}=<0.5,2,0>$ and $\\vec{b}=<2,0,0>$. Also compute the angle between the vectors."
     ]
    },
    {
     "cell_type": "code",
     "collapsed": false,
     "input": [
      "from __future__ import division, print_function\n",
      "from ivisual import *\n",
      "from math import *"
     ],
     "language": "python",
     "metadata": {},
     "outputs": [],
     "prompt_number": 69
    },
    {
     "cell_type": "code",
     "collapsed": false,
     "input": [
      "#define the vectors\n",
      "a=vector(0,2,0)\n",
      "b=vector(2,0,0)\n",
      "\n",
      "#compute the dot product and print\n",
      "aDotb=dot(a,b)\n",
      "print(\"a dot b = \", aDotb)\n",
      "\n",
      "#compute the angle between the vectors\n",
      "#convert to deg\n",
      "thetaInrad = acos(aDotb/mag(a)/mag(b))\n",
      "theta = thetaInrad*180/pi\n",
      "print(\"the angle between the vectors is \", theta, \" deg\")"
     ],
     "language": "python",
     "metadata": {},
     "outputs": [
      {
       "output_type": "stream",
       "stream": "stdout",
       "text": [
        "a dot b =  0\n",
        "the angle between the vectors is  90.0  deg\n"
       ]
      }
     ],
     "prompt_number": 70
    },
    {
     "cell_type": "heading",
     "level": 2,
     "metadata": {},
     "source": [
      "Visualizing the dot product"
     ]
    },
    {
     "cell_type": "markdown",
     "metadata": {},
     "source": [
      "First, let's draw the vectors in iVisual."
     ]
    },
    {
     "cell_type": "code",
     "collapsed": false,
     "input": [
      "scene=canvas(title=\"Dot Product of Vectors\")\n",
      "\n",
      "#draw arrows\n",
      "sw=0.05*mag(a)\n",
      "aarrow=arrow(pos=(0,0,0), axis=a, color=color.red, shaftwidth=sw)\n",
      "barrow=arrow(pos=(0,0,0), axis=b, color=color.blue, shaftwidth=sw)\n"
     ],
     "language": "python",
     "metadata": {},
     "outputs": [
      {
       "html": [
        "<div id=\"scene14\"><div id=\"glowscript\" class=\"glowscript\"></div></div>"
       ],
       "metadata": {},
       "output_type": "display_data",
       "text": [
        "<IPython.core.display.HTML at 0x105c68b10>"
       ]
      },
      {
       "javascript": [
        "window.__context = { glowscript_container: $(\"#glowscript\").removeAttr(\"id\")}"
       ],
       "metadata": {},
       "output_type": "display_data",
       "text": [
        "<IPython.core.display.Javascript at 0x105ca4e50>"
       ]
      }
     ],
     "prompt_number": 71
    },
    {
     "cell_type": "markdown",
     "metadata": {},
     "source": [
      "Now let's visualize the dot product. The dot product is the product of:\n",
      "\n",
      "1. the component of one vector that lies along the other vector (called the projection of one vector along the other vector)\n",
      "\n",
      "times\n",
      "\n",
      "2. the length of the other vector\n",
      "\n",
      "If the angle between two vectors is $90^\\circ$, then the projection of one vector along the other vector is zero and the dot product is zero. If the angle between two vectors is $0^\\circ$ then all of the first vector lies along the second vector and the dot product is the product of their lengths. So the dot product depends on both factors: 1. how much of one vector lies along the other and 2. the length of the other vector.\n",
      "\n",
      "Let's draw a cylinder that lies along the axis of each vector and represents the dot product of the two vectors. Note that this is a scalar product. Thus a longer cylinder represents a larger dot product. However, the dot product has no direction. Even though we'll draw the cylinder along the axis of a vector, it actually has no direction. That's why we will draw a cylinder instead of an arrow.\n",
      "\n",
      "Also, it does not matter which vector we consider \"the first vector.\" In other words if we find the projection of $\\vec{b}$ onto $\\vec{a}$ and multiply by the length of $\\vec{a}$ we get the same result as if we find the projection of $\\vec{a}$ onto $\\vec{b}$ and multiply by the length of $\\vec{b}$. This means that the dot product is commutative so  $\\vec{a}\\cdot\\vec{b}=\\vec{b}\\cdot\\vec{a}$."
     ]
    },
    {
     "cell_type": "code",
     "collapsed": false,
     "input": [
      "#draw projection of a onto b\n",
      "projAontoB=float(aDotb)*norm(b)\n",
      "projAontoBcyl=cylinder(pos=vector(0,0,0), axis=projAontoB, color=color.magenta, radius=sw)\n",
      "\n",
      "#draw project of b onto a\n",
      "projBontoA=float(aDotb)*norm(a)\n",
      "projBontoAcyl=cylinder(pos=vector(0,0,0), axis=projBontoA, color=color.magenta, radius=sw)"
     ],
     "language": "python",
     "metadata": {},
     "outputs": [],
     "prompt_number": 72
    },
    {
     "cell_type": "markdown",
     "metadata": {},
     "source": [
      "Now give $\\vec{a}$ and $\\vec{b}$ different components and see how it affects the dot product (represented by the length of the cylinder). Try special cases of the vectors being parallel or perpendicular."
     ]
    },
    {
     "cell_type": "code",
     "collapsed": false,
     "input": [],
     "language": "python",
     "metadata": {},
     "outputs": []
    }
   ],
   "metadata": {}
  }
 ]
}