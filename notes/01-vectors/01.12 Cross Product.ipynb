{
 "metadata": {
  "name": "",
  "signature": "sha256:bc80546989059a7ed657c0580983f48bc1669d1c8ff5ca8d51ab1c7e0035ed44"
 },
 "nbformat": 3,
 "nbformat_minor": 0,
 "worksheets": [
  {
   "cells": [
    {
     "cell_type": "heading",
     "level": 1,
     "metadata": {},
     "source": [
      "Cross Product"
     ]
    },
    {
     "cell_type": "markdown",
     "metadata": {},
     "source": [
      "The cross product of two vectors $\\vec{a}\\times\\vec{b}$ gives a vector that is perpendicular to the plane of $\\vec{a}$ and $\\vec{b}$ with a length proportional to \"how close $\\vec{a}$ and $\\vec{b}$ are to being perpendicular.\"  In other words, the magnitude of the cross product tells you \"how perpendicular\" $\\vec{a}$ and $\\vec{b}$ are to each other. If $\\vec{a}$ and $\\vec{b}$ are parallel, then they are not perpendicular at all and the cross product is zero. If $\\vec{a}$ and $\\vec{b}$ are perpendicular then that is the \"most perpendicular\" that they can be and the cross product is a maximum."
     ]
    },
    {
     "cell_type": "heading",
     "level": 2,
     "metadata": {},
     "source": [
      "Calculating the cross product in iVisual"
     ]
    },
    {
     "cell_type": "markdown",
     "metadata": {},
     "source": [
      "Suppose that you have the vectors $\\vec{a}=<0.5,2,0>$ and $\\vec{b}=<2,0,0>$. What is the cross product of the vectors?  In iVisual, use the function $\\mathrm{cross}(a,b)$ where $a$ and $b$ are vectors. The function returns a vector that is teh cross product."
     ]
    },
    {
     "cell_type": "code",
     "collapsed": false,
     "input": [
      "from __future__ import division, print_function\n",
      "from ivisual import *"
     ],
     "language": "python",
     "metadata": {},
     "outputs": [
      {
       "html": [
        "<div id=\"scene\"><div id=\"glowscript\" class=\"glowscript\"></div></div>"
       ],
       "metadata": {},
       "output_type": "display_data",
       "text": [
        "<IPython.core.display.HTML at 0x102c9cd10>"
       ]
      },
      {
       "javascript": [
        "require.undef(\"nbextensions/glow.1.0.min\");"
       ],
       "metadata": {},
       "output_type": "display_data",
       "text": [
        "<IPython.core.display.Javascript at 0x105bf1690>"
       ]
      },
      {
       "javascript": [
        "require.undef(\"nbextensions/glowcomm\");"
       ],
       "metadata": {},
       "output_type": "display_data",
       "text": [
        "<IPython.core.display.Javascript at 0x105bf16d0>"
       ]
      },
      {
       "javascript": [
        "require([\"nbextensions/glowcomm\"], function(){console.log(\"glowcomm loaded\");})"
       ],
       "metadata": {},
       "output_type": "display_data",
       "text": [
        "<IPython.core.display.Javascript at 0x105bf1710>"
       ]
      }
     ],
     "prompt_number": 1
    },
    {
     "cell_type": "code",
     "collapsed": false,
     "input": [
      "#define vectors\n",
      "a=vector(0.5,2,0)\n",
      "b=vector(2,0,0)\n",
      "\n",
      "#calculate the cross product and print\n",
      "aCrossB=cross(a,b)\n",
      "print(\"a x b = \", aCrossB)"
     ],
     "language": "python",
     "metadata": {},
     "outputs": [
      {
       "output_type": "stream",
       "stream": "stdout",
       "text": [
        "a x b =  <0.000000, 0.000000, -4.000000>\n"
       ]
      }
     ],
     "prompt_number": 2
    },
    {
     "cell_type": "markdown",
     "metadata": {},
     "source": [
      "Cross products are not commutative. In fact,\n",
      "\n",
      "$$\\vec{a}\\times\\vec{b}=-\\vec{b}\\times\\vec{a}$$\n",
      "\n",
      "So in iVisual, compute $\\vec{b}\\times\\vec{a}$ and see if it's the negative of $\\vec{a}\\times\\vec{b}$."
     ]
    },
    {
     "cell_type": "code",
     "collapsed": false,
     "input": [
      "bCrossA=cross(b,a)\n",
      "print(\"b x a = \", bCrossA)"
     ],
     "language": "python",
     "metadata": {},
     "outputs": [
      {
       "output_type": "stream",
       "stream": "stdout",
       "text": [
        "b x a =  <0.000000, 0.000000, 4.000000>\n"
       ]
      }
     ],
     "prompt_number": 3
    },
    {
     "cell_type": "heading",
     "level": 2,
     "metadata": {},
     "source": [
      "Visualizing the cross product"
     ]
    },
    {
     "cell_type": "code",
     "collapsed": false,
     "input": [
      "#draw vectors\n",
      "sw=0.05*mag(a)\n",
      "aarrow=arrow(pos=(0,0,0), axis=a, color=color.red, shaftwidth=sw)\n",
      "barrow=arrow(pos=(0,0,0), axis=b, color=color.blue, shaftwidth=sw)\n",
      "aCrossBarrow=arrow(pos=(0,0,0), axis=aCrossB, color=color.cyan, shaftwidth=sw)\n",
      "bCrossAarrow=arrow(pos=(0,0,0), axis=bCrossA, color=color.yellow, shaftwidth=sw)"
     ],
     "language": "python",
     "metadata": {},
     "outputs": [],
     "prompt_number": 6
    },
    {
     "cell_type": "markdown",
     "metadata": {},
     "source": [
      "Change the components of $\\vec{a}$ and $\\vec{b}$ and view the results. Check that it makes sense for special cases such as $\\vec{a}$ and $\\vec{b}$ perpendicular to each other and $\\vec{a}$ and $\\vec{b}$ parallel to teach other. Also try cases where $\\vec{a}$ and $\\vec{b}$ have z-components."
     ]
    },
    {
     "cell_type": "code",
     "collapsed": false,
     "input": [],
     "language": "python",
     "metadata": {},
     "outputs": []
    }
   ],
   "metadata": {}
  }
 ]
}