{
 "metadata": {
  "name": "",
  "signature": "sha256:9b437c3a2b0751547308df508082382bd75ae48e7ee9ae66a4e8a88520f3c4c5"
 },
 "nbformat": 3,
 "nbformat_minor": 0,
 "worksheets": [
  {
   "cells": [
    {
     "cell_type": "heading",
     "level": 1,
     "metadata": {},
     "source": [
      "01.2 Polar Coordinate System"
     ]
    },
    {
     "cell_type": "markdown",
     "metadata": {},
     "source": [
      "A polar coordinate system is a 2-D coordinate system defined by two unit vectors: \n",
      "\n",
      "1. $\\hat{r}$ which points radially outward from the origin,\n",
      "2. $\\hat{\\phi}$ which is tangent to a circle, typically in the counterclockwise direction.\n",
      "\n",
      "\n",
      "\n",
      "The position of a particle in a polar coordinate system is\n",
      "\n",
      "$$\\vec{r}=r\\hat{r}$$\n",
      "\n",
      "If you know the position of a particle in polar coordinates, you can convert to Cartesian coordinates using\n",
      "\n",
      "$$x=r\\mathrm{cos}\\phi$$\n",
      "\n",
      "$$y=r\\mathrm{sin}\\phi.$$\n",
      "\n",
      "When we write the position of a particle as\n",
      "\n",
      "$$\\vec{r}=r\\hat{r}$$\n",
      "\n",
      "the vector $\\vec{r}$ actually contains information about both $r$ and $\\phi$. That's because the direction $\\hat{r}$ depends on $\\phi$. In Cartesian coordinates, $\\hat{r}$ is\n",
      "\n",
      "$$\\hat{r}=<\\mathrm{cos}\\phi, \\mathrm{sin}\\phi>=\\mathrm{cos}\\phi\\hat{x} + \\mathrm{sin}\\phi\\hat{y}.$$\n",
      "\n",
      "So in Cartesian coordinates, the vector $\\vec{r}$ is\n",
      "\n",
      "$$\\vec{r}=r\\hat{r}=<r\\mathrm{cos}\\phi, r\\mathrm{sin}\\phi>=r\\mathrm{cos}\\phi\\hat{x} + r\\mathrm{sin}\\phi\\hat{y}.$$\n",
      "\n",
      "The unit vector $\\hat{\\phi}$ is perpendicular to $\\hat{r}$. So its components are\n",
      "\n",
      "$$\\hat{\\phi}=<-\\mathrm{sin}\\phi, \\mathrm{cos}\\phi>$$"
     ]
    },
    {
     "cell_type": "heading",
     "level": 2,
     "metadata": {},
     "source": [
      "Displaying polar unit vectors in iVisual"
     ]
    },
    {
     "cell_type": "markdown",
     "metadata": {},
     "source": [
      "Import the necessary packages."
     ]
    },
    {
     "cell_type": "code",
     "collapsed": false,
     "input": [
      "from __future__ import division, print_function\n",
      "from ivisual import *\n",
      "from math import *"
     ],
     "language": "python",
     "metadata": {},
     "outputs": [],
     "prompt_number": 6
    },
    {
     "cell_type": "markdown",
     "metadata": {},
     "source": [
      "Suppose that we have a vector of length 4 m and angle 30$^\\circ$ from the x axis. Let's draw the vector and the unit vectors $\\hat{r}$ and $\\hat{\\phi}$ in iVisual."
     ]
    },
    {
     "cell_type": "code",
     "collapsed": false,
     "input": [
      "scene = canvas(title='Polar Coordinate System')\n",
      "\n",
      "#define r and phi\n",
      "r=4\n",
      "phi=30\n",
      "\n",
      "#convert to cartesian coordinates in order to draw in iVisual\n",
      "#You have to convert the angle from degrees to radians\n",
      "r_cart_coord=vector(r*cos(phi*pi/180), r*sin(phi*pi/180),0)\n",
      "\n",
      "#r unit vector\n",
      "rhat=vector(cos(phi*pi/180), sin(phi*pi/180),0)\n",
      "\n",
      "#phi unit vector\n",
      "phihat=vector(-sin(phi*pi/180),cos(phi*pi/180),0)\n",
      "\n",
      "#draw arrows\n",
      "sw=r/25 #shaftwidth for arrows\n",
      "rarrow=arrow(pos=(0,0,0), axis=r_cart_coord, shaftwidth=sw, color=color.orange)\n",
      "rhatarrow=arrow(pos=r_cart_coord, axis=rhat, shaftwidth=sw, color=color.blue)\n",
      "phihatarrow=arrow(pos=r_cart_coord, axis=phihat, shaftwidth=sw, color=color.green)\n"
     ],
     "language": "python",
     "metadata": {},
     "outputs": [
      {
       "html": [
        "<div id=\"scene6\"><div id=\"glowscript\" class=\"glowscript\"></div></div>"
       ],
       "metadata": {},
       "output_type": "display_data",
       "text": [
        "<IPython.core.display.HTML at 0x105713350>"
       ]
      },
      {
       "javascript": [
        "window.__context = { glowscript_container: $(\"#glowscript\").removeAttr(\"id\")}"
       ],
       "metadata": {},
       "output_type": "display_data",
       "text": [
        "<IPython.core.display.Javascript at 0x1053c0d10>"
       ]
      }
     ],
     "prompt_number": 11
    },
    {
     "cell_type": "markdown",
     "metadata": {},
     "source": [
      "\n"
     ]
    },
    {
     "cell_type": "code",
     "collapsed": false,
     "input": [],
     "language": "python",
     "metadata": {},
     "outputs": []
    }
   ],
   "metadata": {}
  }
 ]
}