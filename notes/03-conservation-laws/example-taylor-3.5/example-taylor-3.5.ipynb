{
 "metadata": {
  "name": "",
  "signature": "sha256:1b2ad55094ed9f8c0f2f4ef1c9035c0bac8c3fdec2629ca93031b3db74cc3d79"
 },
 "nbformat": 3,
 "nbformat_minor": 0,
 "worksheets": [
  {
   "cells": [
    {
     "cell_type": "heading",
     "level": 1,
     "metadata": {},
     "source": [
      "Elastic Collision"
     ]
    },
    {
     "cell_type": "markdown",
     "metadata": {},
     "source": [
      "Elastic collision between two particles. $\\vec{v}_{1,i}=<v_1,0,0>$ and $\\vec{v}_{2,i}=0$. Show that the final velocity vectors after the collision must be perpendicular to each other."
     ]
    },
    {
     "cell_type": "markdown",
     "metadata": {},
     "source": [
      "After applying conservation of momentum and conservation of energy, we get \n",
      "\n",
      "$$\\tan{\\theta_1}\\tan{\\theta_2}=1$$\n",
      "\n",
      "We can write a program that substitutes values of $\\theta_1$ from 0 to 89$^\\circ$ and solve for $\\theta_2$."
     ]
    },
    {
     "cell_type": "code",
     "collapsed": false,
     "input": [
      "from math import *"
     ],
     "language": "python",
     "metadata": {},
     "outputs": [],
     "prompt_number": 1
    },
    {
     "cell_type": "code",
     "collapsed": false,
     "input": [
      "theta1=1*pi/180\n",
      "theta2=0\n",
      "\n",
      "dtheta=1*pi/180\n",
      "\n",
      "theta1f=89*pi/180\n",
      "\n",
      "theta1list=[]\n",
      "theta2list=[]\n",
      "thetasum=[]\n",
      "\n",
      "while theta1<theta1f:\n",
      "    theta2=atan(1/tan(theta1))\n",
      "    theta1list.append(theta1*180/pi)\n",
      "    theta2list.append(theta2*180/pi)\n",
      "    thetasum.append(theta1*180/pi+theta2*180/pi)\n",
      "    print(theta1*180/pi,theta2*180/pi)\n",
      "    \n",
      "    theta1=theta1+dtheta\n",
      "    "
     ],
     "language": "python",
     "metadata": {},
     "outputs": [
      {
       "output_type": "stream",
       "stream": "stdout",
       "text": [
        "(1.0, 89.0)\n",
        "(2.0, 87.99999999999999)\n",
        "(3.0, 87.00000000000001)\n",
        "(4.0, 86.00000000000001)\n",
        "(5.0, 85.0)\n",
        "(6.0, 84.0)\n",
        "(7.0, 83.00000000000001)\n",
        "(8.0, 82.0)\n",
        "(9.0, 81.0)\n",
        "(10.0, 80.0)\n",
        "(10.999999999999998, 79.0)\n",
        "(12.0, 78.0)\n",
        "(12.999999999999998, 77.00000000000001)\n",
        "(14.0, 76.0)\n",
        "(14.999999999999998, 75.00000000000001)\n",
        "(16.0, 74.0)\n",
        "(17.0, 73.0)\n",
        "(18.000000000000004, 72.0)\n",
        "(19.000000000000007, 71.0)\n",
        "(20.000000000000007, 70.0)\n",
        "(21.000000000000007, 68.99999999999999)\n",
        "(22.000000000000007, 68.0)\n",
        "(23.000000000000014, 66.99999999999999)\n",
        "(24.000000000000014, 66.0)\n",
        "(25.000000000000014, 64.99999999999999)\n",
        "(26.000000000000014, 63.99999999999999)\n",
        "(27.000000000000018, 62.999999999999986)\n",
        "(28.000000000000018, 61.999999999999986)\n",
        "(29.000000000000014, 61.0)\n",
        "(30.000000000000014, 59.999999999999986)\n",
        "(31.000000000000018, 58.99999999999998)\n",
        "(32.00000000000002, 57.999999999999986)\n",
        "(33.00000000000002, 56.99999999999998)\n",
        "(34.00000000000002, 55.99999999999997)\n",
        "(35.00000000000003, 54.999999999999986)\n",
        "(36.00000000000003, 53.99999999999998)\n",
        "(37.00000000000003, 52.999999999999986)\n",
        "(38.00000000000003, 51.99999999999998)\n",
        "(39.00000000000003, 50.99999999999998)\n",
        "(40.00000000000003, 49.999999999999964)\n",
        "(41.000000000000036, 48.99999999999997)\n",
        "(42.000000000000036, 47.999999999999964)\n",
        "(43.000000000000036, 46.999999999999964)\n",
        "(44.00000000000004, 45.99999999999997)\n",
        "(45.000000000000036, 44.999999999999964)\n",
        "(46.00000000000004, 43.99999999999997)\n",
        "(47.00000000000004, 42.999999999999964)\n",
        "(48.00000000000004, 41.999999999999964)\n",
        "(49.00000000000004, 40.99999999999997)\n",
        "(50.00000000000005, 39.99999999999997)\n",
        "(51.00000000000004, 38.99999999999996)\n",
        "(52.00000000000005, 37.99999999999996)\n",
        "(53.00000000000005, 36.99999999999996)\n",
        "(54.00000000000005, 35.99999999999996)\n",
        "(55.00000000000005, 34.99999999999995)\n",
        "(56.00000000000006, 33.99999999999995)\n",
        "(57.00000000000005, 32.99999999999995)\n",
        "(58.00000000000006, 31.99999999999995)\n",
        "(59.000000000000064, 30.99999999999994)\n",
        "(60.00000000000006, 29.999999999999947)\n",
        "(61.000000000000064, 28.999999999999936)\n",
        "(62.000000000000064, 27.999999999999947)\n",
        "(63.000000000000064, 26.99999999999994)\n",
        "(64.00000000000006, 25.999999999999936)\n",
        "(65.00000000000007, 24.999999999999936)\n",
        "(66.00000000000007, 23.999999999999936)\n",
        "(67.00000000000007, 22.999999999999932)\n",
        "(68.00000000000007, 21.999999999999936)\n",
        "(69.00000000000007, 20.999999999999932)\n",
        "(70.00000000000007, 19.99999999999993)\n",
        "(71.00000000000007, 18.99999999999993)\n",
        "(72.00000000000007, 17.999999999999922)\n",
        "(73.00000000000007, 16.999999999999925)\n",
        "(74.00000000000007, 15.999999999999924)\n",
        "(75.00000000000009, 14.999999999999922)\n",
        "(76.00000000000009, 13.99999999999992)\n",
        "(77.00000000000009, 12.999999999999918)\n",
        "(78.00000000000009, 11.999999999999918)\n",
        "(79.00000000000009, 10.999999999999918)\n",
        "(80.00000000000009, 9.999999999999915)\n",
        "(81.00000000000009, 8.999999999999915)\n",
        "(82.00000000000009, 7.999999999999913)\n",
        "(83.0000000000001, 6.999999999999912)\n",
        "(84.0000000000001, 5.999999999999909)\n",
        "(85.00000000000009, 4.9999999999999085)\n",
        "(86.00000000000009, 3.999999999999907)\n",
        "(87.0000000000001, 2.9999999999999054)\n",
        "(88.0000000000001, 1.9999999999999047)\n"
       ]
      }
     ],
     "prompt_number": 13
    },
    {
     "cell_type": "code",
     "collapsed": false,
     "input": [
      "%matplotlib inline"
     ],
     "language": "python",
     "metadata": {},
     "outputs": [],
     "prompt_number": 14
    },
    {
     "cell_type": "code",
     "collapsed": false,
     "input": [
      "import matplotlib.pyplot as plt"
     ],
     "language": "python",
     "metadata": {},
     "outputs": [],
     "prompt_number": 15
    },
    {
     "cell_type": "code",
     "collapsed": false,
     "input": [
      "plt.title('theta_2 vs. theta_1')\n",
      "plt.xlabel('theta 1 (deg)')\n",
      "plt.ylabel('theta 2 (deg)')\n",
      "plt.plot(theta1list,theta2list,'b.')\n",
      "plt.show()"
     ],
     "language": "python",
     "metadata": {},
     "outputs": [
      {
       "metadata": {},
       "output_type": "display_data",
       "png": "[encoded data removed]",
       "text": [
        "<matplotlib.figure.Figure at 0x1077cfd90>"
       ]
      }
     ],
     "prompt_number": 16
    },
    {
     "cell_type": "code",
     "collapsed": false,
     "input": [
      "plt.title('sum')\n",
      "plt.xlabel('theta 1 (deg)')\n",
      "plt.ylabel('sum')\n",
      "plt.plot(theta1list,thetasum,'b.')\n",
      "plt.show()"
     ],
     "language": "python",
     "metadata": {},
     "outputs": [
      {
       "metadata": {},
       "output_type": "display_data",
       "png": "[encoded data removed]",
       "text": [
        "<matplotlib.figure.Figure at 0x107770b90>"
       ]
      }
     ],
     "prompt_number": 18
    },
    {
     "cell_type": "code",
     "collapsed": false,
     "input": [],
     "language": "python",
     "metadata": {},
     "outputs": []
    }
   ],
   "metadata": {}
  }
 ]
}