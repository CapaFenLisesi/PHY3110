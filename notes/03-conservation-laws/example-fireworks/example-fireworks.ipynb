{
 "metadata": {
  "name": "",
  "signature": "sha256:c3253303d55616358d7e46efe08a43af0e62ef195ab89ade149be5f7642764fb"
 },
 "nbformat": 3,
 "nbformat_minor": 0,
 "worksheets": [
  {
   "cells": [
    {
     "cell_type": "heading",
     "level": 1,
     "metadata": {},
     "source": [
      "Example - Explosion of a Fireworks Shell"
     ]
    },
    {
     "cell_type": "markdown",
     "metadata": {},
     "source": [
      "A fireworks shell is launched from the origin (launch speed $v_0$, initial angle $\\theta$) and travels along the usual parabolic path above flat ground. Had it failed to explode, it would have had the usual range \n",
      "\n",
      "$$\n",
      "R  =  \\frac{2v_0^2}{g}\\sin(\\theta)\\cos(\\theta)\n",
      "$$\n",
      "\n",
      "Right at the very peak of its path, it explodes into two pieces of *equal mass*. Just after the explosion, one of the pieces shoots straight upward with a speed $v_1$ after the explosion. What is the velocity of the second piece after the explosion and where is the center of mass of the system after both pieces land?\n"
     ]
    },
    {
     "cell_type": "code",
     "collapsed": false,
     "input": [
      "%matplotlib inline"
     ],
     "language": "python",
     "metadata": {},
     "outputs": [],
     "prompt_number": 1
    },
    {
     "cell_type": "code",
     "collapsed": false,
     "input": [
      "from __future__ import division, print_function\n",
      "from ivisual import *\n",
      "from numpy import *\n",
      "import matplotlib.pyplot as plt"
     ],
     "language": "python",
     "metadata": {},
     "outputs": [
      {
       "html": [
        "<div id=\"scene\"><div id=\"glowscript\" class=\"glowscript\"></div></div>"
       ],
       "metadata": {},
       "output_type": "display_data",
       "text": [
        "<IPython.core.display.HTML at 0x10744c610>"
       ]
      },
      {
       "javascript": [
        "require.undef(\"nbextensions/glow.1.0.min\");"
       ],
       "metadata": {},
       "output_type": "display_data",
       "text": [
        "<IPython.core.display.Javascript at 0x10744c8d0>"
       ]
      },
      {
       "javascript": [
        "require.undef(\"nbextensions/glowcomm\");"
       ],
       "metadata": {},
       "output_type": "display_data",
       "text": [
        "<IPython.core.display.Javascript at 0x10744c910>"
       ]
      },
      {
       "javascript": [
        "require([\"nbextensions/glowcomm\"], function(){console.log(\"glowcomm loaded\");})"
       ],
       "metadata": {},
       "output_type": "display_data",
       "text": [
        "<IPython.core.display.Javascript at 0x10744c950>"
       ]
      }
     ],
     "prompt_number": 2
    },
    {
     "cell_type": "code",
     "collapsed": false,
     "input": [
      "m=1 #mass of shell\n",
      "m1=m/2 #mass of piece 1\n",
      "m2=m1 #mass of piece 2\n",
      "g=9.8\n",
      "\n",
      "v0=20 #initial speed of shell\n",
      "theta=45*pi/180 #initial angle of shell\n",
      "v=v0*vector(cos(theta), sin(theta), 0)\n",
      "v1=v0*vector(cos(theta), sin(theta), 0)\n",
      "v2=v0*vector(cos(theta), sin(theta), 0)\n",
      "\n",
      "phi1=90*pi/180 #final angle of piece 1\n",
      "v1mag=5 #final speed of piece 1\n",
      "\n",
      "r=vector(0,0,0) #position of shell\n",
      "r1=vector(0,0,0) #position of piece 1\n",
      "r2=vector(0,0,0) #position of piece 2\n",
      "\n",
      "#gravitational forces on the shell and pieces\n",
      "gfield=vector(0,-g,0)\n",
      "Fgrav=m*gfield\n",
      "Fgrav1=m1*gfield\n",
      "Fgrav2=m2*gfield\n",
      "\n",
      "tpeak=v.y/g\n",
      "\n",
      "t=0\n",
      "dt=0.005\n",
      "\n",
      "#initial net force on the shell and pieces\n",
      "Fnet=Fgrav\n",
      "Fnet1=Fgrav1\n",
      "Fnet2=Fgrav2\n",
      "\n",
      "#we need a boolean to change the conditions when the explosion occurs\n",
      "explosion=False\n",
      "\n",
      "#store the data\n",
      "tlist=[]\n",
      "x1list=[]\n",
      "y1list=[]\n",
      "vx1list=[]\n",
      "x2list=[]\n",
      "y2list=[]\n",
      "vx2list=[]\n",
      "xshell=[]\n",
      "yshell=[]\n",
      "\n",
      "#while particles are above the ground\n",
      "while r1.y>-0.01 or r2.y>-0.01:\n",
      "\n",
      "    # we only want to run this code once, just as soon as the particle crosses the peak\n",
      "    if(t>tpeak and explosion==False):\n",
      "        Fnet=vector(0,0,0)\n",
      "        Fnet1=Fgrav1\n",
      "        Fnet2=Fgrav2\n",
      "        v1=v1mag*vector(cos(phi1),sin(phi1),0)\n",
      "        v2=1/m2*vector(m*v.x-m1*v1.x, -m1*v1mag,0)\n",
      "\n",
      "        #set velocity of shell to zero\n",
      "        v=vector(0,0,0)\n",
      "        \n",
      "        #set explosion to True so that this code will only run once\n",
      "        explosion=True\n",
      "\n",
      "    #if the particle hits the ground, set the force and velocity to zero\n",
      "    if(r1.y<-0.01):\n",
      "        Fnet1=vector(0,0,0)\n",
      "        v1=vector(0,0,0)\n",
      "\n",
      "    #if the particle hits the ground, set the force and velocity to zero\n",
      "    if(r2.y<-0.01):\n",
      "        Fnet2=vector(0,0,0)\n",
      "        v2=vector(0,0,0)\n",
      "\n",
      "    #Model the motion of the shell and pieces\n",
      "    v=v+Fnet/m*dt\n",
      "    r=r+v*dt\n",
      "    \n",
      "    v1=v1+Fnet1/m1*dt\n",
      "    r1=r1+v1*dt\n",
      "    \n",
      "    v2=v2+Fnet2/m2*dt\n",
      "    r2=r2+v2*dt\n",
      "    \n",
      "    t=t+dt\n",
      "\n",
      "    #store data\n",
      "    tlist.append(t)\n",
      "    x1list.append(r1.x)\n",
      "    y1list.append(r1.y)\n",
      "    vx1list.append(v1.x)\n",
      "    x2list.append(r2.x)\n",
      "    y2list.append(r2.y)\n",
      "    vx2list.append(v2.x)\n",
      "    xshell.append(r.x)\n",
      "    yshell.append(r.y)\n",
      "\n",
      "xcmlist=1/2*(array(x1list)+array(x2list))\n",
      "ycmlist=1/2*(array(y1list)+array(y2list))"
     ],
     "language": "python",
     "metadata": {},
     "outputs": [],
     "prompt_number": 27
    },
    {
     "cell_type": "code",
     "collapsed": false,
     "input": [
      "plt.title('path')\n",
      "plt.xlabel('x (m)')\n",
      "plt.ylabel('y (m)')\n",
      "plt.plot(x1list,y1list,'m.',x2list,y2list,'y.')\n",
      "plt.show()"
     ],
     "language": "python",
     "metadata": {},
     "outputs": [
      {
       "metadata": {},
       "output_type": "display_data",
       "png": "[encoded data removed]",
       "text": [
        "<matplotlib.figure.Figure at 0x1074bd650>"
       ]
      }
     ],
     "prompt_number": 28
    },
    {
     "cell_type": "code",
     "collapsed": false,
     "input": [
      "plt.title('CM path')\n",
      "plt.xlabel('x (m)')\n",
      "plt.ylabel('y (m)')\n",
      "plt.plot(xcmlist,ycmlist,'c.')\n",
      "plt.show()"
     ],
     "language": "python",
     "metadata": {},
     "outputs": [
      {
       "metadata": {},
       "output_type": "display_data",
       "png": "[encoded data removed]",
       "text": [
        "<matplotlib.figure.Figure at 0x10748d890>"
       ]
      }
     ],
     "prompt_number": 29
    },
    {
     "cell_type": "code",
     "collapsed": false,
     "input": [
      "plt.title('x vs t for piece 1')\n",
      "plt.xlabel('t (s)')\n",
      "plt.ylabel('x (m)')\n",
      "plt.plot(tlist,x1list,'b.')\n",
      "plt.show()"
     ],
     "language": "python",
     "metadata": {},
     "outputs": [
      {
       "metadata": {},
       "output_type": "display_data",
       "png": "[encoded data removed]",
       "text": [
        "<matplotlib.figure.Figure at 0x107705510>"
       ]
      }
     ],
     "prompt_number": 30
    },
    {
     "cell_type": "code",
     "collapsed": false,
     "input": [
      "plt.title('y vs t for piece 1')\n",
      "plt.xlabel('t (s)')\n",
      "plt.ylabel('y (m)')\n",
      "plt.plot(tlist,y1list,'r.')\n",
      "plt.show()"
     ],
     "language": "python",
     "metadata": {},
     "outputs": [
      {
       "metadata": {},
       "output_type": "display_data",
       "png": "[encoded data removed]",
       "text": [
        "<matplotlib.figure.Figure at 0x1077aeed0>"
       ]
      }
     ],
     "prompt_number": 31
    },
    {
     "cell_type": "code",
     "collapsed": false,
     "input": [
      "plt.title('x vs t for piece 2')\n",
      "plt.xlabel('t (s)')\n",
      "plt.ylabel('x (m)')\n",
      "plt.plot(tlist,x2list,'b.')\n",
      "plt.show()"
     ],
     "language": "python",
     "metadata": {},
     "outputs": [
      {
       "metadata": {},
       "output_type": "display_data",
       "png": "[encoded data removed]",
       "text": [
        "<matplotlib.figure.Figure at 0x107705150>"
       ]
      }
     ],
     "prompt_number": 32
    },
    {
     "cell_type": "code",
     "collapsed": false,
     "input": [
      "plt.title('y vs t for piece 2')\n",
      "plt.xlabel('t (s)')\n",
      "plt.ylabel('y (m)')\n",
      "plt.plot(tlist,y2list,'r.')\n",
      "plt.show()"
     ],
     "language": "python",
     "metadata": {},
     "outputs": [
      {
       "metadata": {},
       "output_type": "display_data",
       "png": "[encoded data removed]",
       "text": [
        "<matplotlib.figure.Figure at 0x10748d590>"
       ]
      }
     ],
     "prompt_number": 33
    },
    {
     "cell_type": "code",
     "collapsed": false,
     "input": [
      "#calculate cm of pieces on ground\n",
      "xcm=0.5*(x1list[size(x1list)-1]+x2list[size(x2list)-1])\n",
      "print(\"x of CM =\",xcm)\n",
      "\n",
      "\n",
      "\n",
      "#theoretical calculations\n",
      "R=2*v0*cos(theta)*v0*sin(theta)/g\n",
      "print(\"R = \",R)\n",
      "\n",
      "h=R/2*tan(theta)-1/2*g*R*R/4/v0/v0/cos(theta)/cos(theta)\n",
      "print(\"h = \",h)\n",
      "xcmtheor=R/2-v0/g*v1mag*cos(theta)+v0/g*cos(theta)*sqrt(v1mag*v1mag+2*g*h)\n",
      "print(\"x of CM (theoretical) = \", xcmtheor)"
     ],
     "language": "python",
     "metadata": {},
     "outputs": [
      {
       "output_type": "stream",
       "stream": "stdout",
       "text": [
        "x of CM = 34.8603643125\n",
        "R =  40.8163265306\n",
        "h =  10.2040816327\n",
        "x of CM (theoretical) =  34.8389139018\n"
       ]
      }
     ],
     "prompt_number": 34
    },
    {
     "cell_type": "code",
     "collapsed": false,
     "input": [],
     "language": "python",
     "metadata": {},
     "outputs": []
    }
   ],
   "metadata": {}
  }
 ]
}