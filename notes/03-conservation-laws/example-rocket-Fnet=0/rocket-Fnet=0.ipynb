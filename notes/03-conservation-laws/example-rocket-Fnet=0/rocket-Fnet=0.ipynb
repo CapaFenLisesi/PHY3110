{
 "metadata": {
  "name": "",
  "signature": "sha256:61f42d691cde26bc471478c5e76b0d52ef6c850a7513395b98709b0494239dbf"
 },
 "nbformat": 3,
 "nbformat_minor": 0,
 "worksheets": [
  {
   "cells": [
    {
     "cell_type": "heading",
     "level": 1,
     "metadata": {},
     "source": [
      "Rocket Motion with Fnet=0 (on the rocket/exhaust system)"
     ]
    },
    {
     "cell_type": "heading",
     "level": 2,
     "metadata": {},
     "source": [
      "Example"
     ]
    },
    {
     "cell_type": "markdown",
     "metadata": {},
     "source": [
      "The V2 Rocket was the <a href=\"http://en.wikipedia.org/wiki/V-2_rocket\">world's first long-range ballistic missile</a>.  "
     ]
    },
    {
     "cell_type": "markdown",
     "metadata": {},
     "source": [
      "total mass = 12500 kg\n",
      "\n",
      "mass of propellant = 8720 kg\n",
      "\n",
      "mass of rocket body = 3780 kg\n",
      "\n",
      "exhaust speed = 2000 m/s\n",
      "\n",
      "thrust = 265,000 N\n",
      "\n",
      "1. Model the motion of the rocket numerically. Graph $v_x(m)$ and $v_x(t)$.\n",
      "2. If this rocket is in space and starts from rest, what would be its maximum speed? \n",
      "3. How long will it take to burn all of its fuel?\n",
      "4. What was its displacement between where it started and its location when it reaches its maximum speed? "
     ]
    },
    {
     "cell_type": "code",
     "collapsed": false,
     "input": [
      "%matplotlib inline"
     ],
     "language": "python",
     "metadata": {},
     "outputs": [],
     "prompt_number": 1
    },
    {
     "cell_type": "code",
     "collapsed": false,
     "input": [
      "from __future__ import division, print_function\n",
      "from numpy import *\n",
      "from ivisual import *\n",
      "import matplotlib.pyplot as plt"
     ],
     "language": "python",
     "metadata": {},
     "outputs": [
      {
       "html": [
        "<div id=\"scene\"><div id=\"glowscript\" class=\"glowscript\"></div></div>"
       ],
       "metadata": {},
       "output_type": "display_data",
       "text": [
        "<IPython.core.display.HTML at 0x10766a610>"
       ]
      },
      {
       "javascript": [
        "require.undef(\"nbextensions/glow.1.0.min\");"
       ],
       "metadata": {},
       "output_type": "display_data",
       "text": [
        "<IPython.core.display.Javascript at 0x10766a910>"
       ]
      },
      {
       "javascript": [
        "require.undef(\"nbextensions/glowcomm\");"
       ],
       "metadata": {},
       "output_type": "display_data",
       "text": [
        "<IPython.core.display.Javascript at 0x10766a950>"
       ]
      },
      {
       "javascript": [
        "require([\"nbextensions/glowcomm\"], function(){console.log(\"glowcomm loaded\");})"
       ],
       "metadata": {},
       "output_type": "display_data",
       "text": [
        "<IPython.core.display.Javascript at 0x10766a9d0>"
       ]
      }
     ],
     "prompt_number": 2
    },
    {
     "cell_type": "code",
     "collapsed": false,
     "input": [
      "mfuel=8720\n",
      "mbody=3780\n",
      "m0=mfuel+mbody\n",
      "m=mfuel+mbody\n",
      "mf=mbody\n",
      "vexhaust=2000\n",
      "thrust=2.65e5\n",
      "mdot=-thrust/vexhaust\n",
      "\n",
      "r=vector(0,0,0)\n",
      "v=vector(0,0,0)\n",
      "\n",
      "t=0\n",
      "dt=0.005\n",
      "\n",
      "tlist=[]\n",
      "xlist=[]\n",
      "vxlist=[]\n",
      "mlist=[]\n",
      "vtheorlist=[]\n",
      "\n",
      "while m>mf:\n",
      "    Fthrust=vector(thrust,0,0)\n",
      "    Fnet=Fthrust\n",
      "    m=m+mdot*dt\n",
      "    \n",
      "    v=v+Fnet/m*dt\n",
      "    r=r+v*dt\n",
      "    \n",
      "    vtheor=vexhaust*log(m0/m)\n",
      "    \n",
      "    t=t+dt\n",
      "    \n",
      "    tlist.append(t)\n",
      "    xlist.append(r.x)\n",
      "    vxlist.append(v.x)\n",
      "    mlist.append(m)\n",
      "    vtheorlist.append(vtheor)\n",
      "\n",
      "    \n",
      "print(\"burnout at t=\",t,\" s\") \n",
      "print(\"velocity at burnout = \",v.x,\" m/s\")\n",
      "print(\"mass at burnout = \",m,\" kg\")\n",
      "print(\"displacement at burnout=\",r.x,\" m\") \n"
     ],
     "language": "python",
     "metadata": {},
     "outputs": [
      {
       "output_type": "stream",
       "stream": "stdout",
       "text": [
        "burnout at t= 65.815  s\n",
        "velocity at burnout =  2392.38951431  m/s\n",
        "mass at burnout =  3779.5125  kg\n",
        "displacement at burnout= 63399.9538405  m\n"
       ]
      }
     ],
     "prompt_number": 3
    },
    {
     "cell_type": "code",
     "collapsed": false,
     "input": [
      "plt.title('vx vs m')\n",
      "plt.xlabel('m (kg)')\n",
      "plt.ylabel('vx (m/s)')\n",
      "plt.plot(mlist,vxlist,'y.',mlist,vtheorlist,'r-')\n",
      "plt.show()\n"
     ],
     "language": "python",
     "metadata": {},
     "outputs": [
      {
       "metadata": {},
       "output_type": "display_data",
       "png": "[encoded data removed]",
       "text": [
        "<matplotlib.figure.Figure at 0x1076abd10>"
       ]
      }
     ],
     "prompt_number": 4
    },
    {
     "cell_type": "code",
     "collapsed": false,
     "input": [
      "plt.title('vx vs t')\n",
      "plt.xlabel('t (s)')\n",
      "plt.ylabel('vx (m/s)')\n",
      "plt.plot(tlist,vxlist,'b.')\n",
      "plt.show()"
     ],
     "language": "python",
     "metadata": {},
     "outputs": [
      {
       "metadata": {},
       "output_type": "display_data",
       "png": "[encoded data removed]",
       "text": [
        "<matplotlib.figure.Figure at 0x107706750>"
       ]
      }
     ],
     "prompt_number": 5
    },
    {
     "cell_type": "code",
     "collapsed": false,
     "input": [
      "plt.title('x vs t')\n",
      "plt.xlabel('t (s)')\n",
      "plt.ylabel('x (m)')\n",
      "plt.plot(tlist,xlist,'b.')\n",
      "plt.show()"
     ],
     "language": "python",
     "metadata": {},
     "outputs": [
      {
       "metadata": {},
       "output_type": "display_data",
       "png": "[encoded data removed]",
       "text": [
        "<matplotlib.figure.Figure at 0x107ab4f50>"
       ]
      }
     ],
     "prompt_number": 6
    },
    {
     "cell_type": "code",
     "collapsed": false,
     "input": [],
     "language": "python",
     "metadata": {},
     "outputs": [],
     "prompt_number": 6
    }
   ],
   "metadata": {}
  }
 ]
}