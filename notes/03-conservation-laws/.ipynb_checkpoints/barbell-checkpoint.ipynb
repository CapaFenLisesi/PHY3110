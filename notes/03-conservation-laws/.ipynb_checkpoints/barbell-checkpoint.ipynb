{
 "metadata": {
  "name": "",
  "signature": "sha256:883b5d98b5eb193382fb6e953e2578a443e5f1524493c0f1bad15021d29d4104"
 },
 "nbformat": 3,
 "nbformat_minor": 0,
 "worksheets": [
  {
   "cells": [
    {
     "cell_type": "heading",
     "level": 1,
     "metadata": {},
     "source": [
      "Barbell Angular Momentum"
     ]
    },
    {
     "cell_type": "markdown",
     "metadata": {},
     "source": [
      "This program is based on the program *10_barbell_ang_mom.py* by Bruce Sherwood. At the beginning of the program, select the rotation option and direction option."
     ]
    },
    {
     "cell_type": "code",
     "collapsed": false,
     "input": [
      "from __future__ import division, print_function\n",
      "from ivisual import *\n",
      "from math import *"
     ],
     "language": "python",
     "metadata": {},
     "outputs": [
      {
       "html": [
        "<div id=\"scene\"><div id=\"glowscript\" class=\"glowscript\"></div></div>"
       ],
       "metadata": {},
       "output_type": "display_data",
       "text": [
        "<IPython.core.display.HTML at 0x103497e50>"
       ]
      },
      {
       "javascript": [
        "require.undef(\"nbextensions/glow.1.0.min\");"
       ],
       "metadata": {},
       "output_type": "display_data",
       "text": [
        "<IPython.core.display.Javascript at 0x1048d9250>"
       ]
      },
      {
       "javascript": [
        "require.undef(\"nbextensions/glowcomm\");"
       ],
       "metadata": {},
       "output_type": "display_data",
       "text": [
        "<IPython.core.display.Javascript at 0x1048d9290>"
       ]
      },
      {
       "javascript": [
        "require([\"nbextensions/glowcomm\"], function(){console.log(\"glowcomm loaded\");})"
       ],
       "metadata": {},
       "output_type": "display_data",
       "text": [
        "<IPython.core.display.Javascript at 0x1048d92d0>"
       ]
      }
     ],
     "prompt_number": 1
    },
    {
     "cell_type": "code",
     "collapsed": false,
     "input": [
      "#rotation options\n",
      "rotation = 0 #barbell orientation doesn't change (mounted on frictionless axle, no torque acts on it)\n",
      "#rotation = 1 #barbell rotates at same rate as rod\n",
      "#rotation = 2 #barbell rotates a lot\n",
      "\n",
      "#direction of rotation of barbell about its CM\n",
      "direction = 1 #counterclockwise\n",
      "#direction = -1 #clockwise\n",
      "\n",
      "#create scene\n",
      "scene=canvas(title=\"Barbell Angular Momentum\")\n",
      "\n",
      "#set background color\n",
      "#scene.background = color.white\n",
      "\n",
      "#mass of particles on barbell\n",
      "rmass = 0.2\n",
      "\n",
      "#length of the barbell\n",
      "L = 2\n",
      "\n",
      "#rod from origin to CM of barbell\n",
      "rod=cylinder(pos=(0,0,0), axis=(4,0,0), radius=0.03, color=(1,.9,0))\n",
      "\n",
      "#create a frame\n",
      "barbell = frame()\n",
      "\n",
      "#particle 1\n",
      "s1=sphere(frame = barbell, pos=(0,L/2.,0), radius=rmass, color=(1,0,0))\n",
      "s1.mass=0.01\n",
      "\n",
      "#particle 2\n",
      "s2=sphere(frame = barbell, pos=(0,-L/2.,0), radius=rmass, color=(0,0,1))\n",
      "s2.mass=0.01\n",
      "\n",
      "#barbell rod\n",
      "rd=cylinder(frame = barbell, pos=s1.pos, axis=(s2.pos-s1.pos),\n",
      "            color=(1,1,1), radius=0.04)\n",
      "\n",
      "#barbell moment of inertia about CM\n",
      "barbell.Icm = 2*s1.mass*(L/2)**2\n",
      "barbell.pos = rod.pos+rod.axis\n",
      "\n",
      "#moment of inertia of CM of barbell about origin\n",
      "barbell.Iorig = 2*s1.mass*(mag(rod.axis)**2)\n",
      "\n",
      "#angular velocity of the barbell about its CM\n",
      "omegaCM = vector(0,0,pi)\n",
      "\n",
      "#angular velocity of the CM of the barbell about the origin\n",
      "omega = vector(0,0,pi/5)\n",
      "\n",
      "t = 0.0\n",
      "dt = 0.01\n",
      "scene.range=5\n",
      "Lscale = 2.0/0.1\n",
      "\n",
      "LT=arrow(pos=rod.pos, axis=(0,0,0), color=color.cyan,\n",
      "         shaftwidth = 0.2)\n",
      "LR=arrow(pos=barbell.pos, axis=(0,0,0), color=color.green,\n",
      "         shaftwidth = 0.2)\n",
      "\n",
      "theta=0\n",
      "phi=0\n",
      "dphi=mag(omega)*dt\n",
      "dtheta=mag(omegaCM)*dt\n",
      "\n",
      "T=2*pi/mag(omega)\n",
      "\n",
      "while t<2*T:\n",
      "    rate(150)\n",
      "    theta = theta + mag(omegaCM)*dt\n",
      "    phi = phi + mag(omega)*dt\n",
      "    rod.axis=4*vector(cos(phi), sin(phi),0)\n",
      "    barbell.pos = rod.pos+rod.axis\n",
      "    Ltrans = barbell.Iorig*omega\n",
      "    Lrot = vector(0,0,0)\n",
      "    if rotation == 1:\n",
      "        barbell.rotate(angle=dphi, axis=omegaCM, origin=(barbell.pos))\n",
      "        Lrot = barbell.Icm*omega \n",
      "    if rotation == 2:\n",
      "        barbell.rotate(angle=direction*dtheta, axis=omegaCM, origin=(barbell.pos))\n",
      "        Lrot = direction*barbell.Icm*omegaCM\n",
      "    LT.axis = Ltrans*Lscale\n",
      "    LR.pos = barbell.pos\n",
      "    LR.axis = Lrot*Lscale\n",
      "    t = t+dt\n",
      "\n",
      "    "
     ],
     "language": "python",
     "metadata": {},
     "outputs": [
      {
       "html": [
        "<div id=\"scene10\"><div id=\"glowscript\" class=\"glowscript\"></div></div>"
       ],
       "metadata": {},
       "output_type": "display_data",
       "text": [
        "<IPython.core.display.HTML at 0x104a7c4d0>"
       ]
      },
      {
       "javascript": [
        "window.__context = { glowscript_container: $(\"#glowscript\").removeAttr(\"id\")}"
       ],
       "metadata": {},
       "output_type": "display_data",
       "text": [
        "<IPython.core.display.Javascript at 0x104a7c510>"
       ]
      }
     ],
     "prompt_number": 11
    },
    {
     "cell_type": "code",
     "collapsed": false,
     "input": [],
     "language": "python",
     "metadata": {},
     "outputs": []
    }
   ],
   "metadata": {}
  }
 ]
}