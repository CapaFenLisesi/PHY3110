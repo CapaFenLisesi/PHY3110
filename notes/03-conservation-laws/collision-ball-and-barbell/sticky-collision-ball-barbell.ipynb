{
 "metadata": {
  "name": "",
  "signature": "sha256:a0587e5b6a9a4eca3ab6c85034ecd706c660d3d9bdc3e4678f4f20f81ddbbd51"
 },
 "nbformat": 3,
 "nbformat_minor": 0,
 "worksheets": [
  {
   "cells": [
    {
     "cell_type": "heading",
     "level": 1,
     "metadata": {},
     "source": [
      "A Sticky Collision Between a Ball and Barbell"
     ]
    },
    {
     "cell_type": "code",
     "collapsed": false,
     "input": [
      "%matplotlib inline"
     ],
     "language": "python",
     "metadata": {},
     "outputs": [],
     "prompt_number": 1
    },
    {
     "cell_type": "code",
     "collapsed": false,
     "input": [
      "from __future__ import division, print_function\n",
      "from ivisual import *\n",
      "from math import *\n",
      "import matplotlib.pyplot as plt"
     ],
     "language": "python",
     "metadata": {},
     "outputs": [
      {
       "html": [
        "<div id=\"scene\"><div id=\"glowscript\" class=\"glowscript\"></div></div>"
       ],
       "metadata": {},
       "output_type": "display_data",
       "text": [
        "<IPython.core.display.HTML at 0x10743d610>"
       ]
      },
      {
       "javascript": [
        "require.undef(\"nbextensions/glow.1.0.min\");"
       ],
       "metadata": {},
       "output_type": "display_data",
       "text": [
        "<IPython.core.display.Javascript at 0x10743d8d0>"
       ]
      },
      {
       "javascript": [
        "require.undef(\"nbextensions/glowcomm\");"
       ],
       "metadata": {},
       "output_type": "display_data",
       "text": [
        "<IPython.core.display.Javascript at 0x10743d910>"
       ]
      },
      {
       "javascript": [
        "require([\"nbextensions/glowcomm\"], function(){console.log(\"glowcomm loaded\");})"
       ],
       "metadata": {},
       "output_type": "display_data",
       "text": [
        "<IPython.core.display.Javascript at 0x10743d950>"
       ]
      }
     ],
     "prompt_number": 2
    },
    {
     "cell_type": "code",
     "collapsed": false,
     "input": [
      "scene=canvas(title=\"Sticky Collision Between Ball and Barbell\")\n",
      "#set these values\n",
      "R=0.6 #m radius of barbell\n",
      "vi=10 #m/s initial x-vel of incoming particle\n",
      "yi=0.3 #m initial y of incoming particle\n",
      "vibarbell=0 #m/s initial x-vel of cm of barbell\n",
      "mass1=0.2 #kg particle\n",
      "mass2=0.3 #kg barbell\n",
      "mass3=0.3 #kg barbell\n",
      "w=-pi #initial omega of barbell\n",
      "angle=75*pi/180 #initial angle of barbell in rad\n",
      "time=2 #s animation time\n",
      "\n",
      "###################################\n",
      "\n",
      "#radius of ball\n",
      "r=0.05*R\n",
      "\n",
      "#scene\n",
      "scene.autoscale=False\n",
      "scene.range=4*R\n",
      "\n",
      "#create spheres\n",
      "m1=sphere(radius=r, pos=vector(-4*R,yi,0), color=color.red, make_trail=True, retain=400)\n",
      "m2=sphere(radius=r, pos=vector(0,R,0), color=color.blue, make_trail=True, retain=400)\n",
      "m3=sphere(radius=r, pos=vector(0,-R,0), color=color.blue, make_trail=True, retain=400)\n",
      "cmbarbell=sphere(radius=r, pos=vector(-3*R,0,0), color=color.white, make_trail=True, retain=400)\n",
      "cm=sphere(radius=r, pos=vector(0,0,0), color=color.cyan, make_trail=True, retain=400)\n",
      "cmbarbell.visible=1\n",
      "cm.visible=1\n",
      "\n",
      "#set masses\n",
      "m1.m=mass1\n",
      "m2.m=mass2\n",
      "m3.m=mass3\n",
      "cmbarbell.m=m2.m+m3.m\n",
      "cm.m=m1.m+m2.m+m3.m\n",
      "\n",
      "#set barball variables\n",
      "omega=w\n",
      "theta=angle\n",
      "dtheta=0\n",
      "Icm=m1.m*(mag(m1.pos-cm.pos))**2+m2.m*(mag(m2.pos-cm.pos))**2+m3.m*(mag(m3.pos-cm.pos))**2\n",
      "Icmbarbell=m2.m*(mag(m2.pos-cmbarbell.pos))**2+m3.m*(mag(m3.pos-cmbarbell.pos))**2\n",
      "\n",
      "#set velocities and momenta\n",
      "m1.v=vector(vi,0,0)\n",
      "m1.p=m1.m*m1.v\n",
      "cmbarbell.v=vector(vibarbell,0,0)\n",
      "cmbarbell.p=cmbarbell.m*cmbarbell.v\n",
      "cm.p=m1.p+cmbarbell.p\n",
      "cm.v=cm.p/(cm.m)\n",
      "\n",
      "#set positions of barbell spheres based on the angle of the barbell\n",
      "m2.pos=cmbarbell.pos+vector(R*cos(theta),R*sin(theta),0)\n",
      "m3.pos=cmbarbell.pos+vector(R*cos(theta+pi),R*sin(theta+pi),0)\n",
      "cmbarbell.pos=(m2.m*m2.pos+m3.m*m3.pos)/(m2.m+m3.m)\n",
      "cm.pos=(m1.m*m1.pos + m2.m*m2.pos+m3.m*m3.pos)/(m1.m+m2.m+m3.m)\n",
      "\n",
      "#draw the barbell rod\n",
      "rod=cylinder(radius=r/5, pos=m3.pos, axis=m2.pos-m3.pos, color=color.yellow)\n",
      "\n",
      "#calculate initial angular momenta\n",
      "m1.Ltrans=cross(m1.pos,m1.p)\n",
      "cmbarbell.Ltrans=cross(cmbarbell.pos,cmbarbell.p)\n",
      "cmbarbell.Lrot=Icmbarbell*vector(0,0,omega)\n",
      "cm.Ltrans=cross(cm.pos,cm.p)\n",
      "cm.Lrot=Icm*vector(0,0,omega)\n",
      "Lsys=m1.Ltrans+cmbarbell.Ltrans+cmbarbell.Lrot\n",
      "Ltrans=m1.Ltrans+cmbarbell.Ltrans\n",
      "Lrot=cmbarbell.Lrot\n",
      "\n",
      "#print initial angular momenta\n",
      "print()\n",
      "print(\"Before Collision---------------\")\n",
      "print(\"m1.Ltrans =\",m1.Ltrans)\n",
      "print(\"cmbarbell.Ltrans =\",cmbarbell.Ltrans)\n",
      "print(\"cmbarbell.Lrot =\",cmbarbell.Lrot)\n",
      "print(\"Lsys =\",Lsys)\n",
      "\n",
      "#set clock variables\n",
      "t=0\n",
      "dt=0.005\n",
      "\n",
      "#boolean for collision\n",
      "beforeCollision=True\n",
      "\n",
      "while t<time :\n",
      "    rate(20)\n",
      "    \n",
      "    #update CM position and angle of barbell\n",
      "    cm.pos=cm.pos+cm.p/cm.m*dt\n",
      "    theta=theta+omega*dt\n",
      "\n",
      "    #update balls\n",
      "    if beforeCollision:\n",
      "        cmbarbell.pos=cmbarbell.pos+cmbarbell.p/cmbarbell.m*dt\n",
      "        m1.pos=m1.pos+m1.p/m1.m*dt\n",
      "        m2.pos=cmbarbell.pos+R*vector(cos(theta),sin(theta),0)\n",
      "        m3.pos=cmbarbell.pos+R*vector(cos(theta+pi),sin(theta+pi),0)\n",
      "    else:\n",
      "        m1.pos=cm.pos+d1relcm*vector(cos(theta+phi0),sin(theta+phi0),0)\n",
      "        m2.pos=cm.pos+d2relcm*vector(cos(theta),sin(theta),0)\n",
      "        m3.pos=cm.pos+d3relcm*vector(cos(theta+pi),sin(theta+pi),0)\n",
      "        cmbarbell.pos=(m2.m*m2.pos+m3.m*m3.pos)/(m2.m+m3.m)\n",
      "\n",
      "    #update rod\n",
      "    rod.pos=m3.pos\n",
      "    rod.axis=m2.pos-m3.pos\n",
      "\n",
      "    #update clock\n",
      "    t=t+dt\n",
      "    \n",
      "    #see if particle collides with the barbell\n",
      "    if(beforeCollision):\n",
      "        a=m1.pos-cm.pos\n",
      "        b=m2.pos-cm.pos\n",
      "        phi=acos(dot(a,b)/mag(a)/mag(b))\n",
      "        phiIntersect=atan(r*mag(b)/dot(a,b))\n",
      "    \n",
      "    #collision\n",
      "    if phi<phiIntersect and beforeCollision:\n",
      "        phi0 = phiIntersect #angle between vector from CM to m1 and the barbell\n",
      "        d1relcm=mag(cm.pos-m1.pos) #distance between cm and m1\n",
      "        d2relcm=mag(cm.pos-m2.pos) #distance between cm and m2\n",
      "        d3relcm=mag(cm.pos-m3.pos) #distance between cm and m3\n",
      "        Ltrans=cross(cm.pos, cm.p) \n",
      "        Lrot=Lsys-Ltrans\n",
      "        Icm=m1.m*(mag(m1.pos-cm.pos))**2+m2.m*(mag(m2.pos-cm.pos))**2+m3.m*(mag(m3.pos-cm.pos))**2\n",
      "        omega=Lrot.z/Icm\n",
      "        \n",
      "        print()\n",
      "        print(\"After Collision--------------\")\n",
      "        print(\"Ltrans =\",Ltrans)\n",
      "        print(\"Lrot =\",Lrot)\n",
      "        print(\"Lsys =\",Lsys)\n",
      "        print(\"Icm = \",Icm)\n",
      "        print(\"omega about cm =\",omega)\n",
      "        \n",
      "        beforeCollision=False\n",
      "\n"
     ],
     "language": "python",
     "metadata": {},
     "outputs": [
      {
       "html": [
        "<div id=\"scene4\"><div id=\"glowscript\" class=\"glowscript\"></div></div>"
       ],
       "metadata": {},
       "output_type": "display_data",
       "text": [
        "<IPython.core.display.HTML at 0x1078cd8d0>"
       ]
      },
      {
       "javascript": [
        "window.__context = { glowscript_container: $(\"#glowscript\").removeAttr(\"id\")}"
       ],
       "metadata": {},
       "output_type": "display_data",
       "text": [
        "<IPython.core.display.Javascript at 0x1074147d0>"
       ]
      },
      {
       "output_type": "stream",
       "stream": "stdout",
       "text": [
        "\n",
        "Before Collision---------------\n",
        "m1.Ltrans = <0.000000, 0.000000, -0.600000>\n",
        "cmbarbell.Ltrans = <0.000000, 0.000000, -0.000000>\n",
        "cmbarbell.Lrot = [ 0.          0.         -6.78584013]\n",
        "Lsys = <0.000000, 0.000000, -7.385840>\n",
        "\n"
       ]
      },
      {
       "output_type": "stream",
       "stream": "stdout",
       "text": [
        "After Collision--------------\n",
        "Ltrans = <0.000000, 0.000000, -0.150000>\n",
        "Lrot = <0.000000, 0.000000, -7.235840>\n",
        "Lsys = <0.000000, 0.000000, -7.385840>\n",
        "Icm =  0.232875\n",
        "omega about cm = -31.07177727\n"
       ]
      }
     ],
     "prompt_number": 6
    },
    {
     "cell_type": "code",
     "collapsed": false,
     "input": [],
     "language": "python",
     "metadata": {},
     "outputs": []
    }
   ],
   "metadata": {}
  }
 ]
}