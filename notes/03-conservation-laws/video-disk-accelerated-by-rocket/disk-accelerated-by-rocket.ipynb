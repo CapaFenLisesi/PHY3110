{
 "metadata": {
  "name": "",
  "signature": "sha256:63f5db8c6902892e3b504c314d86690a0b2f9ab6b3bcaad455da1f268b677434"
 },
 "nbformat": 3,
 "nbformat_minor": 0,
 "worksheets": [
  {
   "cells": [
    {
     "cell_type": "heading",
     "level": 1,
     "metadata": {},
     "source": [
      "Disk Accelerated by Rocket"
     ]
    },
    {
     "cell_type": "markdown",
     "metadata": {},
     "source": [
      "You will have to set values for the initial mass of the engine, the mass of the fuel, and the exhaust velocity."
     ]
    },
    {
     "cell_type": "code",
     "collapsed": false,
     "input": [
      "%matplotlib inline"
     ],
     "language": "python",
     "metadata": {},
     "outputs": [],
     "prompt_number": 1
    },
    {
     "cell_type": "code",
     "collapsed": false,
     "input": [
      "from __future__ import division, print_function\n",
      "from ivisual import *\n",
      "from math import *\n",
      "import matplotlib.pyplot as plt"
     ],
     "language": "python",
     "metadata": {},
     "outputs": [
      {
       "html": [
        "<div id=\"scene\"><div id=\"glowscript\" class=\"glowscript\"></div></div>"
       ],
       "metadata": {},
       "output_type": "display_data",
       "text": [
        "<IPython.core.display.HTML at 0x106b65590>"
       ]
      },
      {
       "javascript": [
        "require.undef(\"nbextensions/glow.1.0.min\");"
       ],
       "metadata": {},
       "output_type": "display_data",
       "text": [
        "<IPython.core.display.Javascript at 0x10279c350>"
       ]
      },
      {
       "javascript": [
        "require.undef(\"nbextensions/glowcomm\");"
       ],
       "metadata": {},
       "output_type": "display_data",
       "text": [
        "<IPython.core.display.Javascript at 0x106b65490>"
       ]
      },
      {
       "javascript": [
        "require([\"nbextensions/glowcomm\"], function(){console.log(\"glowcomm loaded\");})"
       ],
       "metadata": {},
       "output_type": "display_data",
       "text": [
        "<IPython.core.display.Javascript at 0x106b65910>"
       ]
      }
     ],
     "prompt_number": 2
    },
    {
     "cell_type": "code",
     "collapsed": false,
     "input": [
      "#set these values\n",
      "m0engine=   #kg\n",
      "mfuel=   #kg\n",
      "vex=      #m/s\n",
      "\n",
      "######\n",
      "g=9.8\n",
      "mdisk=2.94 #kg\n",
      "Rdisk=0.6048/2 #m\n",
      "mf=m0engine-mfuel\n",
      "m=m0engine\n",
      "m1=m0engine\n",
      "\n",
      "r=0.3 #m\n",
      "mdot=-mfuel/2 #2 s burn time\n",
      "\n",
      "t=0\n",
      "dt=0.001\n",
      "theta=0\n",
      "omega=0\n",
      "Idisk=1/2*mdisk*Rdisk*Rdisk\n",
      "Ieng1=m1*r*r\n",
      "Ieng2=m*r*r\n",
      "I=Idisk+Ieng1+Ieng2\n",
      "\n",
      "r1=r*vector(cos(theta+pi),sin(theta+pi),0)\n",
      "r2=r*vector(cos(theta),sin(theta),0)\n",
      "\n",
      "tlist=[]\n",
      "thetalist=[]\n",
      "omegalist=[]\n",
      "mlist=[]\n",
      "taulist=[]\n",
      "\n",
      "tau=vector(0,0,0)\n",
      "\n",
      "while t<3:\n",
      "    if(m>mf):\n",
      "        m=m+mdot*dt\n",
      "    Fgrav1=m1*vector(0,-g,0)\n",
      "    Fgrav2=m*vector(0,-g,0)\n",
      "    thrust=-mdot*vex\n",
      "    \n",
      "    taugrav1=cross(r1,Fgrav1)\n",
      "    taugrav2=cross(r2,Fgrav2)\n",
      "    if(m>mf):\n",
      "        tauthrust=vector(0,0,thrust*r)\n",
      "    else:\n",
      "        tauthrust=vector(0,0,0)\n",
      "    tau=taugrav1+taugrav2+tauthrust\n",
      "    \n",
      "    Ieng2=m*r*r\n",
      "    I=Idisk+Ieng1+Ieng2\n",
      "    \n",
      "    omega=omega+tau.z/I*dt\n",
      "    theta=theta+omega*dt\n",
      "    \n",
      "    r1=r*vector(cos(theta+pi),sin(theta+pi),0)\n",
      "    r2=r*vector(cos(theta),sin(theta),0)\n",
      "    \n",
      "    t=t+dt\n",
      "    \n",
      "    tlist.append(t)\n",
      "    thetalist.append(theta)\n",
      "    omegalist.append(omega)\n",
      "    mlist.append(m)\n",
      "    taulist.append(tau.z)\n",
      "    "
     ],
     "language": "python",
     "metadata": {},
     "outputs": [],
     "prompt_number": 50
    },
    {
     "cell_type": "code",
     "collapsed": false,
     "input": [
      "plt.title('omega vs. t')\n",
      "plt.xlabel('t (s)')\n",
      "plt.ylabel('omega (rad/s)')\n",
      "plt.plot(tlist,omegalist,'m.')\n",
      "plt.show()"
     ],
     "language": "python",
     "metadata": {},
     "outputs": [
      {
       "metadata": {},
       "output_type": "display_data",
       "png": "[encoded data removed]",
       "text": [
        "<matplotlib.figure.Figure at 0x106d5b950>"
       ]
      }
     ],
     "prompt_number": 51
    },
    {
     "cell_type": "code",
     "collapsed": false,
     "input": [
      "plt.title('tau vs. t')\n",
      "plt.xlabel('t (s)')\n",
      "plt.ylabel('tau (N m)')\n",
      "plt.plot(tlist,taulist,'y.')\n",
      "plt.show()"
     ],
     "language": "python",
     "metadata": {},
     "outputs": [
      {
       "metadata": {},
       "output_type": "display_data",
       "png": "[encoded data removed]",
       "text": [
        "<matplotlib.figure.Figure at 0x106d7be90>"
       ]
      }
     ],
     "prompt_number": 17
    },
    {
     "cell_type": "code",
     "collapsed": false,
     "input": [],
     "language": "python",
     "metadata": {},
     "outputs": []
    }
   ],
   "metadata": {}
  }
 ]
}