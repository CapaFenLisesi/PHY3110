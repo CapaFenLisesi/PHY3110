{
 "metadata": {
  "name": "",
  "signature": "sha256:a4c0cd0605fb07c1d82f6161e95eaa298587f8b128f0fe309cabd07ee5c972b6"
 },
 "nbformat": 3,
 "nbformat_minor": 0,
 "worksheets": [
  {
   "cells": [
    {
     "cell_type": "heading",
     "level": 1,
     "metadata": {},
     "source": [
      "Oscillating Disk"
     ]
    },
    {
     "cell_type": "code",
     "collapsed": false,
     "input": [
      "%matplotlib inline"
     ],
     "language": "python",
     "metadata": {},
     "outputs": [],
     "prompt_number": 1
    },
    {
     "cell_type": "code",
     "collapsed": false,
     "input": [
      "from __future__ import division, print_function\n",
      "from ivisual import *\n",
      "from math import *\n",
      "import matplotlib.pyplot as plt"
     ],
     "language": "python",
     "metadata": {},
     "outputs": [
      {
       "html": [
        "<div id=\"scene\"><div id=\"glowscript\" class=\"glowscript\"></div></div>"
       ],
       "metadata": {},
       "output_type": "display_data",
       "text": [
        "<IPython.core.display.HTML at 0x1075a55d0>"
       ]
      },
      {
       "javascript": [
        "require.undef(\"nbextensions/glow.1.0.min\");"
       ],
       "metadata": {},
       "output_type": "display_data",
       "text": [
        "<IPython.core.display.Javascript at 0x102399350>"
       ]
      },
      {
       "javascript": [
        "require.undef(\"nbextensions/glowcomm\");"
       ],
       "metadata": {},
       "output_type": "display_data",
       "text": [
        "<IPython.core.display.Javascript at 0x102399450>"
       ]
      },
      {
       "javascript": [
        "require([\"nbextensions/glowcomm\"], function(){console.log(\"glowcomm loaded\");})"
       ],
       "metadata": {},
       "output_type": "display_data",
       "text": [
        "<IPython.core.display.Javascript at 0x1075a5910>"
       ]
      }
     ],
     "prompt_number": 2
    },
    {
     "cell_type": "code",
     "collapsed": false,
     "input": [
      "#disk\n",
      "M=2.94\n",
      "R=0.6048/2\n",
      "m1=0.52\n",
      "m2=0.15*m1\n",
      "I=R*R*(1/2*M+m1+m2)\n",
      "d=(m1-m2)/(m1+m2)*R\n",
      "print(\"d = \",d)\n",
      "\n",
      "#initial angle with respect to -y axis\n",
      "phi_deg=-90\n",
      "phi=phi_deg*pi/180 #phi in rad\n",
      "\n",
      "#initial angular velocity\n",
      "phidot=19  #rad/s\n",
      "\n",
      "#gravitational field in N/kg\n",
      "g=9.8\n",
      "\n",
      "t=0\n",
      "dt=0.001\n",
      "\n",
      "#position vector\n",
      "r=d*vector(sin(phi),-cos(phi),0)\n",
      "\n",
      "#period\n",
      "T=0\n",
      "ti=0\n",
      "atpeak=False\n",
      "\n",
      "tlist=[]\n",
      "omegalist=[]\n",
      "philist=[]\n",
      "\n",
      "while t<1.25:\n",
      "    rate(100)\n",
      "    \n",
      "    omegai=phidot\n",
      "    \n",
      "    #update phidotdot, phidot, phi\n",
      "    phidotdot=-(M+m1+m2)*g*d/I*sin(phi)\n",
      "    phidot=phidot+phidotdot*dt\n",
      "    phi=phi+phidot*dt\n",
      "    \n",
      "    #update r\n",
      "    r=R*vector(sin(phi),-cos(phi),0)\n",
      "    \n",
      "    #find period\n",
      "    if(phidotdot>0 and (phidot-omegai)<0.001 and phidot>19 and atpeak==False):\n",
      "        ti=t\n",
      "        print(\"t_i = \",t)\n",
      "        atpeak=True\n",
      "    if(phidotdot>0 and (phidot-omegai)<0.001 and phidot>19 and atpeak==True):\n",
      "        T=t-ti\n",
      "        ti=t\n",
      "        print(\"T = \",T)\n",
      "    \n",
      "    \n",
      "    tlist.append(t)\n",
      "    omegalist.append(phidot)\n",
      "    philist.append(phi)\n",
      "    \n",
      "    t=t+dt"
     ],
     "language": "python",
     "metadata": {},
     "outputs": [
      {
       "output_type": "stream",
       "stream": "stdout",
       "text": [
        "d =  0.223513043478\n",
        "t_i = "
       ]
      },
      {
       "output_type": "stream",
       "stream": "stdout",
       "text": [
        " 0.077\n",
        "T =  0.0\n",
        "T = "
       ]
      },
      {
       "output_type": "stream",
       "stream": "stdout",
       "text": [
        " 0.333\n",
        "T = "
       ]
      },
      {
       "output_type": "stream",
       "stream": "stdout",
       "text": [
        " 0.334\n",
        "T = "
       ]
      },
      {
       "output_type": "stream",
       "stream": "stdout",
       "text": [
        " 0.333\n",
        "T =  0.001\n"
       ]
      }
     ],
     "prompt_number": 7
    },
    {
     "cell_type": "code",
     "collapsed": false,
     "input": [
      "plt.title('omega vs. t')\n",
      "plt.xlabel('t (s)')\n",
      "plt.ylabel('omega (rad/s)')\n",
      "plt.plot(tlist,omegalist,'m.')\n",
      "plt.show()"
     ],
     "language": "python",
     "metadata": {},
     "outputs": [
      {
       "metadata": {},
       "output_type": "display_data",
       "png": "[encoded data removed]",
       "text": [
        "<matplotlib.figure.Figure at 0x107b27cd0>"
       ]
      }
     ],
     "prompt_number": 8
    },
    {
     "cell_type": "code",
     "collapsed": false,
     "input": [],
     "language": "python",
     "metadata": {},
     "outputs": [],
     "prompt_number": 28
    },
    {
     "cell_type": "code",
     "collapsed": false,
     "input": [],
     "language": "python",
     "metadata": {},
     "outputs": []
    }
   ],
   "metadata": {}
  }
 ]
}