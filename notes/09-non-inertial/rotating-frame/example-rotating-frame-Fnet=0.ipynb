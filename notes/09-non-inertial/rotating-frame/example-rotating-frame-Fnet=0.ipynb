{
 "metadata": {
  "name": "",
  "signature": "sha256:0a0d8572c9bef7c0765c463312df65154c24256fa15f995177bb8115eac9e6f0"
 },
 "nbformat": 3,
 "nbformat_minor": 0,
 "worksheets": [
  {
   "cells": [
    {
     "cell_type": "heading",
     "level": 1,
     "metadata": {},
     "source": [
      "Motion of an object with constant velocity in a rotating frame"
     ]
    },
    {
     "cell_type": "code",
     "collapsed": false,
     "input": [
      "from __future__ import division, print_function\n",
      "from ivisual import *\n",
      "from math import *"
     ],
     "language": "python",
     "metadata": {},
     "outputs": [],
     "prompt_number": 3
    },
    {
     "cell_type": "code",
     "collapsed": false,
     "input": [
      "scene=canvas(\"Particle on Rotating Turntable\")\n",
      "\n",
      "R=10\n",
      "x0=-4\n",
      "y0=0\n",
      "Omega=5\n",
      "vx0=0\n",
      "vy0=20\n",
      "v=vector(vx0,vy0,0)\n",
      "r=vector(x0,y0,0)\n",
      "\n",
      "table=cylinder(pos=vector(0,0,-1), axis=vector(0,0,1), radius=R, color=color.red)\n",
      "particle=sphere(pos=r, radius=R/20, color=color.yellow, make_trail=True, retain=1000)\n",
      "\n",
      "t=0\n",
      "dt=0.01\n",
      "\n",
      "while t<10:\n",
      "    rate(100)\n",
      "    \n",
      "    x=cos(Omega*t)*(x0+vx0*t)+t*(vy0+Omega*x0)*sin(Omega*t)\n",
      "    y=-sin(Omega*t)*(x0+vx0*t)+t*(vy0+Omega*x0)*cos(Omega*t)\n",
      "    r=vector(x,y,0)\n",
      "    particle.pos=r\n",
      "    \n",
      "    t=t+dt"
     ],
     "language": "python",
     "metadata": {},
     "outputs": [
      {
       "html": [
        "<div id=\"scene13\"><div id=\"glowscript\" class=\"glowscript\"></div></div>"
       ],
       "metadata": {},
       "output_type": "display_data",
       "text": [
        "<IPython.core.display.HTML at 0x1037ed6d0>"
       ]
      },
      {
       "javascript": [
        "window.__context = { glowscript_container: $(\"#glowscript\").removeAttr(\"id\")}"
       ],
       "metadata": {},
       "output_type": "display_data",
       "text": [
        "<IPython.core.display.Javascript at 0x1037ed710>"
       ]
      }
     ],
     "prompt_number": 15
    },
    {
     "cell_type": "code",
     "collapsed": false,
     "input": [],
     "language": "python",
     "metadata": {},
     "outputs": [],
     "prompt_number": 4
    },
    {
     "cell_type": "code",
     "collapsed": false,
     "input": [],
     "language": "python",
     "metadata": {},
     "outputs": []
    }
   ],
   "metadata": {}
  }
 ]
}