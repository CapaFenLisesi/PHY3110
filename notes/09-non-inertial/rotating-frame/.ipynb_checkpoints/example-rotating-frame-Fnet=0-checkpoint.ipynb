{
 "metadata": {
  "name": "",
  "signature": "sha256:9697c6efa5e7c97678534f6f4b4c0241c3ae9d45989b81ee709d6c80a9cf7167"
 },
 "nbformat": 3,
 "nbformat_minor": 0,
 "worksheets": [
  {
   "cells": [
    {
     "cell_type": "heading",
     "level": 1,
     "metadata": {},
     "source": [
      "Motion of an object with constant velocity in a rotating frame"
     ]
    },
    {
     "cell_type": "code",
     "collapsed": false,
     "input": [
      "from __future__ import division, print_function\n",
      "from ivisual import *\n",
      "from math import *"
     ],
     "language": "python",
     "metadata": {},
     "outputs": [
      {
       "html": [
        "<div id=\"scene\"><div id=\"glowscript\" class=\"glowscript\"></div></div>"
       ],
       "metadata": {},
       "output_type": "display_data",
       "text": [
        "<IPython.core.display.HTML at 0x104c0d690>"
       ]
      },
      {
       "javascript": [
        "require.undef(\"nbextensions/glow.1.0.min\");"
       ],
       "metadata": {},
       "output_type": "display_data",
       "text": [
        "<IPython.core.display.Javascript at 0x104c2d290>"
       ]
      },
      {
       "javascript": [
        "require.undef(\"nbextensions/glowcomm\");"
       ],
       "metadata": {},
       "output_type": "display_data",
       "text": [
        "<IPython.core.display.Javascript at 0x104c2d2d0>"
       ]
      },
      {
       "javascript": [
        "require([\"nbextensions/glowcomm\"], function(){console.log(\"glowcomm loaded\");})"
       ],
       "metadata": {},
       "output_type": "display_data",
       "text": [
        "<IPython.core.display.Javascript at 0x104c2d310>"
       ]
      }
     ],
     "prompt_number": 1
    },
    {
     "cell_type": "code",
     "collapsed": false,
     "input": [
      "scene=canvas(\"Particle on Rotating Turntable\")\n",
      "\n",
      "R=10\n",
      "x0=5\n",
      "y0=0\n",
      "Omega=1\n",
      "vx0=-2.5\n",
      "vy0=-2.5\n",
      "v=vector(vx0,vy0,0)\n",
      "r=vector(x0,y0,0)\n",
      "\n",
      "table=cylinder(pos=vector(0,0,-1), axis=vector(0,0,1), radius=R, color=color.red)\n",
      "particle=sphere(pos=r, radius=R/20, color=color.yellow, make_trail=True, retain=1000)\n",
      "\n",
      "t=0\n",
      "dt=0.01\n",
      "\n",
      "while t<10:\n",
      "    rate(100)\n",
      "    \n",
      "    x=cos(Omega*t)*(x0+vx0*t)+t*(vy0+Omega*x0)*sin(Omega*t)\n",
      "    y=-sin(Omega*t)*(x0+vx0*t)+t*(vy0+Omega*x0)*cos(Omega*t)\n",
      "    r=vector(x,y,0)\n",
      "    particle.pos=r\n",
      "    \n",
      "    t=t+dt"
     ],
     "language": "python",
     "metadata": {},
     "outputs": [
      {
       "html": [
        "<div id=\"scene8\"><div id=\"glowscript\" class=\"glowscript\"></div></div>"
       ],
       "metadata": {},
       "output_type": "display_data",
       "text": [
        "<IPython.core.display.HTML at 0x104cbd2d0>"
       ]
      },
      {
       "javascript": [
        "window.__context = { glowscript_container: $(\"#glowscript\").removeAttr(\"id\")}"
       ],
       "metadata": {},
       "output_type": "display_data",
       "text": [
        "<IPython.core.display.Javascript at 0x104cab5d0>"
       ]
      }
     ],
     "prompt_number": 9
    },
    {
     "cell_type": "code",
     "collapsed": false,
     "input": [],
     "language": "python",
     "metadata": {},
     "outputs": [],
     "prompt_number": 4
    },
    {
     "cell_type": "code",
     "collapsed": false,
     "input": [],
     "language": "python",
     "metadata": {},
     "outputs": []
    }
   ],
   "metadata": {}
  }
 ]
}