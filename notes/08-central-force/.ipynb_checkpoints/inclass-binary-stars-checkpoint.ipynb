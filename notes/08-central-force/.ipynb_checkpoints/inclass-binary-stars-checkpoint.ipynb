{
 "metadata": {
  "name": "",
  "signature": "sha256:e910acf09ff2f253670c4065bd3f6a5d9694a69377df3ffc38fbd3551ae124cc"
 },
 "nbformat": 3,
 "nbformat_minor": 0,
 "worksheets": [
  {
   "cells": [
    {
     "cell_type": "code",
     "collapsed": false,
     "input": [
      "from __future__ import division, print_function\n",
      "from ivisual import *\n",
      "from math import *"
     ],
     "language": "python",
     "metadata": {},
     "outputs": [
      {
       "html": [
        "<div id=\"scene\"><div id=\"glowscript\" class=\"glowscript\"></div></div>"
       ],
       "metadata": {},
       "output_type": "display_data",
       "text": [
        "<IPython.core.display.HTML at 0x105c14610>"
       ]
      },
      {
       "javascript": [
        "require.undef(\"nbextensions/glow.1.0.min\");"
       ],
       "metadata": {},
       "output_type": "display_data",
       "text": [
        "<IPython.core.display.Javascript at 0x105c2a290>"
       ]
      },
      {
       "javascript": [
        "require.undef(\"nbextensions/glowcomm\");"
       ],
       "metadata": {},
       "output_type": "display_data",
       "text": [
        "<IPython.core.display.Javascript at 0x105c2a2d0>"
       ]
      },
      {
       "javascript": [
        "require([\"nbextensions/glowcomm\"], function(){console.log(\"glowcomm loaded\");})"
       ],
       "metadata": {},
       "output_type": "display_data",
       "text": [
        "<IPython.core.display.Javascript at 0x105c2a310>"
       ]
      }
     ],
     "prompt_number": 1
    },
    {
     "cell_type": "code",
     "collapsed": false,
     "input": [
      "scene=canvas(title=\"Binary Stars\")\n",
      "\n",
      "G=6.7e-11\n",
      "m1=2e30\n",
      "m2=2*m1\n",
      "r1=vector(1.5e11,0,0)\n",
      "r2=-m1/m2*r1\n",
      "v1=vector(0,3.3e4,0)\n",
      "v2=-m1/m2*v1\n",
      "\n",
      "star1=sphere(radius=100e8, pos=r1, color=color.red, make_trail=True, retain=400)\n",
      "star2=sphere(radius=star1.radius, pos=r2, color=color.yellow, make_trail=True, retain=400)\n",
      "\n",
      "t=0\n",
      "dt=1e5\n",
      "\n",
      "while t<1000*dt:\n",
      "    rate(100)\n",
      "    r=r1-r2\n",
      "    rmag=mag(r)\n",
      "    rhat=norm(r)\n",
      "    Fgrav=G*m1*m2/rmag**2\n",
      "    F1=-Fgrav*rhat\n",
      "    r1dotdot=F1/m1\n",
      "    v1=v1+r1dotdot*dt\n",
      "    r1=r1+v1*dt\n",
      "    \n",
      "    F2=-F1\n",
      "    r2dotdot=F2/m2\n",
      "    v2=v2+r2dotdot*dt\n",
      "    r2=r2+v2*dt\n",
      "    \n",
      "    t=t+dt\n",
      "    \n",
      "    star1.pos=r1\n",
      "    star2.pos=r2"
     ],
     "language": "python",
     "metadata": {},
     "outputs": [
      {
       "html": [
        "<div id=\"scene6\"><div id=\"glowscript\" class=\"glowscript\"></div></div>"
       ],
       "metadata": {},
       "output_type": "display_data",
       "text": [
        "<IPython.core.display.HTML at 0x105cb4950>"
       ]
      },
      {
       "javascript": [
        "window.__context = { glowscript_container: $(\"#glowscript\").removeAttr(\"id\")}"
       ],
       "metadata": {},
       "output_type": "display_data",
       "text": [
        "<IPython.core.display.Javascript at 0x105cb4910>"
       ]
      }
     ],
     "prompt_number": 7
    },
    {
     "cell_type": "code",
     "collapsed": false,
     "input": [],
     "language": "python",
     "metadata": {},
     "outputs": []
    }
   ],
   "metadata": {}
  }
 ]
}