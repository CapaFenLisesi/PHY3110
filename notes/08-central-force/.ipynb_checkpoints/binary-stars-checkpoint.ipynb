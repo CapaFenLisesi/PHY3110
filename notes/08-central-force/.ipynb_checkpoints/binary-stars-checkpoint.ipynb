{
 "metadata": {
  "name": "",
  "signature": "sha256:b5e1d0b5a75fd8b9b8e138548789da6fed691b345c78e6dc05f25b46dc772be1"
 },
 "nbformat": 3,
 "nbformat_minor": 0,
 "worksheets": [
  {
   "cells": [
    {
     "cell_type": "heading",
     "level": 1,
     "metadata": {},
     "source": [
      "Binary Stars - Two Body Problem"
     ]
    },
    {
     "cell_type": "code",
     "collapsed": false,
     "input": [
      "from __future__ import division, print_function\n",
      "from ivisual import *\n",
      "from math import *"
     ],
     "language": "python",
     "metadata": {},
     "outputs": [
      {
       "html": [
        "<div id=\"scene\"><div id=\"glowscript\" class=\"glowscript\"></div></div>"
       ],
       "metadata": {},
       "output_type": "display_data",
       "text": [
        "<IPython.core.display.HTML at 0x105454510>"
       ]
      },
      {
       "javascript": [
        "require.undef(\"nbextensions/glow.1.0.min\");"
       ],
       "metadata": {},
       "output_type": "display_data",
       "text": [
        "<IPython.core.display.Javascript at 0x105438290>"
       ]
      },
      {
       "javascript": [
        "require.undef(\"nbextensions/glowcomm\");"
       ],
       "metadata": {},
       "output_type": "display_data",
       "text": [
        "<IPython.core.display.Javascript at 0x1054382d0>"
       ]
      },
      {
       "javascript": [
        "require([\"nbextensions/glowcomm\"], function(){console.log(\"glowcomm loaded\");})"
       ],
       "metadata": {},
       "output_type": "display_data",
       "text": [
        "<IPython.core.display.Javascript at 0x105438310>"
       ]
      }
     ],
     "prompt_number": 1
    },
    {
     "cell_type": "code",
     "collapsed": false,
     "input": [
      "scene=canvas(title=\"Binary Stars\")\n",
      "\n",
      "#constants\n",
      "au=1.5e11\n",
      "R=7e8\n",
      "G=6.67e-11\n",
      "\n",
      "#stars\n",
      "m1=2e30\n",
      "m2=2*m1\n",
      "r1=vector(au,0,0)\n",
      "r2=-m1/m2*r1\n",
      "speed=1.1*3e4\n",
      "v1=vector(0,speed,0)\n",
      "v2=-m1/m2*v1\n",
      "\n",
      "#time\n",
      "t=0\n",
      "dt=1e5\n",
      "\n",
      "#data lists\n",
      "Ulist=[]\n",
      "Klist=[]\n",
      "Elist=[]\n",
      "rlist=[]\n",
      "\n",
      "#ivisual objects\n",
      "star1=sphere(radius=10*R, pos=r1, color=color.red, make_trail=True, retain=400)\n",
      "star2=sphere(radius=10*R, pos=r2, color=color.yellow, make_trail=True, retain=400)\n",
      "CM=sphere(radius=star1.radius/2, pos=(m1*r1+m2*r2)/(m1+m2), color=color.white)\n",
      "\n",
      "while t<1000*dt:\n",
      "    rate(100)\n",
      "    r=r1-r2\n",
      "    rmag=mag(r)\n",
      "    runit=norm(r)\n",
      "    Fgrav=G*m1*m2/rmag/rmag\n",
      "    F1=Fgrav*(-runit)\n",
      "    v1=v1+F1/m1*dt\n",
      "    r1=r1+v1*dt\n",
      "    F2=-F1\n",
      "    v2=v2+F2/m2*dt\n",
      "    r2=r2+v2*dt\n",
      "    \n",
      "    U=-G*m1*m2/rmag\n",
      "    K=1/2*m1*mag(v1)*mag(v1)+1/2*m2*mag(v2)*mag(v2)\n",
      "    E=U+K\n",
      "    \n",
      "    Ulist.append(U)\n",
      "    Klist.append(K)\n",
      "    Elist.append(E)\n",
      "    rlist.append(rmag)\n",
      "    \n",
      "    star1.pos=r1\n",
      "    star2.pos=r2\n",
      "    \n",
      "    t=t+dt"
     ],
     "language": "python",
     "metadata": {},
     "outputs": [
      {
       "html": [
        "<div id=\"scene7\"><div id=\"glowscript\" class=\"glowscript\"></div></div>"
       ],
       "metadata": {},
       "output_type": "display_data",
       "text": [
        "<IPython.core.display.HTML at 0x108e5df50>"
       ]
      },
      {
       "javascript": [
        "window.__context = { glowscript_container: $(\"#glowscript\").removeAttr(\"id\")}"
       ],
       "metadata": {},
       "output_type": "display_data",
       "text": [
        "<IPython.core.display.Javascript at 0x108a2f710>"
       ]
      }
     ],
     "prompt_number": 13
    },
    {
     "cell_type": "code",
     "collapsed": false,
     "input": [
      "import matplotlib.pyplot as plt"
     ],
     "language": "python",
     "metadata": {},
     "outputs": [],
     "prompt_number": 5
    },
    {
     "cell_type": "code",
     "collapsed": false,
     "input": [
      "%matplotlib inline"
     ],
     "language": "python",
     "metadata": {},
     "outputs": [],
     "prompt_number": 6
    },
    {
     "cell_type": "code",
     "collapsed": false,
     "input": [
      "#energy graphs\n",
      "plt.title('energy vs. distance')\n",
      "plt.xlabel('E (J)')\n",
      "plt.ylabel('r (m)')\n",
      "plt.plot(rlist,Ulist,'m.', rlist,Klist,'y.', rlist,Elist,'c.')\n",
      "plt.show()"
     ],
     "language": "python",
     "metadata": {},
     "outputs": [
      {
       "metadata": {},
       "output_type": "display_data",
       "png": "[encoded data removed]",
       "text": [
        "<matplotlib.figure.Figure at 0x1089e3610>"
       ]
      }
     ],
     "prompt_number": 7
    },
    {
     "cell_type": "heading",
     "level": 2,
     "metadata": {},
     "source": [
      "One Star Model"
     ]
    },
    {
     "cell_type": "markdown",
     "metadata": {},
     "source": [
      "In this model, we will replace the two stars with a single star that has a mass $\\mu$ that is equal to the reduced mass of the system, where\n",
      "\n",
      "$$\\mu=\\frac{m_1m_2}{m_1+m_2}$$\n",
      "\n",
      "In this one-star model, its position is the relative position $\\vec{r}$, where\n",
      "\n",
      "$$\\vec{r} = \\vec{r}_1-\\vec{r}_2$$\n",
      "$$r=|\\vec{r}| = |\\vec{r}_1-\\vec{r}_2|$$\n",
      "\n",
      "Its radial velocity is $\\dot{r}$.\n",
      "\n",
      "Its angular momentum is\n",
      "\n",
      "$$\\vec{L}=\\vec{r}_1 \\times m_1\\vec{v}_1+\\vec{r}_2 \\times m_2\\vec{v}_2$$\n",
      "\n",
      "Its angular velocity $\\dot{\\phi}$ is\n",
      "\n",
      "$$\\dot{\\phi}=\\frac{|\\vec{L}|}{r^2\\mu}$$\n",
      "\n",
      "Its potential energy is\n",
      "\n",
      "$$U=-\\frac{Gm_1m_2}{r}+\\frac{|\\vec{L}|^2}{2\\mu r^2}$$\n",
      "\n",
      "Its kinetic energy is\n",
      "\n",
      "$$K=\\frac{1}{2}\\mu \\dot{r}^2$$\n",
      "\n",
      "Its total energy is $E=K+U$. Note that because it is a single star in orbit (around nothing except a point in space!), it speeds up and slows down. Thus its kinetic energy increases and decreases and its potential energy increases and decreases. However its total energy $E$ remains constant.\n",
      "\n",
      "The advantage of using a single star model is that it is completely described by two differential equations, one of which is first order.\n",
      "\n",
      "$$\\mu\\ddot{r}=-\\frac{Gm_1m_2}{r^2}+\\frac{L^2}{\\mu r^3}$$\n",
      "\n",
      "and\n",
      "\n",
      "$$\\mu \\dot{\\phi}=\\frac{L}{r^2}$$\n",
      "\n",
      "where $L=|\\vec{L}|$ is the magnitude of the angular momentum of the star.\n",
      "\n",
      "The velocity of the single star is calculated in polar coordinates.\n",
      "\n",
      "$$\\vec{v}=<\\dot{r},r\\dot{\\phi}>$$\n",
      "\n"
     ]
    },
    {
     "cell_type": "heading",
     "level": 2,
     "metadata": {},
     "source": [
      "One Star Computational Model -- \"Look Ma, Newton's second law is not used!\""
     ]
    },
    {
     "cell_type": "code",
     "collapsed": false,
     "input": [
      "scene2=canvas(title=\"One Star Model\")\n",
      "\n",
      "#reset variables\n",
      "r1=vector(au,0,0)\n",
      "r2=-m1/m2*r1\n",
      "v1=vector(0,speed,0)\n",
      "v2=-m1/m2*v1\n",
      "\n",
      "#one star model\n",
      "mu=m1*m2/(m1+m2)\n",
      "L=m1*cross(r1,v1)+m2*cross(r2,v2)\n",
      "Lmag=mag(L)\n",
      "r=r1-r2\n",
      "rmag=mag(r)\n",
      "rdot=0\n",
      "phi=0\n",
      "phidot=Lmag/rmag/rmag/mu\n",
      "v=vector(rdot,rmag*phidot)\n",
      "\n",
      "#time\n",
      "t=0\n",
      "\n",
      "#data lists\n",
      "Ulist=[]\n",
      "Klist=[]\n",
      "Elist=[]\n",
      "rlist=[]\n",
      "\n",
      "#ivisual objects\n",
      "starmu=sphere(radius=20*R, pos=r, color=color.orange, make_trail=True, retain=400)\n",
      "\n",
      "while t<1000*dt:\n",
      "    rate(100)\n",
      "    \n",
      "    #update rmag\n",
      "    rdotdot=(-G*m1*m2/(rmag*rmag)+Lmag*Lmag/(mu*rmag*rmag*rmag))/mu\n",
      "    rdot=rdot+rdotdot*dt\n",
      "    rmag=rmag+rdot*dt\n",
      "\n",
      "    #update phi\n",
      "    phidot=Lmag/rmag/rmag/mu\n",
      "    phi=phi+phidot*dt\n",
      "    \n",
      "    #calculate velocity and position\n",
      "    v=vector(rdot,rmag*phidot)\n",
      "    r=vector(rmag*cos(phi),rmag*sin(phi),0)\n",
      "    \n",
      "    U=-G*m1*m2/rmag + Lmag*Lmag/(2*mu*rmag*rmag)\n",
      "    K=1/2*mu*rdot*rdot\n",
      "    E=U+K\n",
      "    \n",
      "    Ulist.append(U)\n",
      "    Klist.append(K)\n",
      "    Elist.append(E)\n",
      "    rlist.append(rmag)\n",
      "\n",
      "    #ivisual objects\n",
      "    starmu.pos=r\n",
      "    \n",
      "    t=t+dt\n"
     ],
     "language": "python",
     "metadata": {},
     "outputs": [
      {
       "html": [
        "<div id=\"scene5\"><div id=\"glowscript\" class=\"glowscript\"></div></div>"
       ],
       "metadata": {},
       "output_type": "display_data",
       "text": [
        "<IPython.core.display.HTML at 0x108ed2810>"
       ]
      },
      {
       "javascript": [
        "window.__context = { glowscript_container: $(\"#glowscript\").removeAttr(\"id\")}"
       ],
       "metadata": {},
       "output_type": "display_data",
       "text": [
        "<IPython.core.display.Javascript at 0x1064c0d50>"
       ]
      }
     ],
     "prompt_number": 10
    },
    {
     "cell_type": "code",
     "collapsed": false,
     "input": [
      "#energy graphs\n",
      "plt.title('energy vs. distance')\n",
      "plt.xlabel('E (J)')\n",
      "plt.ylabel('r (m)')\n",
      "plt.plot(rlist,Ulist,'m.', rlist,Klist,'y.', rlist,Elist,'c.')\n",
      "plt.show()"
     ],
     "language": "python",
     "metadata": {},
     "outputs": [
      {
       "metadata": {},
       "output_type": "display_data",
       "png": "[encoded data removed]",
       "text": [
        "<matplotlib.figure.Figure at 0x108a45050>"
       ]
      }
     ],
     "prompt_number": 11
    },
    {
     "cell_type": "heading",
     "level": 2,
     "metadata": {},
     "source": [
      "Working backwards to figure out the two-star system"
     ]
    },
    {
     "cell_type": "markdown",
     "metadata": {},
     "source": [
      "**Now here is the big deal! This single star and its motion can be used to tell you what the two-star system is doing without using Newton's second law.**\n",
      "\n",
      "Here is the same code as above. However, this time we will calculate the position of each star based on $r$ and $\\phi$ and will draw them in the scene. "
     ]
    },
    {
     "cell_type": "code",
     "collapsed": false,
     "input": [
      "scene3=canvas(title=\"One Star Model with Two Stars Calculated\")\n",
      "\n",
      "#reset variables\n",
      "r1=vector(au,0,0)\n",
      "r2=-m1/m2*r1\n",
      "v1=vector(0,speed,0)\n",
      "v2=-m1/m2*v1\n",
      "\n",
      "#one star model\n",
      "mu=m1*m2/(m1+m2)\n",
      "L=m1*cross(r1,v1)+m2*cross(r2,v2)\n",
      "Lmag=mag(L)\n",
      "r=r1-r2\n",
      "rmag=mag(r)\n",
      "rdot=0\n",
      "phi=0\n",
      "phidot=Lmag/rmag/rmag/mu\n",
      "v=vector(rdot,rmag*phidot)\n",
      "\n",
      "#time\n",
      "t=0\n",
      "\n",
      "#data lists\n",
      "Ulist=[]\n",
      "Klist=[]\n",
      "Elist=[]\n",
      "rlist=[]\n",
      "\n",
      "#ivisual objects\n",
      "starmu=sphere(radius=20*R, pos=r, color=color.orange, make_trail=True, retain=400)\n",
      "star1=sphere(radius=10*R, pos=r1, color=color.red)\n",
      "star2=sphere(radius=10*R, pos=r2, color=color.yellow)\n",
      "CM=sphere(radius=star1.radius/2, pos=(m1*r1+m2*r2)/(m1+m2), color=color.white)\n",
      "\n",
      "\n",
      "while t<1000*dt:\n",
      "    rate(100)\n",
      "    \n",
      "    #update rmag\n",
      "    rdotdot=(-G*m1*m2/(rmag*rmag)+Lmag*Lmag/(mu*rmag*rmag*rmag))/mu\n",
      "    rdot=rdot+rdotdot*dt\n",
      "    rmag=rmag+rdot*dt\n",
      "\n",
      "    #update phi\n",
      "    phidot=Lmag/rmag/rmag/mu\n",
      "    phi=phi+phidot*dt\n",
      "    \n",
      "    #calculate velocity and position\n",
      "    v=vector(rdot,rmag*phidot)\n",
      "    r=vector(rmag*cos(phi),rmag*sin(phi),0)\n",
      "    \n",
      "    U=-G*m1*m2/rmag + Lmag*Lmag/(2*mu*rmag*rmag)\n",
      "    K=1/2*mu*rdot*rdot\n",
      "    E=U+K\n",
      "    \n",
      "    Ulist.append(U)\n",
      "    Klist.append(K)\n",
      "    Elist.append(E)\n",
      "    rlist.append(rmag)\n",
      "\n",
      "    #ivisual objects\n",
      "    starmu.pos=r\n",
      "    star1.pos=m2/(m1+m2)*r\n",
      "    star2.pos=-m1/(m1+m2)*r\n",
      "    \n",
      "    t=t+dt\n"
     ],
     "language": "python",
     "metadata": {},
     "outputs": [
      {
       "html": [
        "<div id=\"scene6\"><div id=\"glowscript\" class=\"glowscript\"></div></div>"
       ],
       "metadata": {},
       "output_type": "display_data",
       "text": [
        "<IPython.core.display.HTML at 0x108a2ffd0>"
       ]
      },
      {
       "javascript": [
        "window.__context = { glowscript_container: $(\"#glowscript\").removeAttr(\"id\")}"
       ],
       "metadata": {},
       "output_type": "display_data",
       "text": [
        "<IPython.core.display.Javascript at 0x108542590>"
       ]
      }
     ],
     "prompt_number": 12
    },
    {
     "cell_type": "code",
     "collapsed": false,
     "input": [],
     "language": "python",
     "metadata": {},
     "outputs": []
    }
   ],
   "metadata": {}
  }
 ]
}