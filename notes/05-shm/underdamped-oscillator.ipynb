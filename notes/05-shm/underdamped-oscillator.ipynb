{
 "metadata": {
  "name": "",
  "signature": "sha256:6af8ae1b1aad977e2ca77f85133ae98929616a174ef775b92e7dddcfc1d651f0"
 },
 "nbformat": 3,
 "nbformat_minor": 0,
 "worksheets": [
  {
   "cells": [
    {
     "cell_type": "heading",
     "level": 1,
     "metadata": {},
     "source": [
      "Underdamped Oscillator"
     ]
    },
    {
     "cell_type": "code",
     "collapsed": false,
     "input": [
      "from __future__ import division, print_function\n",
      "from ivisual import *\n",
      "from numpy import *\n",
      "import matplotlib.pyplot as plt"
     ],
     "language": "python",
     "metadata": {},
     "outputs": [],
     "prompt_number": 9
    },
    {
     "cell_type": "code",
     "collapsed": false,
     "input": [
      "k=5 #stiffness\n",
      "m=0.05 #mass\n",
      "b=0.022\n",
      "omega0=sqrt(k/m) #natural frequency\n",
      "beta=b/2/m #decay of amplitude\n",
      "omega1=sqrt(omega0*omega0-beta*beta) #oscillation frequency\n",
      "delta=-atan(-beta/omega1) #phase\n",
      "A0=0.1 #constant\n",
      "\n",
      "x=A0*cos(-delta) #initial position; technically delta and A0 depend on this value\n",
      "vx=0 #initial velocity; this was used to calculate delta\n",
      "\n",
      "t=0\n",
      "dt=0.0001\n",
      "\n",
      "tlist=[]\n",
      "xlist=[]\n",
      "vxlist=[]\n",
      "extremalist=[]\n",
      "\n",
      "while t<4:\n",
      "    vxi=vx\n",
      "    Fnet=-k*x-b*vx\n",
      "    vx=vx+Fnet/m*dt\n",
      "    x=x+vx*dt\n",
      "    \n",
      "    t=t+dt\n",
      "    \n",
      "    tlist.append(t)\n",
      "    xlist.append(x)\n",
      "    vxlist.append(vx)\n",
      "    if((vxi>0 and vx<0) or (vxi<0 and vx>0) ):\n",
      "        extremalist.append(t)\n",
      "        print(\"extremum at t=\",t)\n",
      "    "
     ],
     "language": "python",
     "metadata": {},
     "outputs": [
      {
       "output_type": "stream",
       "stream": "stdout",
       "text": [
        "extremum at t= 0.3143\n",
        "extremum at t= 0.6285\n",
        "extremum at t= 0.9427\n",
        "extremum at t="
       ]
      },
      {
       "output_type": "stream",
       "stream": "stdout",
       "text": [
        " 1.257\n",
        "extremum at t= 1.5712\n",
        "extremum at t= 1.8854\n",
        "extremum at t="
       ]
      },
      {
       "output_type": "stream",
       "stream": "stdout",
       "text": [
        " 2.1997\n",
        "extremum at t= 2.5139\n",
        "extremum at t= 2.8281\n",
        "extremum at t="
       ]
      },
      {
       "output_type": "stream",
       "stream": "stdout",
       "text": [
        " 3.1424\n",
        "extremum at t= 3.4566\n",
        "extremum at t= 3.7708\n"
       ]
      }
     ],
     "prompt_number": 13
    },
    {
     "cell_type": "code",
     "collapsed": false,
     "input": [
      "%matplotlib inline"
     ],
     "language": "python",
     "metadata": {},
     "outputs": [],
     "prompt_number": 14
    },
    {
     "cell_type": "code",
     "collapsed": false,
     "input": [
      "#analytic function\n",
      "xtheor=exp(-beta*array(tlist))*A0*cos(omega1*array(tlist)-delta)\n",
      "\n",
      "plt.title('x vs. t')\n",
      "plt.xlabel('t (s)')\n",
      "plt.ylabel('x (m)')\n",
      "plt.plot(tlist,xlist,'m.', tlist,xtheor,'y.')\n",
      "plt.show()"
     ],
     "language": "python",
     "metadata": {},
     "outputs": [
      {
       "metadata": {},
       "output_type": "display_data",
       "png": "[encoded data removed]",
       "text": [
        "<matplotlib.figure.Figure at 0x10812fa10>"
       ]
      }
     ],
     "prompt_number": 15
    },
    {
     "cell_type": "code",
     "collapsed": false,
     "input": [
      "#theoretical extrema\n",
      "for n in arange(1,13,1):\n",
      "    print(\"extremum at t=\",(n*pi)/omega1)"
     ],
     "language": "python",
     "metadata": {},
     "outputs": [
      {
       "output_type": "stream",
       "stream": "stdout",
       "text": [
        "extremum at t= 0.31423531951\n",
        "extremum at t= 0.62847063902\n",
        "extremum at t= 0.94270595853\n",
        "extremum at t= 1.25694127804\n",
        "extremum at t= 1.57117659755\n",
        "extremum at t= 1.88541191706\n",
        "extremum at t= 2.19964723657\n",
        "extremum at t= 2.51388255608\n",
        "extremum at t= 2.82811787559\n",
        "extremum at t= 3.1423531951\n",
        "extremum at t= 3.45658851461\n",
        "extremum at t= 3.77082383412\n"
       ]
      }
     ],
     "prompt_number": 17
    },
    {
     "cell_type": "code",
     "collapsed": false,
     "input": [],
     "language": "python",
     "metadata": {},
     "outputs": []
    }
   ],
   "metadata": {}
  }
 ]
}