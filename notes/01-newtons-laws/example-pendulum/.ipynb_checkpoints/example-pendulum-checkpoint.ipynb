{
 "metadata": {
  "name": "",
  "signature": "sha256:67a054e9c69d1f66c3f6799c0dedb35f208b406e1ccee7bfc635209e315d22d8"
 },
 "nbformat": 3,
 "nbformat_minor": 0,
 "worksheets": [
  {
   "cells": [
    {
     "cell_type": "heading",
     "level": 1,
     "metadata": {},
     "source": [
      "Example:  Pendulum"
     ]
    },
    {
     "cell_type": "markdown",
     "metadata": {},
     "source": [
      "In this example, we will simulate the motion of a pendulum using Newton's second law in polar coordinates. Applying Newton's second law gives:\n",
      "\n",
      "$$\\ddot{\\phi}=-\\frac{g}{R}\\sin(\\phi)$$\n",
      "\n",
      "We can update $\\dot{\\phi}$ using the approximation\n",
      "\n",
      "$$\\dot{\\phi}=\\dot{\\phi} + \\ddot{\\phi}\\Delta t$$\n",
      "\n",
      "We can update ${\\phi}$ using the approximation\n",
      "\n",
      "$$\\phi = \\phi + \\dot{\\phi}\\Delta t$$\n",
      "\n",
      "Note that this is the angle the string makes with the $-y$ axis. Thus the position of the pendulum is \n",
      "\n",
      "$$\\vec{r}=<R\\cos(\\phi),-R\\sin(\\phi),0>$$\n",
      "\n",
      "Assume that the radius of the pendulum is 1 m and it starts from rest. "
     ]
    },
    {
     "cell_type": "code",
     "collapsed": false,
     "input": [
      "from __future__ import division, print_function\n",
      "from ivisual import *\n",
      "from math import *"
     ],
     "language": "python",
     "metadata": {},
     "outputs": []
    },
    {
     "cell_type": "code",
     "collapsed": false,
     "input": [
      "\n",
      "scene = canvas(title='Pendulum')\n",
      "\n",
      "#length of pendulum\n",
      "R=1\n",
      "\n",
      "#initial angle with respect to -y axis\n",
      "phi_deg=45\n",
      "phi=phi_deg*pi/180 #phi in rad\n",
      "\n",
      "#gravitational field in N/kg\n",
      "g=9.8\n",
      "\n",
      "#initial angular velocity\n",
      "phidot=0  #rad/s\n",
      "\n",
      "t=0\n",
      "dt=0.01\n",
      "\n",
      "#position vector\n",
      "r=R*vector(sin(phi),-cos(phi),0)\n",
      "\n",
      "pendulum=sphere(pos=r, radius=R/15, color=color.yellow)\n",
      "rarrow=arrow(pos=(0,0,0), axis=r, shaftwidth=R/25, color=color.orange)\n",
      "\n",
      "while t<5:\n",
      "    rate(100)\n",
      "    \n",
      "    #update phidotdot, phidot, phi\n",
      "    phidotdot=-g/R*sin(phi)\n",
      "    phidot=phidot+phidotdot*dt\n",
      "    phi=phi+phidot*dt\n",
      "    \n",
      "    #update r\n",
      "    r=R*vector(sin(phi),-cos(phi),0)\n",
      "    pendulum.pos=r\n",
      "    rarrow.axis=r\n",
      "    \n",
      "    t=t+dt"
     ],
     "language": "python",
     "metadata": {},
     "outputs": [
      {
       "html": [
        "<div id=\"scene\"><div id=\"glowscript\" class=\"glowscript\"></div></div>"
       ],
       "metadata": {},
       "output_type": "display_data",
       "text": [
        "<IPython.core.display.HTML at 0x103f1fb10>"
       ]
      },
      {
       "javascript": [
        "require.undef(\"nbextensions/glow.1.0.min\");"
       ],
       "metadata": {},
       "output_type": "display_data",
       "text": [
        "<IPython.core.display.Javascript at 0x104fb9590>"
       ]
      },
      {
       "javascript": [
        "require.undef(\"nbextensions/glowcomm\");"
       ],
       "metadata": {},
       "output_type": "display_data",
       "text": [
        "<IPython.core.display.Javascript at 0x104fb95d0>"
       ]
      },
      {
       "javascript": [
        "require([\"nbextensions/glowcomm\"], function(){console.log(\"glowcomm loaded\");})"
       ],
       "metadata": {},
       "output_type": "display_data",
       "text": [
        "<IPython.core.display.Javascript at 0x104fb9610>"
       ]
      },
      {
       "html": [
        "<div id=\"scene1\"><div id=\"glowscript\" class=\"glowscript\"></div></div>"
       ],
       "metadata": {},
       "output_type": "display_data",
       "text": [
        "<IPython.core.display.HTML at 0x1065eb090>"
       ]
      },
      {
       "javascript": [
        "window.__context = { glowscript_container: $(\"#glowscript\").removeAttr(\"id\")}"
       ],
       "metadata": {},
       "output_type": "display_data",
       "text": [
        "<IPython.core.display.Javascript at 0x1065eb0d0>"
       ]
      }
     ],
     "prompt_number": 1
    },
    {
     "cell_type": "markdown",
     "metadata": {},
     "source": []
    },
    {
     "cell_type": "code",
     "collapsed": false,
     "input": [],
     "language": "python",
     "metadata": {},
     "outputs": [],
     "prompt_number": 6
    },
    {
     "cell_type": "code",
     "collapsed": false,
     "input": [],
     "language": "python",
     "metadata": {},
     "outputs": []
    }
   ],
   "metadata": {}
  }
 ]
}