{
 "metadata": {
  "name": "",
  "signature": "sha256:d11d0eb2d4fd7d923d03c6c26259019355ab4ecba594ed51ea990685868f8ca6"
 },
 "nbformat": 3,
 "nbformat_minor": 0,
 "worksheets": [
  {
   "cells": [
    {
     "cell_type": "heading",
     "level": 1,
     "metadata": {},
     "source": [
      "Newton's Second Law"
     ]
    },
    {
     "cell_type": "markdown",
     "metadata": {},
     "source": [
      "The general idea is that if you know the net force on a particle and its initial position and velocity, then you can calculate its velocity and position at a later time by integrating Newton's second law. It's common to express Newton's second law as a differential equation.\n",
      "\n",
      "$$\\frac{d^2\\vec{r}}{dt^2}=\\frac{\\vec{F}_{net}}{m}$$\n",
      "\n",
      "The goal is to solve this differential equation for $\\vec{r}$ as a function of time, which is called the equation of motion. We often write time derivatives with a dot (since time derivatives are so common in physics) so Newton's second law looks like this.\n",
      "\n",
      "$$\\ddot{\\vec{r}}=\\frac{\\vec{F}_{net}}{m}$$\n",
      "\n",
      "You have to integrate once to get velocity.\n",
      "\n",
      "$$\\vec{v}=\\vec{v}_0+\\int\\frac{\\vec{F}_{net}}{m}dt$$\n",
      "\n",
      "Then you have to integrate again to get $\\vec{r}$ as a function of time, which is called the equation of motion.\n",
      "\n",
      "For a constant net force this differential equation can be easily solved analytically. (An analytical solution is one where you integrate functions by hand, without a computer.)  For a few other net force functions, such as the force by a spring on a particle, the differential equation can be solved analytically. \n",
      "\n",
      "However, there are many possible forces in nature that give differential equations that can not be solved analytically. In this case, you must use a computer to integrate in small time steps ${\\Delta t}$. After many small time steps, the differential equation leads to predictions of the particle's velocity and position. This is called a numerical solution.\n",
      "\n",
      "In this notebook, you will learn how to numerically integrate Newton's second law to get velocity and how to integrate velocity to get position."
     ]
    },
    {
     "cell_type": "heading",
     "level": 2,
     "metadata": {},
     "source": [
      "Numerical Integration to Calculate Velocity"
     ]
    },
    {
     "cell_type": "markdown",
     "metadata": {},
     "source": [
      "From Newton's second law, the velocity is\n",
      "\n",
      "$$\\vec{v}=\\vec{v}_0+\\int\\frac{\\vec{F}_{net}}{m}dt\\ .$$\n",
      "\n",
      "For any time $t$, the velocity at $t+\\Delta t$ will be\n",
      "\n",
      "$$\\vec{v}_{(t+\\Delta t)}=\\vec{v}_{t}+\\frac{\\vec{F}_{net}}{m}\\Delta t$$\n",
      "\n",
      "Numerically integrating means starting at $t=0$ and repeating this calculation in small time steps $\\Delta t$. In this way, you are summing the quantity $\\frac{\\vec{F}_{net}}{m}\\Delta t$."
     ]
    },
    {
     "cell_type": "heading",
     "level": 2,
     "metadata": {},
     "source": [
      "Numerical Integration to Calculate Position"
     ]
    },
    {
     "cell_type": "markdown",
     "metadata": {},
     "source": [
      "Starting with the definition of velocity $\\vec{v}=\\frac{d\\vec{r}}{dt}$, then \n",
      "\n",
      "$$d\\vec{r}=\\vec{v}dt$$\n",
      "\n",
      "and\n",
      "\n",
      "$$\\vec{r}= \\vec{r}_0 + \\int \\vec{v}dt\\, .$$\n",
      "\n",
      "We can solve this analytically if we know $\\vec{v}(t)$ or we can solve it numerically by summing $\\vec{v}\\Delta t$ for many small time steps, $\\Delta t$. The position at any time $t+\\Delta t$ is\n",
      "\n",
      "$$\\vec{r}_{(t+\\Delta t)} = \\vec{r}_{(t)} + \\vec{v}\\Delta t\\, .$$\n",
      "\n",
      "Note that $\\vec{v}$ is not necessarily constant. So should you use $\\vec{v}_t$ (the velocitiy at the beginning of the time interval) or $\\vec{v}_{(t+\\Delta t)}$ (the velocity at the end of the time interval) or perhaps an average of the two?  A fairly accurate and simple method is called the Euler-Cromer method. In this case, you evaluate the velocity at the end of the time interval first and then use this velocity to find the position. Thus,\n",
      "\n",
      "$$\\vec{r}_{(t+\\Delta t)} = \\vec{r}_{(t)} + \\vec{v}_{(t+\\Delta t)}\\Delta t\\, .$$\n",
      "\n",
      "By repeating this calculation in a loop from $t=0$ to $t=t_f$, you are effectively integrating numerically."
     ]
    },
    {
     "cell_type": "heading",
     "level": 2,
     "metadata": {},
     "source": [
      "Putting the Steps Together"
     ]
    },
    {
     "cell_type": "markdown",
     "metadata": {},
     "source": [
      "To integrate Newton's second law to determine the position and velocity of a particle at all times, we must apply the following steps in a loop, using small time steps $\\Delta t$:\n",
      "\n",
      "1. Calculate the net force (because it might not be constant).\n",
      "2. Update the velocity.\n",
      "3. Update the position."
     ]
    },
    {
     "cell_type": "markdown",
     "metadata": {},
     "source": [
      "Also you have to know the initial conditions: \n",
      "\n",
      "1. $\\vec{r}_0$\n",
      "2. $\\vec{v}_0$\n",
      "\n",
      "These should be defined at the beginning of the loop."
     ]
    },
    {
     "cell_type": "heading",
     "level": 2,
     "metadata": {},
     "source": [
      "Example - Ideal Projectile Motion"
     ]
    },
    {
     "cell_type": "markdown",
     "metadata": {},
     "source": [
      "Suppose that a 0.05 kg projectile is launched with an initial speed of 30 m/s at an angle of 50$^\\circ$, and it lands at approximately the same height from which it was launched. Calculate the total time that it is in the air and the total horizontal distance traveled."
     ]
    },
    {
     "cell_type": "code",
     "collapsed": false,
     "input": [
      "from __future__ import division, print_function\n",
      "from ivisual import *\n",
      "from math import *"
     ],
     "language": "python",
     "metadata": {},
     "outputs": [],
     "prompt_number": 12
    },
    {
     "cell_type": "code",
     "collapsed": false,
     "input": [
      "scene=canvas(title=\"Projectile\")\n",
      "\n",
      "m=0.05 #kg\n",
      "g=9.8 #N/kg\n",
      "v0=30 #m/s\n",
      "theta=50 #deg\n",
      "theta_rad=50*pi/180\n",
      "\n",
      "#initial conditions\n",
      "r=vector(0,0,0)\n",
      "v=v0*vector(cos(theta_rad),sin(theta_rad),0)\n",
      "Fnet=vector(0,-m*g,0)\n",
      "\n",
      "t=0\n",
      "dt=0.01\n",
      "\n",
      "projectile=sphere(pos=r, radius=2, color=color.red)\n",
      "ground=box(pos=(0,0,0), size=(200,1,20), color=color.green)\n",
      "\n",
      "while r.y>-0.1:\n",
      "    rate(100)\n",
      "    \n",
      "    #3 steps: calculate force, update velocity, update position\n",
      "    Fnet=vector(0,-m*g,0)\n",
      "    v=v+Fnet/m*dt\n",
      "    r=r+v*dt\n",
      "    \n",
      "    #updating the clock is a good idea in case you are graphing data\n",
      "    #or you need to run the while loop for a certain amount of time\n",
      "    t=t+dt\n",
      "    \n",
      "    projectile.pos=r\n",
      "    \n",
      "print(\"Total time in the air =\",t, \" s\")\n",
      "print(\"Total horizontal distance traveled =\", r.x, \" m\")"
     ],
     "language": "python",
     "metadata": {},
     "outputs": [
      {
       "html": [
        "<div id=\"scene12\"><div id=\"glowscript\" class=\"glowscript\"></div></div>"
       ],
       "metadata": {},
       "output_type": "display_data",
       "text": [
        "<IPython.core.display.HTML at 0x1037f74d0>"
       ]
      },
      {
       "javascript": [
        "window.__context = { glowscript_container: $(\"#glowscript\").removeAttr(\"id\")}"
       ],
       "metadata": {},
       "output_type": "display_data",
       "text": [
        "<IPython.core.display.Javascript at 0x1037ce8d0>"
       ]
      },
      {
       "output_type": "stream",
       "stream": "stdout",
       "text": [
        "Total time in the air = 4.69  s\n",
        "Total horizontal distance traveled = 90.4402166829  m\n"
       ]
      }
     ],
     "prompt_number": 14
    },
    {
     "cell_type": "markdown",
     "metadata": {},
     "source": [
      "How would you modify the previous program in order to find the maximum height that the projectile traveled? Modify it now and print the maximum height traveled. (Hint: at the maximum height, $v_y=0$. However, the data point closest to this will have $|v_y|<$0.05 where 0.05 is a small value that you can adjust as necessary.)"
     ]
    },
    {
     "cell_type": "code",
     "collapsed": false,
     "input": [],
     "language": "python",
     "metadata": {},
     "outputs": []
    }
   ],
   "metadata": {}
  }
 ]
}