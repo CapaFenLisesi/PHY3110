{
 "metadata": {
  "name": "",
  "signature": "sha256:08ec1d16c62c788fd6d3b44f3d283423b985dbca0dc135176f6abb94ea5a289c"
 },
 "nbformat": 3,
 "nbformat_minor": 0,
 "worksheets": [
  {
   "cells": [
    {
     "cell_type": "heading",
     "level": 1,
     "metadata": {},
     "source": [
      "Velocity in Cartesian Coordinates"
     ]
    },
    {
     "cell_type": "markdown",
     "metadata": {},
     "source": [
      "Velocity is defined as \n",
      "\n",
      "$$\\vec{v}=\\frac{d\\vec{r}}{dt}.$$\n",
      "\n",
      "In Cartesian coordinates, \n",
      "\n",
      "$$\\vec{r}=x\\hat{x}+y\\hat{r}+z\\hat{z}\\, .$$\n",
      "\n",
      "Since $\\hat{x}$, $\\hat{y}$, and $\\hat{z}$ are constant in time, then their time-derivatives are zero and we can write the velocity as \n",
      "\n",
      "$$\\vec{v}=\\frac{dx}{dt}\\hat{x} + \\frac{dy}{dt}\\hat{y} + \\frac{dz}{dt}\\hat{z}\\, .$$\n",
      "\n",
      "If you know $\\vec{r}$ as a function of time, then you can take the derivative to get $\\vec{v}$ as a function of time."
     ]
    },
    {
     "cell_type": "heading",
     "level": 2,
     "metadata": {},
     "source": [
      "Example"
     ]
    },
    {
     "cell_type": "markdown",
     "metadata": {},
     "source": [
      "Suppose that the position of a particle is:\n",
      "\n",
      "$$\\vec{r}(t)=R\\cos(\\omega t)\\hat{x} + R\\sin(\\omega t)\\hat{y}$$\n",
      "\n",
      "where $R=1$ m and $\\omega=\\pi$ rad/s.  What is $\\vec{v}(t)$?  Write an iVisual program to animate the motion of the particle. Draw an arrow for the position of the particle. Draw an arrow for the velocity of the particle. You may have to scale the velocity arrow to make its size appropriate for the screen."
     ]
    },
    {
     "cell_type": "markdown",
     "metadata": {},
     "source": [
      "The derivative is\n",
      "\n",
      "$$\\vec{v}=\\frac{d\\vec{r}}{dt}=-R\\omega\\sin(\\omega t)\\hat{x} + R\\omega\\cos(\\omega t)\\hat{y}$$\n",
      "\n",
      "Now let's write a program to simulate the motion of the particle."
     ]
    },
    {
     "cell_type": "code",
     "collapsed": false,
     "input": [
      "from __future__ import division, print_function\n",
      "from ivisual import *\n",
      "from math import *"
     ],
     "language": "python",
     "metadata": {},
     "outputs": [],
     "prompt_number": 12
    },
    {
     "cell_type": "code",
     "collapsed": false,
     "input": [
      "scene = canvas(title=\"Animation of Particle's Motion\")\n",
      "\n",
      "t=0\n",
      "dt=0.01\n",
      "\n",
      "R=1\n",
      "omega=pi\n",
      "r=R*vector(cos(omega*t), sin(omega*t),0)\n",
      "v=R*omega*vector(-sin(omega*t), cos(omega*t), 0)\n",
      "\n",
      "particle=sphere(pos=r, radius=R/10, color=color.red, make_trail=True)\n",
      "\n",
      "sw=R/20\n",
      "rarrow=arrow(pos=(0,0,0), axis=r, shaftwidth=sw, color=color.yellow)\n",
      "vscale=0.2\n",
      "varrow=arrow(pos=r, axis=vscale*v, shaftwidth=sw, color=color.magenta)\n",
      "\n",
      "while t<4:\n",
      "    rate(100)\n",
      "    r=R*vector(cos(omega*t), sin(omega*t),0)\n",
      "    v=R*omega*vector(-sin(omega*t), cos(omega*t), 0)\n",
      "    particle.pos=r\n",
      "    rarrow.axis=r\n",
      "    varrow.pos=r\n",
      "    varrow.axis=vscale*v\n",
      "    t=t+dt"
     ],
     "language": "python",
     "metadata": {},
     "outputs": [
      {
       "html": [
        "<div id=\"scene15\"><div id=\"glowscript\" class=\"glowscript\"></div></div>"
       ],
       "metadata": {},
       "output_type": "display_data",
       "text": [
        "<IPython.core.display.HTML at 0x105621bd0>"
       ]
      },
      {
       "javascript": [
        "window.__context = { glowscript_container: $(\"#glowscript\").removeAttr(\"id\")}"
       ],
       "metadata": {},
       "output_type": "display_data",
       "text": [
        "<IPython.core.display.Javascript at 0x105433610>"
       ]
      }
     ],
     "prompt_number": 19
    },
    {
     "cell_type": "heading",
     "level": 2,
     "metadata": {},
     "source": [
      "Integrating velocity to get position"
     ]
    },
    {
     "cell_type": "markdown",
     "metadata": {},
     "source": [
      "Starting with the definition of velocity, then \n",
      "\n",
      "$$d\\vec{r}=\\vec{v}dt$$\n",
      "\n",
      "and\n",
      "\n",
      "$$\\vec{r}= \\vec{r}_0 + \\int \\vec{v}dt\\, .$$\n",
      "\n",
      "We can solve this analytically if we know $\\vec{v}(t)$ or we can solve it numerically by summing $\\vec{v}\\Delta t$ for many small time steps, $\\Delta t$. The position at any time $t+\\Delta t$ is\n",
      "\n",
      "$$\\vec{r}_{(t+\\Delta t)} = \\vec{r}_{(t)} + \\vec{v}\\Delta t\\, .$$\n",
      "\n",
      "Note that $\\vec{v}$ is not necessarily constant, so should you use $\\vec{v}_t$ (the velocitiy at the beginning of the time interval) or $\\vec{v}_{(t+\\Delta t)}$ (the velocity at the end of the time interval) or perhaps an average of the two.  A fairly accurate and simple method is called the Euler-Cromer method. In this case, you evaluate the velocity at the end of the time interval first and then use this velocity to find the position. Thus,\n",
      "\n",
      "$$\\vec{r}_{(t+\\Delta t)} = \\vec{r}_{(t)} + \\vec{v}_{(t+\\Delta t)}\\Delta t\\, .$$\n",
      "\n",
      "By repeating this calculation in a loop from $t=0$ to $t=t_f$, you are effectively integrating numerically."
     ]
    },
    {
     "cell_type": "heading",
     "level": 2,
     "metadata": {},
     "source": [
      "Example"
     ]
    },
    {
     "cell_type": "markdown",
     "metadata": {},
     "source": [
      "Suppose that a particle has a velocity \n",
      "\n",
      "$$\\vec{v}=A\\hat{x} + B\\cos(\\omega t)\\hat{y}$$\n",
      "\n",
      "where $A=0.5$ m/s, $B=1$ m/s, and $\\omega=2\\pi$ rad/s. Assume that at $t=0$, $\\vec{r}=<0,0,0>$.\n",
      "\n",
      "Use numerical integration to find its position $\\vec{r}$ as a function of time. Graph $x(t)$ and $y(t)$ using matplotlib. Analytically find the function $\\vec{r}(t)$ and compare the result to the graphs."
     ]
    },
    {
     "cell_type": "code",
     "collapsed": false,
     "input": [
      "from __future__ import division, print_function\n",
      "from ivisual import *\n",
      "from math import *"
     ],
     "language": "python",
     "metadata": {},
     "outputs": [],
     "prompt_number": 31
    },
    {
     "cell_type": "code",
     "collapsed": false,
     "input": [
      "scene2=canvas(title=\"Integrating velocity to calculation position\")\n",
      "\n",
      "t=0\n",
      "dt=0.01\n",
      "\n",
      "A=0.5\n",
      "B=1\n",
      "omega=2*pi\n",
      "\n",
      "r=vector(0,0,0)\n",
      "v=vector(A,B*cos(omega*t),0)\n",
      "\n",
      "particle=sphere(pos=r, radius=1/20, color=color.red, make_trail=True)\n",
      "scene2.range=1\n",
      "\n",
      "#store data in lists for graphing\n",
      "tlist=[]\n",
      "xlist=[]\n",
      "ylist=[]\n",
      "\n",
      "while t<4:\n",
      "    rate(100)\n",
      "    #calculate v(t)\n",
      "    v=vector(A,B*cos(omega*t),0)\n",
      "    \n",
      "    #update position\n",
      "    r=r+v*dt\n",
      "    particle.pos=r\n",
      "\n",
      "    #update clock\n",
      "    t=t+dt\n",
      "\n",
      "    #append data to lists\n",
      "    tlist.append(t)\n",
      "    xlist.append(r.x)\n",
      "    ylist.append(r.y)\n",
      "\n",
      "#print(tlist)\n",
      "#print(xlist)\n",
      "#print(ylist)"
     ],
     "language": "python",
     "metadata": {},
     "outputs": [
      {
       "html": [
        "<div id=\"scene27\"><div id=\"glowscript\" class=\"glowscript\"></div></div>"
       ],
       "metadata": {},
       "output_type": "display_data",
       "text": [
        "<IPython.core.display.HTML at 0x105678350>"
       ]
      },
      {
       "javascript": [
        "window.__context = { glowscript_container: $(\"#glowscript\").removeAttr(\"id\")}"
       ],
       "metadata": {},
       "output_type": "display_data",
       "text": [
        "<IPython.core.display.Javascript at 0x105635990>"
       ]
      }
     ],
     "prompt_number": 36
    },
    {
     "cell_type": "code",
     "collapsed": false,
     "input": [
      "%matplotlib inline"
     ],
     "language": "python",
     "metadata": {},
     "outputs": [],
     "prompt_number": 37
    },
    {
     "cell_type": "code",
     "collapsed": false,
     "input": [
      "import matplotlib.pyplot as plt"
     ],
     "language": "python",
     "metadata": {},
     "outputs": [],
     "prompt_number": 38
    },
    {
     "cell_type": "code",
     "collapsed": false,
     "input": [
      "plt.title('x vs t')\n",
      "plt.xlabel('time (s)')\n",
      "plt.ylabel('x (m)')\n",
      "plt.plot(tlist, xlist, 'b.')\n",
      "plt.show()"
     ],
     "language": "python",
     "metadata": {},
     "outputs": [
      {
       "metadata": {},
       "output_type": "display_data",
       "png": "[encoded data removed]",
       "text": [
        "<matplotlib.figure.Figure at 0x109018050>"
       ]
      }
     ],
     "prompt_number": 39
    },
    {
     "cell_type": "code",
     "collapsed": false,
     "input": [
      "plt.title('y vs t')\n",
      "plt.xlabel('time (s)')\n",
      "plt.ylabel('y (m)')\n",
      "plt.plot(tlist, ylist, 'r.')\n",
      "plt.show()"
     ],
     "language": "python",
     "metadata": {},
     "outputs": [
      {
       "metadata": {},
       "output_type": "display_data",
       "png": "[encoded data removed]",
       "text": [
        "<matplotlib.figure.Figure at 0x108ca2190>"
       ]
      }
     ],
     "prompt_number": 40
    },
    {
     "cell_type": "markdown",
     "metadata": {},
     "source": [
      "Integrating analytically gives:\n",
      "\n",
      "$$\\vec{r}= \\vec{r}_0 + \\int \\vec{v}dt$$\n",
      "\n",
      "$$\\vec{r}= \\int \\vec{v}dt$$\n",
      "\n",
      "$$\\vec{r}= \\int_0^t (A\\hat{x} + B\\cos(\\omega t)\\hat{y})dt$$\n",
      "\n",
      "$$\\vec{r}= At\\hat{x} + \\frac{B}{\\omega}\\sin(\\omega t)\\hat{y} $$\n",
      "\n",
      "If we substitute the constants $A=0.5$ m/s, $B=1$ m/s, and $\\omega=2\\pi$ rad/s, then the analytic function shows that a graph of $x(t)$ should be linear with a slope of 0.5 m/s. This agrees with the graph of x(t) data shown above. The analytic function shows that $y(t)$ should be a sinusoidal graph (so $y=0$ at $t=0$) with a maximum value of $y=\\frac{1}{2\\pi}=0.16$ m. This agrees with the graph of $y(t)$ data shown above.\n"
     ]
    },
    {
     "cell_type": "code",
     "collapsed": false,
     "input": [],
     "language": "python",
     "metadata": {},
     "outputs": []
    }
   ],
   "metadata": {}
  }
 ]
}