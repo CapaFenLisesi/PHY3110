{
 "metadata": {
  "name": "",
  "signature": "sha256:d0a82edce9179c3475c537e0b4272e85a95523ee4f0d19f93df94abcaa22a257"
 },
 "nbformat": 3,
 "nbformat_minor": 0,
 "worksheets": [
  {
   "cells": [
    {
     "cell_type": "heading",
     "level": 2,
     "metadata": {},
     "source": [
      "Review of Coordinate Transformation"
     ]
    },
    {
     "cell_type": "markdown",
     "metadata": {},
     "source": [
      "The position vector of a point in space depends on how you define your coordinate system.\n",
      "\n",
      "Suppose that one coordinate system $S$ defined by $(x,y,z)$ is fixed at the origin. Suppose that a second coordinate system $S_0$ is defined by axes labeled $(x_0,y_0,z_0)$ with origin at the location $\\Delta \\vec{r}$ relative to the first frame.\n",
      "\n",
      "A particle is at the location $\\vec{r}$ relative to the fixed frame. Relative to the second frame, its location is $\\vec{r}_0$. These vectors are related according to\n",
      "\n",
      "$$\\vec{r}=\\Delta \\vec{r} + \\vec{r}_0.$$\n",
      "\n",
      "Suppose that the second reference frame is moving and starts with its origin aligned with the first reference frame at $t=0$. Then the origin of the moving frame $S_0$, relative to the fixed frame, is at the location\n",
      "\n",
      "$$\\Delta \\vec{r}= \\int \\vec{V}d t$$\n",
      "\n",
      "and the position of the particle in the fixed frame is\n",
      "\n",
      "$$\\vec{r}=\\vec{r}_0 + \\int \\vec{V}dt.$$"
     ]
    },
    {
     "cell_type": "heading",
     "level": 2,
     "metadata": {},
     "source": [
      "Velocity Transformation"
     ]
    },
    {
     "cell_type": "markdown",
     "metadata": {},
     "source": [
      "In frame $S$, the particle's velocity is $\\vec{v}=\\frac{d\\vec{r}}{dt}$. In frame $S_0$, the particle's velocity is $\\vec{v}=\\frac{d\\vec{r}_0}{dt}$. So solve the above equation for $\\vec{r}_0$ and take the derivative with respect to time.\n",
      "\n",
      "$$\\vec{r}_0=\\vec{r} - \\int \\vec{V}dt$$\n",
      "\n",
      "$$\\frac{d\\vec{r}_0}{dt}=\\frac{d\\vec{r}}{dt} - \\frac{d}{dt}(\\int\\vec{V}dt)$$\n",
      "\n",
      "$$\\vec{v}_0= \\vec{v} - \\vec{V}$$"
     ]
    },
    {
     "cell_type": "heading",
     "level": 2,
     "metadata": {},
     "source": [
      "Acceleration Transformation"
     ]
    },
    {
     "cell_type": "markdown",
     "metadata": {},
     "source": [
      "We can also calculate the acceleration of the particle measured in the moving frame. Taking the time derivative again gives\n",
      "\n",
      "$$\\frac{d\\vec{v}_0}{dt}= \\frac{d\\vec{v}}{dt} - \\frac{d\\vec{V}}{dt}$$\n",
      "\n",
      "$$\\vec{a}= \\vec{a}_0 - \\vec{A}$$\n",
      "\n",
      "where $\\vec{A}$ is the acceleration of the moving frame (relative to the fixed frame)."
     ]
    },
    {
     "cell_type": "heading",
     "level": 2,
     "metadata": {},
     "source": [
      "Special case:  $\\vec{V}$ is constant"
     ]
    },
    {
     "cell_type": "markdown",
     "metadata": {},
     "source": [
      "If $\\vec{V}$ is constant, $\\frac{d\\vec{V}}{dt}=0$. Then,\n",
      "\n",
      "$$\\frac{d\\vec{v}_0}{dt}= \\frac{d\\vec{v}}{dt}$$\n",
      "\n",
      "$$\\vec{a}_0=\\vec{a}\\, .$$\n",
      "\n",
      "In this case, observers in the two frames will measure the same acceleration for the particle and will agree on Newton's laws (as well as all other laws). Therefore, a reference frame that moves at a constant velocity relative to an inertial reference is also an inertial reference frame.\n"
     ]
    }
   ],
   "metadata": {}
  }
 ]
}