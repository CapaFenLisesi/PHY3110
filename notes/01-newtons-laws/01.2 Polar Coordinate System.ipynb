{
 "metadata": {
  "name": "",
  "signature": "sha256:bdcb20dff294c656a1be053f93d82e5ec3bb6d5d43dcbf99f7a3184e25389d6e"
 },
 "nbformat": 3,
 "nbformat_minor": 0,
 "worksheets": [
  {
   "cells": [
    {
     "cell_type": "heading",
     "level": 1,
     "metadata": {},
     "source": [
      "01.2 Polar Coordinate System"
     ]
    },
    {
     "cell_type": "markdown",
     "metadata": {},
     "source": [
      "A polar coordinate system is a 2-D coordinate system defined by two unit vectors: \n",
      "\n",
      "1. $\\hat{r}$ which points radially outward from the origin,\n",
      "2. $\\hat{\\phi}$ which is tangent to a circle, typically in the counterclockwise direction.\n",
      "\n",
      "\n",
      "\n",
      "The position of a particle in a polar coordinate system is\n",
      "\n",
      "$$\\vec{r}=r\\hat{r}$$\n",
      "\n",
      "If you know the position of a particle in polar coordinates, you can convert to Cartesian coordinates using\n",
      "\n",
      "$$x=r\\mathrm{cos}\\phi$$\n",
      "\n",
      "$$y=r\\mathrm{sin}\\phi.$$\n",
      "\n",
      "When we write the position of a particle as\n",
      "\n",
      "$$\\vec{r}=r\\hat{r}$$\n",
      "\n",
      "the vector $\\vec{r}$ actually contains information about both $r$ and $\\phi$. That's because the direction $\\hat{r}$ depends on $\\phi$. In Cartesian coordinates, $\\hat{r}$ is\n",
      "\n",
      "$$\\hat{r}=<\\mathrm{cos}\\phi, \\mathrm{sin}\\phi>=\\mathrm{cos}\\phi\\hat{x} + \\mathrm{sin}\\phi\\hat{y}.$$\n",
      "\n",
      "So in Cartesian coordinates, the vector $\\vec{r}$ is\n",
      "\n",
      "$$\\vec{r}=r\\hat{r}=<r\\mathrm{cos}\\phi, r\\mathrm{sin}\\phi>=r\\mathrm{cos}\\phi\\hat{x} + r\\mathrm{sin}\\phi\\hat{y}.$$\n",
      "\n",
      "The unit vector $\\hat{\\phi}$ is perpendicular to $\\hat{r}$. So its components are\n",
      "\n",
      "$$\\hat{\\phi}=<-\\mathrm{sin}\\phi, \\mathrm{cos}\\phi>$$"
     ]
    },
    {
     "cell_type": "heading",
     "level": 2,
     "metadata": {},
     "source": [
      "Displaying polar unit vectors in iVisual"
     ]
    },
    {
     "cell_type": "markdown",
     "metadata": {},
     "source": [
      "Import the necessary packages."
     ]
    },
    {
     "cell_type": "code",
     "collapsed": false,
     "input": [
      "from __future__ import division, print_function\n",
      "from ivisual import *\n",
      "from math import *"
     ],
     "language": "python",
     "metadata": {},
     "outputs": [
      {
       "html": [
        "<div id=\"scene\"><div id=\"glowscript\" class=\"glowscript\"></div></div>"
       ],
       "metadata": {},
       "output_type": "display_data",
       "text": [
        "<IPython.core.display.HTML at 0x10279d4d0>"
       ]
      },
      {
       "javascript": [
        "require.undef(\"nbextensions/glow.1.0.min\");"
       ],
       "metadata": {},
       "output_type": "display_data",
       "text": [
        "<IPython.core.display.Javascript at 0x10457e310>"
       ]
      },
      {
       "javascript": [
        "require.undef(\"nbextensions/glowcomm\");"
       ],
       "metadata": {},
       "output_type": "display_data",
       "text": [
        "<IPython.core.display.Javascript at 0x10457e350>"
       ]
      },
      {
       "javascript": [
        "require([\"nbextensions/glowcomm\"], function(){console.log(\"glowcomm loaded\");})"
       ],
       "metadata": {},
       "output_type": "display_data",
       "text": [
        "<IPython.core.display.Javascript at 0x10457e390>"
       ]
      }
     ],
     "prompt_number": 1
    },
    {
     "cell_type": "markdown",
     "metadata": {},
     "source": [
      "Suppose that we have a vector of length 4 m and angle 30$^\\circ$ from the x axis. Let's draw the vector and the unit vectors $\\hat{r}$ and $\\hat{\\phi}$ in iVisual."
     ]
    },
    {
     "cell_type": "code",
     "collapsed": false,
     "input": [
      "scene = canvas(title='Polar Coordinate System')\n",
      "\n",
      "#draw x, y, z axes\n",
      "L=12 #length of axes\n",
      "sw=L/100 #shiftwidth of axes\n",
      "xaxis=arrow(pos=(-L/2,0,0), axis=(L,0,0), shaftwidth=sw)\n",
      "yaxis=arrow(pos=(0,-L/2,0), axis=(0,L,0), shaftwidth=sw)\n",
      "#zaxis=arrow(pos=(0,0,-L/2), axis=(0,0,L), shaftwidth=sw)\n",
      "\n",
      "#define r and phi\n",
      "r=4\n",
      "phi=30\n",
      "\n",
      "#convert to cartesian coordinates in order to draw in iVisual\n",
      "#You have to convert the angle from degrees to radians\n",
      "r_cart_coord=vector(r*cos(phi*pi/180), r*sin(phi*pi/180),0)\n",
      "\n",
      "#r unit vector\n",
      "rhat=vector(cos(phi*pi/180), sin(phi*pi/180),0)\n",
      "\n",
      "#phi unit vector\n",
      "phihat=vector(-sin(phi*pi/180),cos(phi*pi/180),0)\n",
      "\n",
      "#draw arrows\n",
      "sw=r/25 #shaftwidth for arrows\n",
      "rarrow=arrow(pos=(0,0,0), axis=r_cart_coord, shaftwidth=sw, color=color.orange)\n",
      "rhatarrow=arrow(pos=r_cart_coord, axis=rhat, shaftwidth=sw, color=color.blue)\n",
      "phihatarrow=arrow(pos=r_cart_coord, axis=phihat, shaftwidth=sw, color=color.green)\n"
     ],
     "language": "python",
     "metadata": {},
     "outputs": [
      {
       "html": [
        "<div id=\"scene2\"><div id=\"glowscript\" class=\"glowscript\"></div></div>"
       ],
       "metadata": {},
       "output_type": "display_data",
       "text": [
        "<IPython.core.display.HTML at 0x1046628d0>"
       ]
      },
      {
       "javascript": [
        "window.__context = { glowscript_container: $(\"#glowscript\").removeAttr(\"id\")}"
       ],
       "metadata": {},
       "output_type": "display_data",
       "text": [
        "<IPython.core.display.Javascript at 0x1024b6250>"
       ]
      }
     ],
     "prompt_number": 6
    },
    {
     "cell_type": "markdown",
     "metadata": {},
     "source": [
      "\n"
     ]
    },
    {
     "cell_type": "heading",
     "level": 2,
     "metadata": {},
     "source": [
      "Example"
     ]
    },
    {
     "cell_type": "markdown",
     "metadata": {},
     "source": [
      "Now suppose that the particle moves from this position ($r=4$ m, $30^\\circ$) to a new position ($r=6$ m, $60^\\circ$) in a time of $\\Delta t=1$ s. What is the average velocity of the particle in polar coordinates?\n",
      "\n",
      "We can answer the question analytically, and we can sketch the vectors in order to visualize it. Let's first sketch the vectors and then solve the problem analytically.\n",
      "\n",
      "First, run the code below to draw the new vector."
     ]
    },
    {
     "cell_type": "code",
     "collapsed": false,
     "input": [
      "#define r and phi\n",
      "r2=6\n",
      "phi2=40\n",
      "\n",
      "#convert to cartesian coordinates in order to draw in iVisual\n",
      "#You have to convert the angle from degrees to radians\n",
      "r_cart_coord2=vector(r2*cos(phi2*pi/180), r2*sin(phi2*pi/180),0)\n",
      "\n",
      "#r unit vector\n",
      "rhat2=vector(cos(phi2*pi/180), sin(phi2*pi/180),0)\n",
      "\n",
      "#phi unit vector\n",
      "phihat2=vector(-sin(phi2*pi/180),cos(phi2*pi/180),0)\n",
      "\n",
      "#draw arrows\n",
      "rarrow2=arrow(pos=(0,0,0), axis=r_cart_coord2, shaftwidth=sw, color=color.red)\n",
      "rhatarrow2=arrow(pos=r_cart_coord2, axis=rhat2, shaftwidth=sw, color=color.blue)\n",
      "phihatarrow2=arrow(pos=r_cart_coord2, axis=phihat2, shaftwidth=sw, color=color.green)"
     ],
     "language": "python",
     "metadata": {},
     "outputs": [],
     "prompt_number": 7
    },
    {
     "cell_type": "markdown",
     "metadata": {},
     "source": [
      "Note that the displacement $\\Delta \\vec{r}$ of the particle results in a corresponding change in the unit vectors $\\hat{r}$ and $\\hat{\\phi}$ because their directions changed as well. This does not happen in Cartesian coordinates because $\\hat{x}$ and $\\hat{y}$ for example stay fixed when $\\vec{r}$ changes.\n",
      "\n",
      "The displacement vector during a small time interval is\n",
      "\n",
      "$$\\Delta\\vec{r}=\\Delta r \\hat{r} + r\\Delta\\phi \\hat{\\phi}$$\n",
      "\n",
      "You will notice that it has two components. The $\\hat{r}$ component depends on the change in the magnitude of $r$. The $\\hat{\\phi}$ depends on the change in teh angle $\\phi$ for a (nearly) constant $r$. (This for a small time interval so you can use the final $r$, initial $r$, or average $r$ when computing the $\\hat{\\phi}$ component.)\n",
      "\n",
      "The intantaneous velocity is\n",
      "\n",
      "$$\\dot{\\vec{r}}=\\dot{r} \\hat{r} + r\\dot{\\phi}\\hat{\\phi}$$\n",
      "\n",
      "Let's now show the displacement vector for our example. Note that it is approximate because for visualization purposes I chose a large displacement. I will use the average $r$ when computing the $\\hat{\\phi}$ component. Furthermore, I will use the unit vectors for the second position vector, $\\hat{r}_2$ and $\\hat{\\phi}_2$. "
     ]
    },
    {
     "cell_type": "code",
     "collapsed": false,
     "input": [
      "dr=r2-r #change in r\n",
      "dphi=phi2*pi/180-phi*pi/180 #change in phi in radians\n",
      "drvector=dr*rhat2+(r+r2)/2*dphi*phihat2 #displacement vector using average r\n",
      "\n",
      "#draw displacement vector\n",
      "drarrow=arrow(pos=r_cart_coord, axis=drvector, shaftwidth=sw, color=color.yellow)"
     ],
     "language": "python",
     "metadata": {},
     "outputs": [],
     "prompt_number": 8
    },
    {
     "cell_type": "markdown",
     "metadata": {},
     "source": [
      "You will notice that it's a little bit off. It should point from the first position vector (orange) to the second position vector (red). The reason it is off is that it is an approximation that is only valid for small displacements (which are presumably during small time intervals).\n",
      "\n",
      "To see that the approximation improves for a smaller displacement and also works for obvious cases (like linear motion along a radial line), try changing the second position vector and viewing the results. Note that you may have to restart the kernel and run each cell again after changing $\\vec{r}_2$.\n",
      "\n",
      "Try:\n",
      "\n",
      "$$r_2=4\\ \\mathrm{m},\\ \\phi_2=45^\\circ$$\n",
      "\n",
      "and\n",
      "\n",
      "$$r_2=6\\ \\mathrm{m},\\ \\phi_2=30^\\circ$$\n"
     ]
    },
    {
     "cell_type": "code",
     "collapsed": false,
     "input": [],
     "language": "python",
     "metadata": {},
     "outputs": [],
     "prompt_number": 15
    },
    {
     "cell_type": "code",
     "collapsed": false,
     "input": [],
     "language": "python",
     "metadata": {},
     "outputs": []
    }
   ],
   "metadata": {}
  }
 ]
}