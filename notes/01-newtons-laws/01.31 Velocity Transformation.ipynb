{
 "metadata": {
  "name": "",
  "signature": "sha256:5974ddda8ed31e71aec82f84364961a4db7e3d211d9b6cb5c49a52e624f90ccf"
 },
 "nbformat": 3,
 "nbformat_minor": 0,
 "worksheets": [
  {
   "cells": [
    {
     "cell_type": "heading",
     "level": 2,
     "metadata": {},
     "source": [
      "Review of Coordinate Transformation"
     ]
    },
    {
     "cell_type": "markdown",
     "metadata": {},
     "source": [
      "The position vector of a point in space depends on how you define your coordinate system.\n",
      "\n",
      "Suppose that one coordinate system $S$ defined by $(x,y,z)$ is fixed at the origin. Suppose that a second coordinate system $S_0$ is defined by axes labeled $(x_0,y_0,z_0)$ with origin at the location $\\Delta \\vec{r}$ relative to the first frame.\n",
      "\n",
      "A particle is at the location $\\vec{r}$ relative to the fixed frame. Relative to the second frame, its location is $\\vec{r}_0$. These vectors are related according to\n",
      "\n",
      "$$\\vec{r}=\\Delta \\vec{r} + \\vec{r}_0.$$\n",
      "\n",
      "Suppose that the second reference frame is moving and starts with its origin aligned with the first reference frame at $t=0$. Then the origin of the moving frame $S_0$, relative to the fixed frame, is at the location\n",
      "\n",
      "$$\\Delta \\vec{r}= \\int \\vec{V}d t$$\n",
      "\n",
      "and the position of the particle in the fixed frame is\n",
      "\n",
      "$$\\vec{r}=\\vec{r}_0 + \\int \\vec{V}dt.$$"
     ]
    },
    {
     "cell_type": "heading",
     "level": 2,
     "metadata": {},
     "source": [
      "Velocity Transformation"
     ]
    },
    {
     "cell_type": "markdown",
     "metadata": {},
     "source": [
      "In frame $S$, the particle's velocity is $\\vec{v}=\\frac{d\\vec{r}}{dt}$. In frame $S_0$, the particle's velocity is $\\vec{v}=\\frac{d\\vec{r}_0}{dt}$. So solve the above equation for $\\vec{r}_0$ and take the derivative with respect to time.\n",
      "\n",
      "$$\\vec{r}_0=\\vec{r} - \\int \\vec{V}dt$$\n",
      "\n",
      "$$\\frac{d\\vec{r}_0}{dt}=\\frac{d\\vec{r}}{dt} - \\frac{d}{dt}(\\int\\vec{V}dt)$$\n",
      "\n",
      "$$\\vec{v}_0= \\vec{v} - \\vec{V}$$"
     ]
    },
    {
     "cell_type": "heading",
     "level": 2,
     "metadata": {},
     "source": [
      "Acceleration Transformation"
     ]
    },
    {
     "cell_type": "markdown",
     "metadata": {},
     "source": [
      "We can also calculate the acceleration of the particle measured in the moving frame. Taking the time derivative again gives\n",
      "\n",
      "$$\\frac{d\\vec{v}_0}{dt}= \\frac{d\\vec{v}}{dt} - \\frac{d\\vec{V}}{dt}$$\n",
      "\n",
      "$$\\vec{a}_0= \\vec{a} - \\vec{A}$$\n",
      "\n",
      "where $\\vec{A}$ is the acceleration of the moving frame (relative to the fixed frame)."
     ]
    },
    {
     "cell_type": "heading",
     "level": 2,
     "metadata": {},
     "source": [
      "Special case:  $\\vec{V}$ is constant"
     ]
    },
    {
     "cell_type": "markdown",
     "metadata": {},
     "source": [
      "If $\\vec{V}$ is constant, $\\vec{A}=\\frac{d\\vec{V}}{dt}=0$. Then,\n",
      "\n",
      "$$\\vec{a}_0=\\vec{a}\\, .$$\n",
      "\n",
      "In this case, observers in the two frames will measure the same acceleration for the particle and will agree on Newton's laws (as well as all other laws). Therefore, a reference frame that moves at a constant velocity relative to an inertial reference is also an inertial reference frame.\n"
     ]
    },
    {
     "cell_type": "code",
     "collapsed": false,
     "input": [],
     "language": "python",
     "metadata": {},
     "outputs": []
    }
   ],
   "metadata": {}
  }
 ]
}