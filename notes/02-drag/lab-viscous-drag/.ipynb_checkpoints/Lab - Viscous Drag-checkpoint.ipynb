{
 "metadata": {
  "name": "",
  "signature": "sha256:588bb510fbc7df51a8bbfb5b37f0310e2a90433680c6b22e2b10625a9f407052"
 },
 "nbformat": 3,
 "nbformat_minor": 0,
 "worksheets": [
  {
   "cells": [
    {
     "cell_type": "heading",
     "level": 1,
     "metadata": {},
     "source": [
      "LAB - Viscous Drag"
     ]
    },
    {
     "cell_type": "markdown",
     "metadata": {},
     "source": [
      "In this experiment, we measured the terminal speed of different diameter steel balls in corn syrup. The purpose of this notebook is to show you how to plot data and best-fit curve."
     ]
    },
    {
     "cell_type": "code",
     "collapsed": false,
     "input": [
      "import matplotlib.pyplot as plt\n",
      "from numpy import *"
     ],
     "language": "python",
     "metadata": {},
     "outputs": [],
     "prompt_number": 3
    },
    {
     "cell_type": "code",
     "collapsed": false,
     "input": [
      "#tab-delimited data\n",
      "#\n",
      "#D  vterm  note that the first data point 0,0 was added to show the graph going through the origin\n",
      "datalist = \"\"\"\n",
      "0\t0\n",
      "0.00238125\t0.00674\n",
      "0.003175\t0.0113\n",
      "0.00396875\t0.0179\n",
      "0.0047625\t0.0242\n",
      "0.00635\t0.0391\n",
      "\"\"\".split('\\n')  # split this string on the \"newline\" character.\n",
      "\n",
      "#\n",
      "# Here we'll take the list of strings defined above and break it into actual numbers.\n",
      "#\n",
      "\n",
      "Dlist = [] #D\n",
      "D2list = [] #D^2\n",
      "vlist = [] #terminal speed\n",
      "\n",
      "for s in datalist:\n",
      "    if s:\n",
      "        D,v = s.split()     # break string in two strings (using tab as the delimiter)\n",
      "        D=float(D)          # convert string to float\n",
      "        v=float(v)          # convert string to float\n",
      "        Dlist.append(D)\n",
      "        D2list.append(D*D)\n",
      "        vlist.append(v)\n",
      "\n",
      "slope=1100\n",
      "vtheor=slope*array(D2list)\n",
      "\n",
      "plt.title('terminal speed vs diameter')\n",
      "plt.xlabel('D^2 (m)')\n",
      "plt.ylabel('v_term (m/s)')\n",
      "plt.plot(D2list,vlist,'b.', D2list, vtheor, 'r-')\n",
      "plt.show()\n"
     ],
     "language": "python",
     "metadata": {},
     "outputs": [],
     "prompt_number": 12
    },
    {
     "cell_type": "code",
     "collapsed": false,
     "input": [],
     "language": "python",
     "metadata": {},
     "outputs": [],
     "prompt_number": 8
    },
    {
     "cell_type": "code",
     "collapsed": false,
     "input": [],
     "language": "python",
     "metadata": {},
     "outputs": []
    }
   ],
   "metadata": {}
  }
 ]
}