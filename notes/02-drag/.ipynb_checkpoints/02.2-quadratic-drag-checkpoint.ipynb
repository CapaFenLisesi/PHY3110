{
 "metadata": {
  "name": "",
  "signature": "sha256:09492606a3885b63435e9f5d4ec798a0f82046544c37381c3e019ca6367690bf"
 },
 "nbformat": 3,
 "nbformat_minor": 0,
 "worksheets": [
  {
   "cells": [
    {
     "cell_type": "heading",
     "level": 1,
     "metadata": {},
     "source": [
      "02.2 Quadratic Drag"
     ]
    },
    {
     "cell_type": "heading",
     "level": 2,
     "metadata": {},
     "source": [
      "1-D Vertical motion in a gravitational field"
     ]
    },
    {
     "cell_type": "markdown",
     "metadata": {},
     "source": [
      "Most of this section is taken from *Project 1: The Euler Method* by Steve Spicklemire at\n",
      "\n",
      "http://nbviewer.ipython.org/github/sspickle/sci-comp-notebooks/blob/master/P01-Euler-Intro.ipynb "
     ]
    },
    {
     "cell_type": "markdown",
     "metadata": {},
     "source": [
      "The goal is to use the Euler-Cromer method to estimate the drag parameter $c$ for modeling an object in free-fall with quadratic air resistance.\n",
      "\n",
      "Using data from this slide: <http://www.cabrillo.edu/~dbrown/tracker/air_resistance.pdf>\n",
      "\n",
      "and the following model:\n",
      "\n",
      "$$ +c v^2 - m g = m \\frac{dv}{dt}$$\n",
      "\n",
      "you will estimate the value of the parameter $c$. Assume the mass is $m\\approx 3.5\\,{\\rm g}$ and $g\\approx 9.8\\,{\\rm m/s/s}$. Assume the cup is released from rest.\n",
      "\n",
      "Below you will find most of the code already worked out as a detailed example. You need to read the code and understand what it's doing.\n"
     ]
    },
    {
     "cell_type": "code",
     "collapsed": false,
     "input": [
      "#\n",
      "# Here is the raw data for the position of the muffin cup as a function of time. Use the \"split\" function to break it into\n",
      "# a list of (possibly empty) strings.\n",
      "#\n",
      "\n",
      "data = \"\"\"\n",
      "0.000000000E0\t-2.688162330E0\n",
      "3.336670003E-2\t-4.301059729E0\n",
      "6.673340007E-2\t-5.376324661E0\n",
      "1.001001001E-1\t-6.989222059E0\n",
      "1.334668001E-1\t-1.129028179E1\n",
      "1.668335002E-1\t-1.451607658E1\n",
      "2.002002002E-1\t-2.043003371E1\n",
      "2.335669002E-1\t-2.526872591E1\n",
      "2.669336003E-1\t-3.118268303E1\n",
      "3.003003003E-1\t-3.870953756E1\n",
      "3.336670003E-1\t-4.623639208E1\n",
      "3.670337004E-1\t-5.430087907E1\n",
      "4.004004004E-1\t-6.236536606E1\n",
      "4.337671004E-1\t-7.150511799E1\n",
      "4.671338005E-1\t-8.010723744E1\n",
      "5.005005005E-1\t-8.924698937E1\n",
      "5.338672005E-1\t-9.892437376E1\n",
      "5.672339006E-1\t-1.080641257E2\n",
      "6.006006006E-1\t-1.177415101E2\n",
      "6.339673006E-1\t-1.274188945E2\n",
      "6.673340007E-1\t-1.370962788E2\n",
      "7.007007007E-1\t-1.467736632E2\n",
      "7.340674007E-1\t-1.575263126E2\n",
      "7.674341008E-1\t-1.672036969E2\n",
      "8.008008008E-1\t-1.768810813E2\n",
      "8.341675008E-1\t-1.865584657E2\n",
      "8.675342009E-1\t-1.973111150E2\n",
      "9.009009009E-1\t-2.075261319E2\n",
      "9.342676009E-1\t-2.182787812E2\n",
      "9.676343010E-1\t-2.284937981E2\n",
      "\"\"\".split('\\n')  # split this string on the \"newline\" character.\n",
      "\n",
      "print len(data)\n"
     ],
     "language": "python",
     "metadata": {},
     "outputs": [
      {
       "output_type": "stream",
       "stream": "stdout",
       "text": [
        "32\n"
       ]
      }
     ],
     "prompt_number": 2
    },
    {
     "cell_type": "code",
     "collapsed": false,
     "input": [
      "#\n",
      "# Here we'll take the list of strings defined above and break it into actual numbers in \n",
      "# mks units.\n",
      "#\n",
      "\n",
      "tlist = []\n",
      "ylist = []\n",
      "for s in data:\n",
      "    if s:\n",
      "        t,y = s.split()     # break string in two\n",
      "        t=float(t)          # convert time to float\n",
      "        y=float(y)/100.0    # convert distanct (in meters) to float\n",
      "        tlist.append(t)\n",
      "        ylist.append(y)\n",
      "        \n",
      "print \"tlist=\",tlist\n",
      "print \"ylist=\",ylist\n"
     ],
     "language": "python",
     "metadata": {},
     "outputs": [
      {
       "output_type": "stream",
       "stream": "stdout",
       "text": [
        "tlist= [0.0, 0.03336670003, 0.06673340007, 0.1001001001, 0.1334668001, 0.1668335002, 0.2002002002, 0.2335669002, 0.2669336003, 0.3003003003, 0.3336670003, 0.3670337004, 0.4004004004, 0.4337671004, 0.4671338005, 0.5005005005, 0.5338672005, 0.5672339006, 0.6006006006, 0.6339673006, 0.6673340007, 0.7007007007, 0.7340674007, 0.7674341008, 0.8008008008, 0.8341675008, 0.8675342009, 0.9009009009, 0.9342676009, 0.967634301]\n",
        "ylist= [-0.0268816233, -0.04301059729, -0.05376324661, -0.06989222059, -0.1129028179, -0.1451607658, -0.2043003371, -0.2526872591, -0.3118268303, -0.3870953756, -0.4623639208, -0.5430087907, -0.6236536606, -0.7150511799, -0.8010723744, -0.8924698937, -0.9892437376, -1.0806412570000001, -1.177415101, -1.274188945, -1.370962788, -1.4677366319999998, -1.575263126, -1.672036969, -1.768810813, -1.865584657, -1.97311115, -2.075261319, -2.182787812, -2.284937981]\n"
       ]
      }
     ],
     "prompt_number": 9
    },
    {
     "cell_type": "code",
     "collapsed": false,
     "input": [
      "%pylab inline"
     ],
     "language": "python",
     "metadata": {},
     "outputs": [
      {
       "output_type": "stream",
       "stream": "stdout",
       "text": [
        "Populating the interactive namespace from numpy and matplotlib\n"
       ]
      }
     ],
     "prompt_number": 4
    },
    {
     "cell_type": "code",
     "collapsed": false,
     "input": [
      "plot(tlist, ylist)"
     ],
     "language": "python",
     "metadata": {},
     "outputs": [
      {
       "metadata": {},
       "output_type": "pyout",
       "prompt_number": 5,
       "text": [
        "[<matplotlib.lines.Line2D at 0x1080d2110>]"
       ]
      },
      {
       "metadata": {},
       "output_type": "display_data",
       "png": "[encoded data removed]",
       "text": [
        "<matplotlib.figure.Figure at 0x1021d4f10>"
       ]
      }
     ],
     "prompt_number": 5
    },
    {
     "cell_type": "code",
     "collapsed": false,
     "input": [
      "vlist = []  # Velocity list (computed velocities from experimental data)\n",
      "tvlist = []  # time list (times for corresponding velocities)\n",
      "for i in range(1,len(tlist)):\n",
      "    dy=ylist[i]-ylist[i-1]\n",
      "    dt=tlist[i]-tlist[i-1]\n",
      "    vlist.append(dy/dt)\n",
      "    tvlist.append((tlist[i]+tlist[i-1])/2.0)\n",
      "    \n",
      "plot(tvlist,vlist,'g.')"
     ],
     "language": "python",
     "metadata": {},
     "outputs": [
      {
       "metadata": {},
       "output_type": "pyout",
       "prompt_number": 6,
       "text": [
        "[<matplotlib.lines.Line2D at 0x108212b10>]"
       ]
      },
      {
       "metadata": {},
       "output_type": "display_data",
       "png": "[encoded data removed]",
       "text": [
        "<matplotlib.figure.Figure at 0x1080fe310>"
       ]
      }
     ],
     "prompt_number": 6
    },
    {
     "cell_type": "code",
     "collapsed": false,
     "input": [
      "m=0.0035  # kg\n",
      "g=9.8     # m/s\n",
      "b=0.001    # total guess, need to improve\n",
      "\n",
      "v=0.0     # start with zero velocity\n",
      "\n",
      "dt = (tlist[-1]-tlist[0])/(len(tlist)-1)  # time per frame in original video\n",
      "t=0.0\n",
      "\n",
      "vclist = [v]\n",
      "tclist = [t]\n",
      "\n",
      "def deriv(v, t):\n",
      "    return b*v**2/m - g\n",
      "\n",
      "for i in range(len(tlist)):\n",
      "    dv = deriv(v,t)*dt\n",
      "    v += dv\n",
      "    t += dt\n",
      "    \n",
      "    vclist.append(v)\n",
      "    tclist.append(t)\n",
      "    \n",
      "title(\"Comparison of experimental and drag model\")\n",
      "xlabel(\"time(s)\")\n",
      "ylabel(\"velocity (m/s)\")\n",
      "plot(tclist, vclist, 'r-',tvlist,vlist,'g.')\n"
     ],
     "language": "python",
     "metadata": {},
     "outputs": [
      {
       "metadata": {},
       "output_type": "pyout",
       "prompt_number": 7,
       "text": [
        "[<matplotlib.lines.Line2D at 0x1081d5710>,\n",
        " <matplotlib.lines.Line2D at 0x10845cfd0>]"
       ]
      },
      {
       "metadata": {},
       "output_type": "display_data",
       "png": "[encoded data removed]",
       "text": [
        "<matplotlib.figure.Figure at 0x1081d56d0>"
       ]
      }
     ],
     "prompt_number": 7
    },
    {
     "cell_type": "markdown",
     "metadata": {},
     "source": [
      "So, clearly our initial guess of \"b\" was too small. Try again!"
     ]
    },
    {
     "cell_type": "markdown",
     "metadata": {},
     "source": []
    }
   ],
   "metadata": {}
  }
 ]
}