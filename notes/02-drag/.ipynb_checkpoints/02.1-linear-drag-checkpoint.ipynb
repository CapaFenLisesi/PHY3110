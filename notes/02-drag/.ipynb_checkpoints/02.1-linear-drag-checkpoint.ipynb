{
 "metadata": {
  "name": "",
  "signature": "sha256:cd222b2237c180267cde4fe31091c7d5b16b8387f8a1d057327fbc50c0c4ba10"
 },
 "nbformat": 3,
 "nbformat_minor": 0,
 "worksheets": [
  {
   "cells": [
    {
     "cell_type": "heading",
     "level": 1,
     "metadata": {},
     "source": [
      "Linear Drag"
     ]
    },
    {
     "cell_type": "heading",
     "level": 2,
     "metadata": {},
     "source": [
      "Linear drag with no other forces"
     ]
    },
    {
     "cell_type": "markdown",
     "metadata": {},
     "source": [
      "Let's model the motion of a small BB shot horizontally with an air cannon into water. Use the following values:  $b=\\beta D$ where $\\beta \\approx 9\\times 10^{-3}$ N$\\cdot$s/m$^2$ at room temperature. The diameter of the BB is $D=0.5$ mm and its mass is $6\\times10^{-7}$ kg. Assume it has an initial velocity of 5 m/s. What is its total displacement before stopping and approximately how long does it take to stop?"
     ]
    },
    {
     "cell_type": "code",
     "collapsed": false,
     "input": [
      "%matplotlib inline"
     ],
     "language": "python",
     "metadata": {},
     "outputs": [],
     "prompt_number": 27
    },
    {
     "cell_type": "code",
     "collapsed": false,
     "input": [
      "from __future__ import division, print_function\n",
      "from ivisual import *\n",
      "from numpy import *\n",
      "import matplotlib.pyplot as plt"
     ],
     "language": "python",
     "metadata": {},
     "outputs": [],
     "prompt_number": 32
    },
    {
     "cell_type": "code",
     "collapsed": false,
     "input": [
      "beta=9e-3\n",
      "D=0.5e-3\n",
      "m=6e-7\n",
      "vi=5\n",
      "\n",
      "r=vector(0,0,0)\n",
      "v=vector(vi,0,0)\n",
      "\n",
      "t=0\n",
      "dt=0.01\n",
      "\n",
      "tlist=[]\n",
      "xlist=[]\n",
      "vxlist=[]\n",
      "\n",
      "while v.x>0.01:\n",
      "    Fnet=-beta*D*v\n",
      "    v=v+Fnet/m*dt\n",
      "    r=r+v*dt\n",
      "    \n",
      "    t=t+dt\n",
      "    \n",
      "    tlist.append(t)\n",
      "    xlist.append(r.x)\n",
      "    vxlist.append(v.x)\n",
      "    \n",
      "#theoretical curve fit\n",
      "#the array function turns tlist into an array; numpy allows us to use an array in an expression\n",
      "vxtheor=vi*exp(-beta*D/m*array(tlist)) #array of theoretical values for vx\n",
      "xtheor=vi*m/beta/D*(1-exp(-beta*D/m*array(tlist))) #array of theoretical values of x"
     ],
     "language": "python",
     "metadata": {},
     "outputs": [],
     "prompt_number": 56
    },
    {
     "cell_type": "code",
     "collapsed": false,
     "input": [
      "plt.title('vx vs t')\n",
      "plt.xlabel('time (s)')\n",
      "plt.ylabel('vx (m/s)')\n",
      "\n",
      "#plot both the numerical model and the theoretical curve\n",
      "plt.plot(tlist, vxlist, 'b.', tlist, vxtheor, 'r-')\n",
      "plt.show()"
     ],
     "language": "python",
     "metadata": {},
     "outputs": [
      {
       "metadata": {},
       "output_type": "display_data",
       "png": "[encoded data removed]",
       "text": [
        "<matplotlib.figure.Figure at 0x106e6ad50>"
       ]
      }
     ],
     "prompt_number": 57
    },
    {
     "cell_type": "code",
     "collapsed": false,
     "input": [
      "plt.title('x vs t')\n",
      "plt.xlabel('time (s)')\n",
      "plt.ylabel('x (m)')\n",
      "plt.plot(tlist, xlist, 'b.', tlist, xtheor, 'r-')\n",
      "plt.show()"
     ],
     "language": "python",
     "metadata": {},
     "outputs": [
      {
       "metadata": {},
       "output_type": "display_data",
       "png": "[encoded data removed]",
       "text": [
        "<matplotlib.figure.Figure at 0x106e83c10>"
       ]
      }
     ],
     "prompt_number": 58
    },
    {
     "cell_type": "code",
     "collapsed": false,
     "input": [
      "print(\"The displacement is\", \"{0:0.3f}\".format(xlist[len(xlist)-1]),\" m\")"
     ],
     "language": "python",
     "metadata": {},
     "outputs": [
      {
       "output_type": "stream",
       "stream": "stdout",
       "text": [
        "The displacement is 0.615  m\n"
       ]
      }
     ],
     "prompt_number": 59
    },
    {
     "cell_type": "markdown",
     "metadata": {},
     "source": [
      "Finding the total time to stop is ambiguous. Literally, it takes an infinite time to stop since the velocity exponentially decays to zero. Thus we need an operational definition of \"stop.\"  Let's define \"stopping\" as being less than 1% of the initial speed."
     ]
    },
    {
     "cell_type": "code",
     "collapsed": false,
     "input": [
      "i=0\n",
      "for vx in vxlist:\n",
      "    if vx<0.01*vi:\n",
      "        print(\"The time for v < 1% of vx0 is\", \"{0:0.3f}\".format(tlist[i]),\" s\")\n",
      "        break\n",
      "    i=i+1"
     ],
     "language": "python",
     "metadata": {},
     "outputs": [
      {
       "output_type": "stream",
       "stream": "stdout",
       "text": [
        "The time for v < 1% of vx0 is 0.600  s\n"
       ]
      }
     ],
     "prompt_number": 60
    },
    {
     "cell_type": "markdown",
     "metadata": {},
     "source": [
      "Note that the theoretical curve for x(t) does not match numerical model. We're using the Euler-Cromer method for numerically integrating Newton's second law and the velocity, which can lead to high numerical error. \n",
      "\n",
      "How can we increase the accuracy of the numerical model?  Go ahead and do that right now."
     ]
    },
    {
     "cell_type": "heading",
     "level": 2,
     "metadata": {},
     "source": [
      "Linear drag plus a constant applied force"
     ]
    },
    {
     "cell_type": "markdown",
     "metadata": {},
     "source": [
      "Suppose that a small water drop, such as in a mist or aerosol, falls vertically in air from rest. For air at STP, $\\beta=1.6\\times10^{-4}$ N$\\cdot$s/m$^2$. The drop has a diameter of 0.2 mm and mass $4\\times10^{-9}$ kg. Model the motion of the falling drop."
     ]
    },
    {
     "cell_type": "code",
     "collapsed": false,
     "input": [
      "beta=1.6e-4\n",
      "D=0.2e-3\n",
      "m=4e-9\n",
      "vi=0\n",
      "g=9.8\n",
      "vtermy=-m*g/beta/D\n",
      "viy=-vi\n",
      "\n",
      "r=vector(0,0,0)\n",
      "v=vector(0,-vi,0)\n",
      "Fgrav=vector(0,-m*g,0)\n",
      "\n",
      "t=0\n",
      "dt=0.01\n",
      "\n",
      "tlist=[]\n",
      "ylist=[]\n",
      "vylist=[]\n",
      "\n",
      "while t<1:\n",
      "    Fnet=-beta*D*v+Fgrav\n",
      "    v=v+Fnet/m*dt\n",
      "    r=r+v*dt\n",
      "    \n",
      "    t=t+dt\n",
      "    \n",
      "    tlist.append(t)\n",
      "    ylist.append(r.y)\n",
      "    vylist.append(v.y)\n",
      "\n",
      "#print lists\n",
      "#print(tlist)\n",
      "#print(vylist)\n",
      "\n",
      "#theoretical values\n",
      "vytheor=vtermy*(1-exp(-beta*D/m*array(tlist)))+viy*exp(-beta*D/m*array(tlist))\n",
      "ytheor=vtermy*array(tlist)+(viy-vtermy)*(m/beta/D)*(1-exp(-beta*D/m*array(tlist)))"
     ],
     "language": "python",
     "metadata": {},
     "outputs": [],
     "prompt_number": 61
    },
    {
     "cell_type": "code",
     "collapsed": false,
     "input": [
      "plt.title('vy vs t')\n",
      "plt.xlabel('time (s)')\n",
      "plt.ylabel('vy (m/s)')\n",
      "#plot both the numerical model and the theoretical curve\n",
      "plt.plot(tlist, vylist, 'b.', tlist, vytheor, 'r-')\n",
      "plt.show()"
     ],
     "language": "python",
     "metadata": {},
     "outputs": [
      {
       "metadata": {},
       "output_type": "display_data",
       "png": "[encoded data removed]",
       "text": [
        "<matplotlib.figure.Figure at 0x107245150>"
       ]
      }
     ],
     "prompt_number": 62
    },
    {
     "cell_type": "code",
     "collapsed": false,
     "input": [
      "plt.title('y vs t')\n",
      "plt.xlabel('time (s)')\n",
      "plt.ylabel('y (m)')\n",
      "#plot both the numerical model and the theoretical curve\n",
      "plt.plot(tlist, ylist, 'b.', tlist, ytheor, 'r-')\n",
      "plt.show()"
     ],
     "language": "python",
     "metadata": {},
     "outputs": [
      {
       "metadata": {},
       "output_type": "display_data",
       "png": "[encoded data removed]",
       "text": [
        "<matplotlib.figure.Figure at 0x106e7e3d0>"
       ]
      }
     ],
     "prompt_number": 63
    },
    {
     "cell_type": "code",
     "collapsed": false,
     "input": [],
     "language": "python",
     "metadata": {},
     "outputs": []
    }
   ],
   "metadata": {}
  }
 ]
}