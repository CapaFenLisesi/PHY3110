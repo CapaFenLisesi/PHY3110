{
 "metadata": {
  "name": "",
  "signature": "sha256:1596a9d91878743612433117ccafeb410d5c619ad9fcaff810b7f95c89b7a81d"
 },
 "nbformat": 3,
 "nbformat_minor": 0,
 "worksheets": [
  {
   "cells": [
    {
     "cell_type": "heading",
     "level": 1,
     "metadata": {},
     "source": [
      "01.1 Cartesian Coordinate System"
     ]
    },
    {
     "cell_type": "markdown",
     "metadata": {},
     "source": [
      "A Cartesian coordinate system is made up of linear unit vectors perpendicular to each other. A particle's position is\n",
      "\n",
      "$$\\vec{r}=<x,y,z>$$\n",
      "\n",
      "The unit vectors are:\n",
      "\n",
      "$$\\hat{x}=<1,0,0>$$\n",
      "$$\\hat{y}=<0,1,0>$$\n",
      "$$\\hat{z}=<0,0,1>$$\n",
      "\n",
      "We can also write the position vector in terms of these unit vectors.\n",
      "\n",
      "$$\\vec{r}=x\\hat{x}+y\\hat{y}+z\\hat{z}$$\n",
      "\n",
      "The magnitude of the vector is\n",
      "\n",
      "$$|\\vec{r}|=\\sqrt{x^2+y^2+z^2}$$\n",
      "\n",
      "Suppose that the position vector makes angles with the x, y, z axes of $(\\theta_x)$, $(\\theta_y)$, $(\\theta_z)$ respectively. You can calculate each angle using *direction cosines*.\n",
      "\n",
      "$$\\cos\\theta_x = \\frac{x}{|\\vec{r}|}$$\n",
      "$$\\cos\\theta_y = \\frac{y}{|\\vec{r}|}$$\n",
      "$$\\cos\\theta_z = \\frac{z}{|\\vec{r}|}$$"
     ]
    },
    {
     "cell_type": "markdown",
     "metadata": {},
     "source": []
    }
   ],
   "metadata": {}
  }
 ]
}