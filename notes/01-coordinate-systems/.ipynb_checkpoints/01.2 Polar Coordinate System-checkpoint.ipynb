{
 "metadata": {
  "name": "",
  "signature": "sha256:3494bbe6b29aff95c80b6cbfa6e19a6862dcb7645d7281916e108352a0b45a4d"
 },
 "nbformat": 3,
 "nbformat_minor": 0,
 "worksheets": []
}