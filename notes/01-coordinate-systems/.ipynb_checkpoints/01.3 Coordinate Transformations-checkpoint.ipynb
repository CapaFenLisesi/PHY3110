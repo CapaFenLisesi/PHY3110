{
 "metadata": {
  "name": "",
  "signature": "sha256:d3bfca9f0d93ef4b406a4184ed238f0a83de91fb4c99672413fe7a2735520e75"
 },
 "nbformat": 3,
 "nbformat_minor": 0,
 "worksheets": [
  {
   "cells": [
    {
     "cell_type": "heading",
     "level": 1,
     "metadata": {},
     "source": [
      "01.3 Coordinate Transformations"
     ]
    },
    {
     "cell_type": "markdown",
     "metadata": {},
     "source": [
      "The position vector of a point in space depends on how you define your coordinate system.\n",
      "\n",
      "Suppose that one coordinate system defined by $(x,y,z)$ is fixed at the origin. Suppose that a second coordinate system is defined by axes labeled $(x',y',z')$ with origin at the location $\\Delta \\vec{r}$ relative to the first frame.\n",
      "\n",
      "A particle is at the location $\\vec{r}$ relative to the fixed frame. Relative to the second frame, its location is $\\vec{r}^\\prime$. These vectors are related according to\n",
      "\n",
      "$$\\vec{r}=\\Delta \\vec{r} + \\vec{r}^\\prime.$$\n",
      "\n"
     ]
    },
    {
     "cell_type": "heading",
     "level": 2,
     "metadata": {},
     "source": [
      "Drawing two coordinate systems in iVisual"
     ]
    },
    {
     "cell_type": "markdown",
     "metadata": {},
     "source": [
      "Suppose that the first frame is at the origin (or defines the origin). The second frame is aligned with the first frame and is at the location $<1.1,0,0>$ m. An object is at $\\vec{r}=<2,0.5,0>$ m relative to the first frame. What is the object's position relative to the second frame, $\\vec{r}^\\prime$? Sketch the two frames, sketch $\\vec{r}$ and $\\vec{r}^\\prime$."
     ]
    },
    {
     "cell_type": "code",
     "collapsed": false,
     "input": [
      "#import packages\n",
      "from __future__ import division, print_function\n",
      "from ivisual import *"
     ],
     "language": "python",
     "metadata": {},
     "outputs": [
      {
       "html": [
        "<div id=\"scene\"><div id=\"glowscript\" class=\"glowscript\"></div></div>"
       ],
       "metadata": {},
       "output_type": "display_data",
       "text": [
        "<IPython.core.display.HTML at 0x102760d10>"
       ]
      },
      {
       "javascript": [
        "require.undef(\"nbextensions/glow.1.0.min\");"
       ],
       "metadata": {},
       "output_type": "display_data",
       "text": [
        "<IPython.core.display.Javascript at 0x105b306d0>"
       ]
      },
      {
       "javascript": [
        "require.undef(\"nbextensions/glowcomm\");"
       ],
       "metadata": {},
       "output_type": "display_data",
       "text": [
        "<IPython.core.display.Javascript at 0x105b30710>"
       ]
      },
      {
       "javascript": [
        "require([\"nbextensions/glowcomm\"], function(){console.log(\"glowcomm loaded\");})"
       ],
       "metadata": {},
       "output_type": "display_data",
       "text": [
        "<IPython.core.display.Javascript at 0x105b30750>"
       ]
      }
     ],
     "prompt_number": 1
    },
    {
     "cell_type": "code",
     "collapsed": false,
     "input": [
      "#create the scene\n",
      "scene = canvas(title='Linear Coordinate Transformation')\n",
      " \n",
      "#draw first coordinate system\n",
      "L=1\n",
      "sw=L/50\n",
      "xaxis=arrow(pos=(-L/2,0,0), axis=(L,0,0), shaftwidth=sw, fixedwidth=True)\n",
      "yaxis=arrow(pos=(0,-L/2,0), axis=(0,L,0), shaftwidth=sw, fixedwidth=True)\n",
      "zaxis=arrow(pos=(0,0,-L/2), axis=(0,0,L), shaftwidth=sw, fixedwidth=True)\n",
      " \n",
      "#dr is the position of the second coordinate system relative to the first\n",
      "dr=1.1*vector(1,0,0)\n",
      "drarrow=arrow(pos=(0,0,0),axis=dr, shaftwidth=2*sw, fixedwidth=True,  color=color.green)\n",
      " \n",
      "#draw second coordinate system\n",
      "xaxisprime=arrow(pos=vector(-L/2,0,0)+dr, axis=(L,0,0), shaftwidth=sw, fixedwidth=True, color=color.yellow)\n",
      "yaxisprime=arrow(pos=vector(0,-L/2,0)+dr, axis=(0,L,0), shaftwidth=sw, fixedwidth=True, color=color.yellow)\n",
      "zaxisprime=arrow(pos=vector(0,0,-L/2)+dr, axis=(0,0,L), shaftwidth=sw, fixedwidth=True, color=color.yellow)\n",
      " \n",
      "#draw a particle\n",
      "r=vector(2,0.5,0)\n",
      "R=0.1\n",
      "particle=sphere(pos=r, radius=R, color=color.magenta)\n",
      " \n",
      "#calculate the position of the particle in the second coordinate system\n",
      "rprime=r-dr\n",
      " \n",
      "#draw position vector for first coordinate system\n",
      "rarrow=arrow(pos=(0,0,0), axis=r, shaftwidth=2*sw, fixedwidth=True, color=color.cyan)\n",
      "#draw position vector for second coordinate system\n",
      "rprimearrow=arrow(pos=dr, axis=rprime, shaftwidth=2*sw, fixedwidth=True, color=color.blue)"
     ],
     "language": "python",
     "metadata": {},
     "outputs": [
      {
       "html": [
        "<div id=\"scene2\"><div id=\"glowscript\" class=\"glowscript\"></div></div>"
       ],
       "metadata": {},
       "output_type": "display_data",
       "text": [
        "<IPython.core.display.HTML at 0x105a89350>"
       ]
      },
      {
       "javascript": [
        "window.__context = { glowscript_container: $(\"#glowscript\").removeAttr(\"id\")}"
       ],
       "metadata": {},
       "output_type": "display_data",
       "text": [
        "<IPython.core.display.Javascript at 0x105b30350>"
       ]
      }
     ],
     "prompt_number": 5
    },
    {
     "cell_type": "heading",
     "level": 2,
     "metadata": {},
     "source": [
      "Reference frame moving with a constant velocity"
     ]
    },
    {
     "cell_type": "markdown",
     "metadata": {},
     "source": [
      "Suppose that the second reference frame is moving with constant velocity $\\vec{\\beta}$ and starts with its origin aligned with the first reference frame at $t=0$. Then the origin of the moving frame, relative to the fixed frame, is at the location\n",
      "\n",
      "$$\\Delta \\vec{r}= \\vec{\\beta}\\Delta t$$\n",
      "\n",
      "and the position of the particle in the fixed frame is\n",
      "\n",
      "$$\\vec{r}=\\vec{r}^\\prime + \\vec{\\beta}\\Delta t.$$"
     ]
    },
    {
     "cell_type": "heading",
     "level": 2,
     "metadata": {},
     "source": [
      "Moving reference frame in iVisual"
     ]
    },
    {
     "cell_type": "markdown",
     "metadata": {},
     "source": [
      "Suppose that the moving reference frame has a velocity $\\vec{\\beta}=<2,0,0>$ m/s, and the particle is at rest. What is the velocity of the particle relative to the moving reference frame?  \n",
      "\n",
      "Let's write a program to show how the vector $\\vec{r}^\\prime$ changes.\n",
      "\n",
      "Note that when executing the cell below, the scene above will begin changing. To slow it down in order to give you time to scroll up, and see the animation, I put a while loop that counted to 5 in 1 intervals. Thus, it delays 1 second."
     ]
    },
    {
     "cell_type": "code",
     "collapsed": false,
     "input": [
      "#make a list for the prime coord sys axes\n",
      "primecoordsys=[xaxisprime,yaxisprime,zaxisprime]\n",
      "\n",
      "#place moving frame at the origin and update arrows\n",
      "dr=vector(0,0,0)\n",
      "#update prime coord sys\n",
      "xaxisprime.pos=vector(-L/2,0,0)+dr\n",
      "yaxisprime.pos=vector(0,-L/2,0)+dr\n",
      "zaxisprime.pos=vector(0,0,-L/2)+dr\n",
      "#update arrows\n",
      "drarrow.axis=dr\n",
      "rprime=r-dr\n",
      "rprimearrow.pos=dr\n",
      "rprimearrow.axis=rprime\n",
      "\n",
      "#define the velocity of the moving frame\n",
      "beta=vector(2,0,0)\n",
      "t=0\n",
      "dt=0.01\n",
      "\n",
      "#fix the size if the window \n",
      "scene.range=3\n",
      "scene.autoscale=0\n",
      "\n",
      "#delay\n",
      "N=8\n",
      "n=0\n",
      "while n<N:\n",
      "    rate(1)\n",
      "    n=n+1\n",
      "\n",
      "#move the prime coord system and update vectors\n",
      "while t<1.5:\n",
      "    rate(20)\n",
      "    #update prime coord sys\n",
      "    for axis in primecoordsys:\n",
      "        axis.pos=axis.pos+beta*dt\n",
      "\n",
      "    #update vectors\n",
      "    dr=dr+beta*dt\n",
      "    drarrow.axis=dr\n",
      "    rprimearrow.pos=xaxisprime.pos+0.5*xaxisprime.axis\n",
      "    rprimearrow.axis=r-dr\n",
      "    t=t+dt"
     ],
     "language": "python",
     "metadata": {},
     "outputs": [],
     "prompt_number": 6
    },
    {
     "cell_type": "code",
     "collapsed": false,
     "input": [],
     "language": "python",
     "metadata": {},
     "outputs": []
    }
   ],
   "metadata": {}
  }
 ]
}